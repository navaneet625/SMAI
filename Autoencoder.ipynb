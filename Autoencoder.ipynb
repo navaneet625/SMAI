{
  "nbformat": 4,
  "nbformat_minor": 0,
  "metadata": {
    "colab": {
      "name": "Assignment3_q2.ipynb",
      "provenance": [],
      "collapsed_sections": []
    },
    "kernelspec": {
      "display_name": "Python 3",
      "language": "python",
      "name": "python3"
    },
    "language_info": {
      "codemirror_mode": {
        "name": "ipython",
        "version": 3
      },
      "file_extension": ".py",
      "mimetype": "text/x-python",
      "name": "python",
      "nbconvert_exporter": "python",
      "pygments_lexer": "ipython3",
      "version": "3.8.5"
    }
  },
  "cells": [
    {
      "cell_type": "code",
      "metadata": {
        "id": "bip_B2QQI9kc"
      },
      "source": [
        "import tensorflow as tf\n",
        "from tensorflow.keras import datasets, layers, models\n",
        "from tensorflow import keras\n",
        "import matplotlib.pyplot as plt\n",
        "import numpy as np\n",
        "from keras.optimizers import Adam,SGD,RMSprop\n",
        "from keras.layers import Conv2D,MaxPooling2D,Input,BatchNormalization,ReLU,Flatten,Dense,UpSampling2D,Dropout\n",
        "from keras.models import Model\n",
        "from sklearn.model_selection import train_test_split\n",
        "from keras import backend as K "
      ],
      "execution_count": 2,
      "outputs": []
    },
    {
      "cell_type": "code",
      "metadata": {
        "id": "wo3HNJtzI9kr"
      },
      "source": [
        "(x_train, y_train), (x_test, y_test) = datasets.mnist.load_data()"
      ],
      "execution_count": null,
      "outputs": []
    },
    {
      "cell_type": "code",
      "metadata": {
        "colab": {
          "base_uri": "https://localhost:8080/",
          "height": 282
        },
        "id": "olXMxyBLbzce",
        "outputId": "c8ffef3b-aa47-48e0-a4da-99d5dfd28a9a"
      },
      "source": [
        "plt.imshow(x_train[0])"
      ],
      "execution_count": null,
      "outputs": [
        {
          "output_type": "execute_result",
          "data": {
            "text/plain": [
              "<matplotlib.image.AxesImage at 0x7f43b5414a90>"
            ]
          },
          "metadata": {
            "tags": []
          },
          "execution_count": 42
        },
        {
          "output_type": "display_data",
          "data": {
            "image/png": "[encoded data removed]",
            "text/plain": [
              "<Figure size 432x288 with 1 Axes>"
            ]
          },
          "metadata": {
            "tags": [],
            "needs_background": "light"
          }
        }
      ]
    },
    {
      "cell_type": "code",
      "metadata": {
        "colab": {
          "base_uri": "https://localhost:8080/"
        },
        "id": "lK2oXorm1PZu",
        "outputId": "19552367-8f47-408c-ab88-6fda0d6fdffa"
      },
      "source": [
        "x_train.shape,y_train.shape,x_test.shape,y_test.shape"
      ],
      "execution_count": null,
      "outputs": [
        {
          "output_type": "execute_result",
          "data": {
            "text/plain": [
              "((60000, 28, 28, 1), (60000,), (10000, 28, 28, 1), (10000,))"
            ]
          },
          "metadata": {
            "tags": []
          },
          "execution_count": 80
        }
      ]
    },
    {
      "cell_type": "code",
      "metadata": {
        "colab": {
          "base_uri": "https://localhost:8080/"
        },
        "id": "9czpv7oIt-fh",
        "outputId": "617ff276-d70f-4bc9-ae36-7b89ac54869e"
      },
      "source": [
        "x_train = x_train / 255.0\n",
        "x_test = x_test / 255.0\n",
        "np.max(x_train),np.max(x_test)"
      ],
      "execution_count": null,
      "outputs": [
        {
          "output_type": "execute_result",
          "data": {
            "text/plain": [
              "(1.0, 1.0)"
            ]
          },
          "metadata": {
            "tags": []
          },
          "execution_count": 44
        }
      ]
    },
    {
      "cell_type": "code",
      "metadata": {
        "id": "36u5P-rI1hOf"
      },
      "source": [
        "x_train = x_train.reshape(60000,28,28,1)\n",
        "x_test = x_test.reshape(10000,28,28,1)"
      ],
      "execution_count": null,
      "outputs": []
    },
    {
      "cell_type": "code",
      "metadata": {
        "id": "0pM_-5AvAHKZ"
      },
      "source": [
        "train_X,valid_X,train_ground,valid_ground = train_test_split(x_train,x_train, test_size=0.3, random_state=123)"
      ],
      "execution_count": null,
      "outputs": []
    },
    {
      "cell_type": "code",
      "metadata": {
        "id": "DN2xn0oC6jkn"
      },
      "source": [
        "def autoencoder(input_img):\n",
        "  # #encoder\n",
        "  model = Conv2D(8, (3, 3), activation='relu', padding='same')(input_img)\n",
        "  model = MaxPooling2D((2, 2), padding='same')(model)\n",
        "  model = Conv2D(4, (3, 3), activation='relu', padding='same')(model)\n",
        "  encoded = MaxPooling2D((2, 2), padding='same')(model)\n",
        "   \n",
        "  # #decoder\n",
        "  model = Conv2D(4, (3, 3), activation='relu', padding='same')(encoded)\n",
        "  model = layers.UpSampling2D((2, 2))(encoded)\n",
        "  model = Conv2D(8, (3, 3), activation='relu',padding='same')(model)\n",
        "  model = UpSampling2D((2, 2))(model)\n",
        "  decoded = layers.Conv2D(1, (3, 3), activation='sigmoid', padding='same')(model)\n",
        "  return decoded"
      ],
      "execution_count": null,
      "outputs": []
    },
    {
      "cell_type": "code",
      "metadata": {
        "id": "dNvPQ4C97YMG"
      },
      "source": [
        "input_img = Input(shape = (28,28,1))\n",
        "optm_adm = Adam(learning_rate=0.01)\n",
        "optm_RMSprop = Adam(learning_rate=0.01)\n",
        "optm_SGD = Adam(learning_rate=0.01)\n",
        "optm = [optm_adm,optm_RMSprop,optm_SGD]"
      ],
      "execution_count": null,
      "outputs": []
    },
    {
      "cell_type": "code",
      "metadata": {
        "id": "vUpTBDfAVqpo"
      },
      "source": [
        "autoencoder1 = Model(input_img, autoencoder(input_img))\n",
        "autoencoder1.compile(loss='mean_squared_error', optimizer =optm[0])"
      ],
      "execution_count": null,
      "outputs": []
    },
    {
      "cell_type": "code",
      "metadata": {
        "colab": {
          "base_uri": "https://localhost:8080/"
        },
        "id": "GYvpzbKO7rit",
        "outputId": "2e1d31c1-b195-4a11-831d-fac4322fb507"
      },
      "source": [
        "autoencoder1.summary()"
      ],
      "execution_count": null,
      "outputs": [
        {
          "output_type": "stream",
          "text": [
            "Model: \"model_20\"\n",
            "_________________________________________________________________\n",
            "Layer (type)                 Output Shape              Param #   \n",
            "=================================================================\n",
            "input_14 (InputLayer)        [(None, 28, 28, 1)]       0         \n",
            "_________________________________________________________________\n",
            "conv2d_93 (Conv2D)           (None, 28, 28, 8)         80        \n",
            "_________________________________________________________________\n",
            "max_pooling2d_31 (MaxPooling (None, 14, 14, 8)         0         \n",
            "_________________________________________________________________\n",
            "conv2d_94 (Conv2D)           (None, 14, 14, 4)         292       \n",
            "_________________________________________________________________\n",
            "max_pooling2d_32 (MaxPooling (None, 7, 7, 4)           0         \n",
            "_________________________________________________________________\n",
            "up_sampling2d_30 (UpSampling (None, 14, 14, 4)         0         \n",
            "_________________________________________________________________\n",
            "conv2d_96 (Conv2D)           (None, 14, 14, 8)         296       \n",
            "_________________________________________________________________\n",
            "up_sampling2d_31 (UpSampling (None, 28, 28, 8)         0         \n",
            "_________________________________________________________________\n",
            "conv2d_97 (Conv2D)           (None, 28, 28, 1)         73        \n",
            "=================================================================\n",
            "Total params: 741\n",
            "Trainable params: 741\n",
            "Non-trainable params: 0\n",
            "_________________________________________________________________\n"
          ],
          "name": "stdout"
        }
      ]
    },
    {
      "cell_type": "code",
      "metadata": {
        "colab": {
          "base_uri": "https://localhost:8080/"
        },
        "id": "EmgjcpDj7y5I",
        "outputId": "cd9d8de7-2f90-4510-eb59-34fa42824c27"
      },
      "source": [
        "autoencoder_train1 = autoencoder1.fit(train_X, train_ground, batch_size=128,epochs=5,validation_data=(valid_X, valid_ground))"
      ],
      "execution_count": null,
      "outputs": [
        {
          "output_type": "stream",
          "text": [
            "Epoch 1/5\n",
            "329/329 [==============================] - 37s 113ms/step - loss: 0.0485 - val_loss: 0.0124\n",
            "Epoch 2/5\n",
            "329/329 [==============================] - 37s 112ms/step - loss: 0.0119 - val_loss: 0.0111\n",
            "Epoch 3/5\n",
            "329/329 [==============================] - 37s 112ms/step - loss: 0.0110 - val_loss: 0.0112\n",
            "Epoch 4/5\n",
            "329/329 [==============================] - 37s 112ms/step - loss: 0.0109 - val_loss: 0.0108\n",
            "Epoch 5/5\n",
            "329/329 [==============================] - 37s 112ms/step - loss: 0.0106 - val_loss: 0.0105\n"
          ],
          "name": "stdout"
        }
      ]
    },
    {
      "cell_type": "code",
      "metadata": {
        "colab": {
          "base_uri": "https://localhost:8080/"
        },
        "id": "OweKNWIHURoL",
        "outputId": "95d158b6-ca37-417d-c2da-8ce9fea748eb"
      },
      "source": [
        "validation_loss = autoencoder_train1.history['val_loss']\n",
        "loss_= np.mean(np.array(validation_loss))\n",
        "print(\"Average validation loss : \",loss_)"
      ],
      "execution_count": null,
      "outputs": [
        {
          "output_type": "stream",
          "text": [
            "Average validation loss :  0.011219850182533265\n"
          ],
          "name": "stdout"
        }
      ]
    },
    {
      "cell_type": "code",
      "metadata": {
        "colab": {
          "base_uri": "https://localhost:8080/",
          "height": 281
        },
        "id": "sh4m50HBI9k4",
        "outputId": "54ce67ec-d801-42ef-af8b-e3973c2e89bd"
      },
      "source": [
        "loss = autoencoder_train1.history['loss']\n",
        "val_loss = autoencoder_train1.history['val_loss']\n",
        "epochs = range(5)\n",
        "plt.figure()\n",
        "plt.plot(epochs, loss, 'y', label='Training loss')\n",
        "plt.plot(epochs, val_loss, 'b', label='Validation loss')\n",
        "plt.title('Training and validation loss')\n",
        "plt.legend()\n",
        "plt.show()"
      ],
      "execution_count": null,
      "outputs": [
        {
          "output_type": "display_data",
          "data": {
            "image/png": "[encoded data removed]",
            "text/plain": [
              "<Figure size 432x288 with 1 Axes>"
            ]
          },
          "metadata": {
            "tags": [],
            "needs_background": "light"
          }
        }
      ]
    },
    {
      "cell_type": "code",
      "metadata": {
        "colab": {
          "base_uri": "https://localhost:8080/"
        },
        "id": "WELHiGwJYSYY",
        "outputId": "b2c3558e-11b1-4e4f-d34e-b0caa14b03bf"
      },
      "source": [
        "pred_x1 = autoencoder1.predict(x_test)\n",
        "pred_x1.shape"
      ],
      "execution_count": null,
      "outputs": [
        {
          "output_type": "execute_result",
          "data": {
            "text/plain": [
              "(10000, 28, 28, 1)"
            ]
          },
          "metadata": {
            "tags": []
          },
          "execution_count": 104
        }
      ]
    },
    {
      "cell_type": "code",
      "metadata": {
        "colab": {
          "base_uri": "https://localhost:8080/",
          "height": 282
        },
        "id": "cpZWklyIR0Lr",
        "outputId": "94589ddd-af60-4ef3-e12f-3b3c7425528b"
      },
      "source": [
        "org_x1=x_test.reshape(10000,28,28)\n",
        "plt.imshow(org_x1[0])"
      ],
      "execution_count": null,
      "outputs": [
        {
          "output_type": "execute_result",
          "data": {
            "text/plain": [
              "<matplotlib.image.AxesImage at 0x7f43b5272750>"
            ]
          },
          "metadata": {
            "tags": []
          },
          "execution_count": 117
        },
        {
          "output_type": "display_data",
          "data": {
            "image/png": "[encoded data removed]",
            "text/plain": [
              "<Figure size 432x288 with 1 Axes>"
            ]
          },
          "metadata": {
            "tags": [],
            "needs_background": "light"
          }
        }
      ]
    },
    {
      "cell_type": "code",
      "metadata": {
        "id": "v1F1Dr6Xag8D"
      },
      "source": [
        "pred_x1=pred_x1.reshape(10000,28,28)"
      ],
      "execution_count": null,
      "outputs": []
    },
    {
      "cell_type": "code",
      "metadata": {
        "colab": {
          "base_uri": "https://localhost:8080/",
          "height": 282
        },
        "id": "Ti8z1Dh7bH2Z",
        "outputId": "466962e8-f3b1-48f0-f952-c7cca8671d98"
      },
      "source": [
        "plt.imshow(pred_x1[0])"
      ],
      "execution_count": null,
      "outputs": [
        {
          "output_type": "execute_result",
          "data": {
            "text/plain": [
              "<matplotlib.image.AxesImage at 0x7f43bd90c810>"
            ]
          },
          "metadata": {
            "tags": []
          },
          "execution_count": 109
        },
        {
          "output_type": "display_data",
          "data": {
            "image/png": "[encoded data removed]",
            "text/plain": [
              "<Figure size 432x288 with 1 Axes>"
            ]
          },
          "metadata": {
            "tags": [],
            "needs_background": "light"
          }
        }
      ]
    },
    {
      "cell_type": "markdown",
      "metadata": {
        "id": "kjSDRnBRW16X"
      },
      "source": [
        "# RMSprop optimizer"
      ]
    },
    {
      "cell_type": "code",
      "metadata": {
        "colab": {
          "base_uri": "https://localhost:8080/"
        },
        "id": "Titf9vmxULet",
        "outputId": "3a0a7760-4f56-4966-cc8a-5c6e98c83691"
      },
      "source": [
        "autoencoder2 = Model(input_img, autoencoder(input_img))\n",
        "autoencoder2.compile(loss='binary_crossentropy', optimizer =optm[1])\n",
        "autoencoder_train2 = autoencoder2.fit(train_X, train_ground, batch_size=128,epochs=5,validation_data=(valid_X, valid_ground))"
      ],
      "execution_count": null,
      "outputs": [
        {
          "output_type": "stream",
          "text": [
            "Epoch 1/5\n",
            "329/329 [==============================] - 38s 115ms/step - loss: 0.1921 - val_loss: 0.1134\n",
            "Epoch 2/5\n",
            "329/329 [==============================] - 38s 114ms/step - loss: 0.1118 - val_loss: 0.1086\n",
            "Epoch 3/5\n",
            "329/329 [==============================] - 38s 114ms/step - loss: 0.1079 - val_loss: 0.1064\n",
            "Epoch 4/5\n",
            "329/329 [==============================] - 38s 114ms/step - loss: 0.1061 - val_loss: 0.1056\n",
            "Epoch 5/5\n",
            "329/329 [==============================] - 38s 114ms/step - loss: 0.1051 - val_loss: 0.1050\n"
          ],
          "name": "stdout"
        }
      ]
    },
    {
      "cell_type": "code",
      "metadata": {
        "colab": {
          "base_uri": "https://localhost:8080/"
        },
        "id": "VVEISrX-U1wZ",
        "outputId": "0965e4c5-7d28-4c17-eba6-e75791e4a48a"
      },
      "source": [
        "validation_loss = autoencoder_train2.history['val_loss']\n",
        "loss_= np.mean(np.array(validation_loss))\n",
        "print(\"Average validation loss : \",loss_)"
      ],
      "execution_count": null,
      "outputs": [
        {
          "output_type": "stream",
          "text": [
            "Average validation loss :  0.10779460072517395\n"
          ],
          "name": "stdout"
        }
      ]
    },
    {
      "cell_type": "code",
      "metadata": {
        "colab": {
          "base_uri": "https://localhost:8080/",
          "height": 281
        },
        "id": "6vWVvTip1j_W",
        "outputId": "4af7d451-b5f4-4b59-e214-4ef9d25b79ef"
      },
      "source": [
        "loss = autoencoder_train2.history['loss']\n",
        "val_loss = autoencoder_train2.history['val_loss']\n",
        "epochs = range(5)\n",
        "plt.figure()\n",
        "plt.plot(epochs, loss, 'y', label='Training loss')\n",
        "plt.plot(epochs, val_loss, 'b', label='Validation loss')\n",
        "plt.title('Training and validation loss')\n",
        "plt.legend()\n",
        "plt.show()"
      ],
      "execution_count": null,
      "outputs": [
        {
          "output_type": "display_data",
          "data": {
            "image/png": "[encoded data removed]",
            "text/plain": [
              "<Figure size 432x288 with 1 Axes>"
            ]
          },
          "metadata": {
            "tags": [],
            "needs_background": "light"
          }
        }
      ]
    },
    {
      "cell_type": "code",
      "metadata": {
        "colab": {
          "base_uri": "https://localhost:8080/",
          "height": 282
        },
        "id": "U7IIjXwKSrBK",
        "outputId": "25d94a86-4994-49e3-aa31-9d20d69f5e01"
      },
      "source": [
        "org_x2=x_test.reshape(10000,28,28)\n",
        "plt.imshow(org_x2[0])"
      ],
      "execution_count": null,
      "outputs": [
        {
          "output_type": "execute_result",
          "data": {
            "text/plain": [
              "<matplotlib.image.AxesImage at 0x7f43b5052790>"
            ]
          },
          "metadata": {
            "tags": []
          },
          "execution_count": 121
        },
        {
          "output_type": "display_data",
          "data": {
            "image/png": "[encoded data removed]",
            "text/plain": [
              "<Figure size 432x288 with 1 Axes>"
            ]
          },
          "metadata": {
            "tags": [],
            "needs_background": "light"
          }
        }
      ]
    },
    {
      "cell_type": "code",
      "metadata": {
        "colab": {
          "base_uri": "https://localhost:8080/"
        },
        "id": "_L2sZIHByTKT",
        "outputId": "3dabc323-79fc-431c-efe6-356ca6fd5ad1"
      },
      "source": [
        "pred_x2 = autoencoder2.predict(x_test)\n",
        "pred_x2.shape"
      ],
      "execution_count": null,
      "outputs": [
        {
          "output_type": "execute_result",
          "data": {
            "text/plain": [
              "(10000, 28, 28, 1)"
            ]
          },
          "metadata": {
            "tags": []
          },
          "execution_count": 122
        }
      ]
    },
    {
      "cell_type": "code",
      "metadata": {
        "colab": {
          "base_uri": "https://localhost:8080/",
          "height": 282
        },
        "id": "sB32VWMYSszj",
        "outputId": "69fd633c-02b0-4062-cf92-2d9b9441c044"
      },
      "source": [
        "pred_x2=pred_x2.reshape(10000,28,28)\n",
        "plt.imshow(pred_x2[0])"
      ],
      "execution_count": null,
      "outputs": [
        {
          "output_type": "execute_result",
          "data": {
            "text/plain": [
              "<matplotlib.image.AxesImage at 0x7f43b4f8d610>"
            ]
          },
          "metadata": {
            "tags": []
          },
          "execution_count": 123
        },
        {
          "output_type": "display_data",
          "data": {
            "image/png": "[encoded data removed]",
            "text/plain": [
              "<Figure size 432x288 with 1 Axes>"
            ]
          },
          "metadata": {
            "tags": [],
            "needs_background": "light"
          }
        }
      ]
    },
    {
      "cell_type": "markdown",
      "metadata": {
        "id": "vhDbYsNwW6a-"
      },
      "source": [
        "# SGD optimizer without momentum"
      ]
    },
    {
      "cell_type": "code",
      "metadata": {
        "colab": {
          "base_uri": "https://localhost:8080/"
        },
        "id": "eClMVX5mXAnu",
        "outputId": "b8fcc173-a702-4141-bad6-77431ce07a12"
      },
      "source": [
        "autoencoder3 = Model(input_img, autoencoder(input_img))\n",
        "autoencoder3.compile(loss='binary_crossentropy', optimizer =optm[2])\n",
        "autoencoder_train3 = autoencoder3.fit(train_X, train_ground, batch_size=128,epochs=5,validation_data=(valid_X, valid_ground))"
      ],
      "execution_count": null,
      "outputs": [
        {
          "output_type": "stream",
          "text": [
            "Epoch 1/5\n",
            "329/329 [==============================] - 39s 115ms/step - loss: 0.1701 - val_loss: 0.0987\n",
            "Epoch 2/5\n",
            "329/329 [==============================] - 37s 113ms/step - loss: 0.0945 - val_loss: 0.0924\n",
            "Epoch 3/5\n",
            "329/329 [==============================] - 37s 113ms/step - loss: 0.0918 - val_loss: 0.0907\n",
            "Epoch 4/5\n",
            "329/329 [==============================] - 37s 113ms/step - loss: 0.0907 - val_loss: 0.0899\n",
            "Epoch 5/5\n",
            "329/329 [==============================] - 37s 113ms/step - loss: 0.0893 - val_loss: 0.0888\n"
          ],
          "name": "stdout"
        }
      ]
    },
    {
      "cell_type": "code",
      "metadata": {
        "colab": {
          "base_uri": "https://localhost:8080/"
        },
        "id": "nx8TdZns7xHf",
        "outputId": "e8c377e9-283e-4402-9926-4e0ed078e772"
      },
      "source": [
        "validation_loss = autoencoder_train3.history['val_loss']\n",
        "loss_= np.mean(np.array(validation_loss))\n",
        "print(\"Average validation loss : \",loss_)"
      ],
      "execution_count": null,
      "outputs": [
        {
          "output_type": "stream",
          "text": [
            "Average validation loss :  0.09211135059595107\n"
          ],
          "name": "stdout"
        }
      ]
    },
    {
      "cell_type": "code",
      "metadata": {
        "colab": {
          "base_uri": "https://localhost:8080/",
          "height": 281
        },
        "id": "z4eoK6OZ1nra",
        "outputId": "a808e222-a646-4467-c38a-1d4c01f93b47"
      },
      "source": [
        "loss = autoencoder_train3.history['loss']\n",
        "val_loss = autoencoder_train3.history['val_loss']\n",
        "epochs = range(5)\n",
        "plt.figure()\n",
        "plt.plot(epochs, loss, 'r', label='Training loss')\n",
        "plt.plot(epochs, val_loss, 'b', label='Validation loss')\n",
        "plt.title('Training and validation loss')\n",
        "plt.legend()\n",
        "plt.show()"
      ],
      "execution_count": null,
      "outputs": [
        {
          "output_type": "display_data",
          "data": {
            "image/png": "[encoded data removed]",
            "text/plain": [
              "<Figure size 432x288 with 1 Axes>"
            ]
          },
          "metadata": {
            "tags": [],
            "needs_background": "light"
          }
        }
      ]
    },
    {
      "cell_type": "code",
      "metadata": {
        "colab": {
          "base_uri": "https://localhost:8080/",
          "height": 282
        },
        "id": "aGv7KEbOVLZ6",
        "outputId": "122c260c-437c-4ba0-d78b-b4f32e616baf"
      },
      "source": [
        "org_x2=x_test.reshape(10000,28,28)\n",
        "plt.imshow(org_x2[0])"
      ],
      "execution_count": null,
      "outputs": [
        {
          "output_type": "execute_result",
          "data": {
            "text/plain": [
              "<matplotlib.image.AxesImage at 0x7f43bd62d490>"
            ]
          },
          "metadata": {
            "tags": []
          },
          "execution_count": 131
        },
        {
          "output_type": "display_data",
          "data": {
            "image/png": "[encoded data removed]",
            "text/plain": [
              "<Figure size 432x288 with 1 Axes>"
            ]
          },
          "metadata": {
            "tags": [],
            "needs_background": "light"
          }
        }
      ]
    },
    {
      "cell_type": "code",
      "metadata": {
        "colab": {
          "base_uri": "https://localhost:8080/",
          "height": 282
        },
        "id": "O-AZHdDiyXyv",
        "outputId": "dabf991d-5537-44e2-a07c-0a37dbf82541"
      },
      "source": [
        "pred_x3 = autoencoder3.predict(x_test)\n",
        "pred_x3= pred_x.reshape(10000,28,28)\n",
        "plt.imshow(pred_x3[0])"
      ],
      "execution_count": null,
      "outputs": [
        {
          "output_type": "execute_result",
          "data": {
            "text/plain": [
              "<matplotlib.image.AxesImage at 0x7f43bd818590>"
            ]
          },
          "metadata": {
            "tags": []
          },
          "execution_count": 130
        },
        {
          "output_type": "display_data",
          "data": {
            "image/png": "[encoded data removed]",
            "text/plain": [
              "<Figure size 432x288 with 1 Axes>"
            ]
          },
          "metadata": {
            "tags": [],
            "needs_background": "light"
          }
        }
      ]
    },
    {
      "cell_type": "code",
      "metadata": {
        "colab": {
          "base_uri": "https://localhost:8080/"
        },
        "id": "arjkN85909jo",
        "outputId": "e66ea707-3b4a-4048-b62a-b081447ef73e"
      },
      "source": [
        "pred_x3.shape"
      ],
      "execution_count": null,
      "outputs": [
        {
          "output_type": "execute_result",
          "data": {
            "text/plain": [
              "(10000, 28, 28, 1)"
            ]
          },
          "metadata": {
            "tags": []
          },
          "execution_count": 36
        }
      ]
    },
    {
      "cell_type": "markdown",
      "metadata": {
        "id": "8JTsV4AnXGas"
      },
      "source": [
        "# SGD with momentum"
      ]
    },
    {
      "cell_type": "code",
      "metadata": {
        "colab": {
          "base_uri": "https://localhost:8080/"
        },
        "id": "c_6XQ2aIXFrF",
        "outputId": "a8090cd8-6f93-4b7c-88ce-97dd2319e313"
      },
      "source": [
        "sgd = SGD(lr=0.0001, momentum=0.8, nesterov=True)\n",
        "autoencoder4 = Model(input_img, autoencoder(input_img))\n",
        "autoencoder4.compile(loss='mean_squared_error', optimizer =sgd)\n",
        "autoencoder_train4 = autoencoder4.fit(train_X, train_ground, batch_size=128,epochs=3,validation_data=(valid_X, valid_ground))"
      ],
      "execution_count": null,
      "outputs": [
        {
          "output_type": "stream",
          "text": [
            "Epoch 1/3\n",
            "329/329 [==============================] - 37s 111ms/step - loss: 0.2206 - val_loss: 0.2142\n",
            "Epoch 2/3\n",
            "329/329 [==============================] - 36s 110ms/step - loss: 0.2121 - val_loss: 0.2060\n",
            "Epoch 3/3\n",
            "329/329 [==============================] - 36s 110ms/step - loss: 0.2040 - val_loss: 0.1981\n"
          ],
          "name": "stdout"
        }
      ]
    },
    {
      "cell_type": "code",
      "metadata": {
        "colab": {
          "base_uri": "https://localhost:8080/"
        },
        "id": "Uq7rJksQ74V2",
        "outputId": "8301c9ec-abfd-4cdf-cce3-4972411082a1"
      },
      "source": [
        "validation_loss = autoencoder_train4.history['val_loss']\n",
        "loss_= np.mean(np.array(validation_loss))\n",
        "print(\"Average validation loss : \",loss_)"
      ],
      "execution_count": null,
      "outputs": [
        {
          "output_type": "stream",
          "text": [
            "Average validation loss :  0.20609329640865326\n"
          ],
          "name": "stdout"
        }
      ]
    },
    {
      "cell_type": "code",
      "metadata": {
        "colab": {
          "base_uri": "https://localhost:8080/",
          "height": 281
        },
        "id": "muLkYxxG1s83",
        "outputId": "1bda7f0a-183e-45b2-b14d-b2b4dc4ad936"
      },
      "source": [
        "loss = autoencoder_train4.history['loss']\n",
        "val_loss = autoencoder_train4.history['val_loss']\n",
        "epochs = range(3)\n",
        "plt.figure()\n",
        "plt.plot(epochs, loss, 'r', label='Training loss')\n",
        "plt.plot(epochs, val_loss, 'b', label='Validation loss')\n",
        "plt.title('Training and validation loss')\n",
        "plt.legend()\n",
        "plt.show()"
      ],
      "execution_count": null,
      "outputs": [
        {
          "output_type": "display_data",
          "data": {
            "image/png": "[encoded data removed]",
            "text/plain": [
              "<Figure size 432x288 with 1 Axes>"
            ]
          },
          "metadata": {
            "tags": [],
            "needs_background": "light"
          }
        }
      ]
    },
    {
      "cell_type": "code",
      "metadata": {
        "colab": {
          "base_uri": "https://localhost:8080/"
        },
        "id": "RsnIayIsyj9w",
        "outputId": "d93d9b86-5023-43c8-ba04-b91e4cbd75c2"
      },
      "source": [
        "pred_x4 = autoencoder4.predict(x_test)\n",
        "pred_x4.shape"
      ],
      "execution_count": null,
      "outputs": [
        {
          "output_type": "execute_result",
          "data": {
            "text/plain": [
              "(10000, 28, 28, 1)"
            ]
          },
          "metadata": {
            "tags": []
          },
          "execution_count": 135
        }
      ]
    },
    {
      "cell_type": "code",
      "metadata": {
        "colab": {
          "base_uri": "https://localhost:8080/",
          "height": 282
        },
        "id": "i96-boH9WxJR",
        "outputId": "3d6a4336-ef77-499a-f266-c44e51721fd1"
      },
      "source": [
        "pred_x4= pred_x4.reshape(10000,28,28)\n",
        "plt.imshow(pred_x4[0])"
      ],
      "execution_count": null,
      "outputs": [
        {
          "output_type": "execute_result",
          "data": {
            "text/plain": [
              "<matplotlib.image.AxesImage at 0x7f43bb3cc510>"
            ]
          },
          "metadata": {
            "tags": []
          },
          "execution_count": 136
        },
        {
          "output_type": "display_data",
          "data": {
            "image/png": "[encoded data removed]",
            "text/plain": [
              "<Figure size 432x288 with 1 Axes>"
            ]
          },
          "metadata": {
            "tags": [],
            "needs_background": "light"
          }
        }
      ]
    },
    {
      "cell_type": "markdown",
      "metadata": {
        "id": "S1GmSrzP8Y86"
      },
      "source": [
        "# Best model selected on behalf of lowest average validation loss "
      ]
    },
    {
      "cell_type": "code",
      "metadata": {
        "colab": {
          "base_uri": "https://localhost:8080/"
        },
        "id": "8YIg7f7i8YOl",
        "outputId": "ad9c270c-542c-4269-92a0-641ab7c7d0c9"
      },
      "source": [
        "filepath = '/content/sample_data'\n",
        "autoencoder1.save(filepath=filepath)"
      ],
      "execution_count": null,
      "outputs": [
        {
          "output_type": "stream",
          "text": [
            "INFO:tensorflow:Assets written to: /content/sample_data/assets\n"
          ],
          "name": "stdout"
        }
      ]
    },
    {
      "cell_type": "markdown",
      "metadata": {
        "id": "w0o6CV90qcf-"
      },
      "source": [
        "# reconstruction loss vs hidden neurons"
      ]
    },
    {
      "cell_type": "code",
      "metadata": {
        "id": "zng0gfEuqbVI"
      },
      "source": [
        "input_img = Input(shape = (28,28,1))\n",
        "def autoencoder(input_img,i):\n",
        "  # #encoder\n",
        "  model = Conv2D(2*i, (3, 3), activation='relu', padding='same')(input_img)\n",
        "  model = MaxPooling2D((2, 2), padding='same')(model)\n",
        "  model = Conv2D(i, (3, 3), activation='relu', padding='same')(model)\n",
        "  encoded = MaxPooling2D((2, 2), padding='same')(model)\n",
        "   \n",
        "  # #decoder\n",
        "  model = Conv2D(i, (3, 3), activation='relu', padding='same')(encoded)\n",
        "  model = layers.UpSampling2D((2, 2))(encoded)\n",
        "  model = Conv2D(2*i, (3, 3), activation='relu',padding='same')(model)\n",
        "  model = UpSampling2D((2, 2))(model)\n",
        "  decoded = layers.Conv2D(1, (3, 3), activation='sigmoid', padding='same')(model)\n",
        "  return decoded  \n"
      ],
      "execution_count": null,
      "outputs": []
    },
    {
      "cell_type": "code",
      "metadata": {
        "colab": {
          "base_uri": "https://localhost:8080/"
        },
        "id": "VO7Vx1t_sJjX",
        "outputId": "b481c4a6-8f10-4e5c-d8ab-b86b4f48183c"
      },
      "source": [
        "nuron = [2,4,8,16]\n",
        "optm_adm = Adam(learning_rate=0.01)\n",
        "avg_train_loss = []\n",
        "avg_val_loss = []\n",
        "for i in nuron:\n",
        "  autoencoder1 = Model(input_img, autoencoder(input_img,i))\n",
        "  autoencoder1.compile(loss='mean_squared_error', optimizer = optm_adm)\n",
        "  autoencoder_train1 = autoencoder1.fit(train_X, train_ground, batch_size=128,epochs=3,validation_data=(valid_X, valid_ground)) \n",
        "  train_loss = autoencoder_train1.history['loss']\n",
        "  loss1_= np.mean(np.array(train_loss))\n",
        "  avg_train_loss.append(loss1_)  \n",
        "  validation_loss = autoencoder_train1.history['val_loss']\n",
        "  loss2_= np.mean(np.array(validation_loss))\n",
        "  avg_val_loss.append(loss2_)   "
      ],
      "execution_count": null,
      "outputs": [
        {
          "output_type": "stream",
          "text": [
            "Epoch 1/3\n",
            "329/329 [==============================] - 35s 105ms/step - loss: 0.0655 - val_loss: 0.0067\n",
            "Epoch 2/3\n",
            "329/329 [==============================] - 34s 104ms/step - loss: 0.0158 - val_loss: 0.0063\n",
            "Epoch 3/3\n",
            "329/329 [==============================] - 34s 105ms/step - loss: 0.0146 - val_loss: 0.0061\n",
            "Epoch 1/3\n",
            "329/329 [==============================] - 40s 122ms/step - loss: 0.0307 - val_loss: 0.0038\n",
            "Epoch 2/3\n",
            "329/329 [==============================] - 39s 119ms/step - loss: 0.0089 - val_loss: 0.0035\n",
            "Epoch 3/3\n",
            "329/329 [==============================] - 39s 119ms/step - loss: 0.0078 - val_loss: 0.0033\n",
            "Epoch 1/3\n",
            "329/329 [==============================] - 55s 165ms/step - loss: 0.0326 - val_loss: 0.0043\n",
            "Epoch 2/3\n",
            "329/329 [==============================] - 53s 162ms/step - loss: 0.0077 - val_loss: 0.0033\n",
            "Epoch 3/3\n",
            "329/329 [==============================] - 53s 161ms/step - loss: 0.0065 - val_loss: 0.0035\n",
            "Epoch 1/3\n",
            "329/329 [==============================] - 95s 288ms/step - loss: 0.1148 - val_loss: 0.1120\n",
            "Epoch 2/3\n",
            "329/329 [==============================] - 94s 285ms/step - loss: 0.1121 - val_loss: 0.1120\n",
            "Epoch 3/3\n",
            "329/329 [==============================] - 94s 285ms/step - loss: 0.1117 - val_loss: 0.1120\n"
          ],
          "name": "stdout"
        }
      ]
    },
    {
      "cell_type": "code",
      "metadata": {
        "colab": {
          "base_uri": "https://localhost:8080/",
          "height": 295
        },
        "id": "Koc2nQqruKLK",
        "outputId": "a96712dc-a543-4422-9602-33d0fbf26f5a"
      },
      "source": [
        "plt.figure()\n",
        "plt.plot(nuron,avg_train_loss, 'r', label='Avg Training loss')\n",
        "plt.plot(nuron, avg_val_loss, 'b', label='Avg Validation loss')\n",
        "plt.title('Training and validation loss based on hidden nurons')\n",
        "plt.xlabel('hidden nurons')\n",
        "plt.ylabel('loss')\n",
        "plt.legend()\n",
        "plt.show()"
      ],
      "execution_count": null,
      "outputs": [
        {
          "output_type": "display_data",
          "data": {
            "image/png": "[encoded data removed]",
            "text/plain": [
              "<Figure size 432x288 with 1 Axes>"
            ]
          },
          "metadata": {
            "tags": [],
            "needs_background": "light"
          }
        }
      ]
    },
    {
      "cell_type": "code",
      "metadata": {
        "colab": {
          "base_uri": "https://localhost:8080/"
        },
        "id": "PB8XJaK4y16K",
        "outputId": "bea1de3a-5089-4c35-93c6-43be00e358ce"
      },
      "source": [
        "nuron = [2,4,8,16]\n",
        "optm_SGD = Adam(learning_rate=0.01)\n",
        "avg_train_loss = []\n",
        "avg_val_loss = []\n",
        "for i in nuron:\n",
        "  autoencoder1 = Model(input_img, autoencoder(input_img))\n",
        "  autoencoder1.compile(loss='mean_squared_error', optimizer = optm_SGD)\n",
        "  autoencoder_train1 = autoencoder1.fit(train_X, train_ground, batch_size=128,epochs=3,validation_data=(valid_X, valid_ground)) \n",
        "  train_loss = autoencoder_train1.history['loss']\n",
        "  loss1_= np.mean(np.array(train_loss))\n",
        "  avg_train_loss.append(loss1_)  \n",
        "  validation_loss = autoencoder_train1.history['val_loss']\n",
        "  loss2_= np.mean(np.array(validation_loss))\n",
        "  avg_val_loss.append(loss2_) "
      ],
      "execution_count": null,
      "outputs": [
        {
          "output_type": "stream",
          "text": [
            "Epoch 1/3\n",
            "329/329 [==============================] - 35s 105ms/step - loss: 0.0697 - val_loss: 0.0081\n",
            "Epoch 2/3\n",
            "329/329 [==============================] - 34s 105ms/step - loss: 0.0176 - val_loss: 0.0069\n",
            "Epoch 3/3\n",
            "329/329 [==============================] - 34s 105ms/step - loss: 0.0145 - val_loss: 0.0058\n",
            "Epoch 1/3\n",
            "329/329 [==============================] - 41s 122ms/step - loss: 0.0523 - val_loss: 0.0075\n",
            "Epoch 2/3\n",
            "329/329 [==============================] - 39s 119ms/step - loss: 0.0134 - val_loss: 0.0063\n",
            "Epoch 3/3\n",
            "329/329 [==============================] - 39s 119ms/step - loss: 0.0124 - val_loss: 0.0058\n",
            "Epoch 1/3\n",
            "329/329 [==============================] - 54s 164ms/step - loss: 0.0308 - val_loss: 0.0038\n",
            "Epoch 2/3\n",
            "329/329 [==============================] - 53s 162ms/step - loss: 0.0077 - val_loss: 0.0035\n",
            "Epoch 3/3\n",
            "329/329 [==============================] - 53s 162ms/step - loss: 0.0070 - val_loss: 0.0033\n",
            "Epoch 1/3\n",
            "329/329 [==============================] - 95s 286ms/step - loss: 0.1142 - val_loss: 0.1120\n",
            "Epoch 2/3\n",
            "329/329 [==============================] - 95s 290ms/step - loss: 0.1118 - val_loss: 0.1120\n",
            "Epoch 3/3\n",
            "329/329 [==============================] - 95s 289ms/step - loss: 0.1117 - val_loss: 0.1120\n"
          ],
          "name": "stdout"
        }
      ]
    },
    {
      "cell_type": "code",
      "metadata": {
        "colab": {
          "base_uri": "https://localhost:8080/",
          "height": 295
        },
        "id": "ecZwsYE-zJ_0",
        "outputId": "03d56611-c687-4f2d-b135-80e7b6e9a346"
      },
      "source": [
        "plt.figure()\n",
        "plt.plot(nuron,avg_train_loss, 'r', label='Avg Training loss')\n",
        "plt.plot(nuron, avg_val_loss, 'b', label='Avg Validation loss')\n",
        "plt.title('Training and validation loss based on hidden nurons')\n",
        "plt.xlabel('hidden nurons')\n",
        "plt.ylabel('loss')\n",
        "plt.legend()\n",
        "plt.show()"
      ],
      "execution_count": null,
      "outputs": [
        {
          "output_type": "display_data",
          "data": {
            "image/png": "[encoded data removed]",
            "text/plain": [
              "<Figure size 432x288 with 1 Axes>"
            ]
          },
          "metadata": {
            "tags": [],
            "needs_background": "light"
          }
        }
      ]
    },
    {
      "cell_type": "markdown",
      "metadata": {
        "id": "WurmPxrU8BBW"
      },
      "source": [
        "# PCA reconstruction and compare with the Autoencoder reconstruction using test reconstruction loss."
      ]
    },
    {
      "cell_type": "code",
      "metadata": {
        "id": "Q6gDFZD5jjlk",
        "colab": {
          "base_uri": "https://localhost:8080/"
        },
        "outputId": "e385b21d-449c-44a6-fe3c-bacc00ebd771"
      },
      "source": [
        "from sklearn.decomposition import PCA\n",
        "\n",
        "(x_train, y_train), (x_test, y_test) = datasets.mnist.load_data()\n",
        "\n",
        "pca = PCA(n_components = 49)\n",
        "trainX = x_train.reshape(60000,784)\n",
        "testX = x_test.reshape(10000,784)\n",
        "\n",
        "trainX = trainX /255\n",
        "testX = testX /255\n",
        "\n",
        "pca.fit(trainX)\n",
        "trainX1 = pca.transform(trainX)\n",
        "pca.fit(testX)\n",
        "testX1 = pca.transform(testX)\n",
        "print(trainX1.shape,testX1.shape)"
      ],
      "execution_count": 24,
      "outputs": [
        {
          "output_type": "stream",
          "text": [
            "(60000, 49) (10000, 49)\n"
          ],
          "name": "stdout"
        }
      ]
    },
    {
      "cell_type": "code",
      "metadata": {
        "colab": {
          "base_uri": "https://localhost:8080/"
        },
        "id": "yV5k-7F0jL4x",
        "outputId": "d4219628-c856-46ac-f4ad-bbe68819efc4"
      },
      "source": [
        "X_test = pca.inverse_transform(testX1)\n",
        "X_train = pca.inverse_transform(trainX1)\n",
        "print(X_train.shape,X_test.shape)"
      ],
      "execution_count": 25,
      "outputs": [
        {
          "output_type": "stream",
          "text": [
            "(60000, 784) (10000, 784)\n"
          ],
          "name": "stdout"
        }
      ]
    },
    {
      "cell_type": "code",
      "metadata": {
        "colab": {
          "base_uri": "https://localhost:8080/",
          "height": 291
        },
        "id": "Rp7dEZVokzY1",
        "outputId": "86082dc6-eb24-4dc0-ac2c-d29928b5980e"
      },
      "source": [
        "x_test = x_test.reshape(10000,28,28)\n",
        "plt.figure(figsize=(10,10))\n",
        "for i in range(8):\n",
        "  plt.subplot(4,4,i+1)\n",
        "  plt.axis('off')\n",
        "  plt.imshow(x_test[i])"
      ],
      "execution_count": 26,
      "outputs": [
        {
          "output_type": "display_data",
          "data": {
            "image/png": "[encoded data removed]",
            "text/plain": [
              "<Figure size 720x720 with 8 Axes>"
            ]
          },
          "metadata": {
            "tags": [],
            "needs_background": "light"
          }
        }
      ]
    },
    {
      "cell_type": "code",
      "metadata": {
        "colab": {
          "base_uri": "https://localhost:8080/",
          "height": 291
        },
        "id": "UbIDMOpwkKHP",
        "outputId": "9f5cfd35-62ca-482a-dd53-30f4d0d93b83"
      },
      "source": [
        "X_test = X_test.reshape(10000,28,28)\n",
        "plt.figure(figsize=(10,10))\n",
        "for i in range(8):\n",
        "  plt.subplot(4,4,i+1)\n",
        "  plt.axis('off')\n",
        "  plt.imshow(X_test[i])"
      ],
      "execution_count": 27,
      "outputs": [
        {
          "output_type": "display_data",
          "data": {
            "image/png": "[encoded data removed]",
            "text/plain": [
              "<Figure size 720x720 with 8 Axes>"
            ]
          },
          "metadata": {
            "tags": [],
            "needs_background": "light"
          }
        }
      ]
    },
    {
      "cell_type": "code",
      "metadata": {
        "colab": {
          "base_uri": "https://localhost:8080/"
        },
        "id": "y1AlEhxTlWs7",
        "outputId": "90be87d1-8beb-48dd-8bac-c748354c65c8"
      },
      "source": [
        "from sklearn.metrics import mean_squared_error\n",
        "\n",
        "loss_=mean_squared_error(x_test.reshape(10000,784), X_test.reshape(10000,784))\n",
        "np.sqrt(loss_)"
      ],
      "execution_count": 31,
      "outputs": [
        {
          "output_type": "execute_result",
          "data": {
            "text/plain": [
              "85.77881894583712"
            ]
          },
          "metadata": {
            "tags": []
          },
          "execution_count": 31
        }
      ]
    },
    {
      "cell_type": "code",
      "metadata": {
        "colab": {
          "base_uri": "https://localhost:8080/"
        },
        "id": "TbQJeApjnkuq",
        "outputId": "a7a69c08-ba09-4489-8927-ddc5a1bccdb3"
      },
      "source": [
        "from sklearn.metrics import mean_absolute_error\n",
        "mean_absolute_error(x_test.reshape(10000,784), X_test.reshape(10000,784))"
      ],
      "execution_count": 29,
      "outputs": [
        {
          "output_type": "execute_result",
          "data": {
            "text/plain": [
              "33.69301238748139"
            ]
          },
          "metadata": {
            "tags": []
          },
          "execution_count": 29
        }
      ]
    },
    {
      "cell_type": "markdown",
      "metadata": {
        "id": "vhwcdxRg3tBl"
      },
      "source": [
        "from the nueron vs loss graph we see that minimum loss occured in case of 8 nuron in input layer ,, so in that case we get the best model"
      ]
    },
    {
      "cell_type": "markdown",
      "metadata": {
        "id": "64ZVVA_AdoA6"
      },
      "source": [
        "# Q3 part 2"
      ]
    },
    {
      "cell_type": "markdown",
      "metadata": {
        "id": "_6RyB71B_MH3"
      },
      "source": [
        "## save best model for further use in que 3 part2 "
      ]
    },
    {
      "cell_type": "code",
      "metadata": {
        "colab": {
          "base_uri": "https://localhost:8080/"
        },
        "id": "NdfG7Ugpdqqg",
        "outputId": "f655a3f7-a196-476b-9ddb-449031bc1a03"
      },
      "source": [
        "input_img = Input(shape = (28,28,1))\n",
        "def autoencoder(input_img):\n",
        "  # #encoder\n",
        "  model = Conv2D(8, (3, 3), activation='relu', padding='same')(input_img)\n",
        "  model = MaxPooling2D((2, 2), padding='same')(model)\n",
        "  model = Conv2D(4, (3, 3), activation='relu', padding='same')(model)\n",
        "  encoded = MaxPooling2D((2, 2), padding='same')(model)\n",
        "   \n",
        "  # #decoder\n",
        "  model = Conv2D(4, (3, 3), activation='relu', padding='same')(encoded)\n",
        "  model = layers.UpSampling2D((2, 2))(encoded)\n",
        "  model = Conv2D(8, (3, 3), activation='relu',padding='same')(model)\n",
        "  model = UpSampling2D((2, 2))(model)\n",
        "  decoded = layers.Conv2D(1, (3, 3), activation='sigmoid', padding='same')(model)\n",
        "  return decoded\n",
        "  \n",
        "autoenCoder = Model(input_img, autoencoder(input_img))\n",
        "autoenCoder.compile(loss='mean_squared_error', optimizer ='Adam')\n",
        "autoencoder_train = autoenCoder.fit(train_X, train_ground,batch_size=128,epochs=5,validation_data=(valid_X, valid_ground))"
      ],
      "execution_count": null,
      "outputs": [
        {
          "output_type": "stream",
          "text": [
            "Epoch 1/5\n",
            "329/329 [==============================] - 37s 111ms/step - loss: 0.1090 - val_loss: 0.0178\n",
            "Epoch 2/5\n",
            "329/329 [==============================] - 36s 111ms/step - loss: 0.0163 - val_loss: 0.0125\n",
            "Epoch 3/5\n",
            "329/329 [==============================] - 36s 110ms/step - loss: 0.0118 - val_loss: 0.0104\n",
            "Epoch 4/5\n",
            "329/329 [==============================] - 36s 111ms/step - loss: 0.0101 - val_loss: 0.0096\n",
            "Epoch 5/5\n",
            "329/329 [==============================] - 36s 111ms/step - loss: 0.0092 - val_loss: 0.0088\n"
          ],
          "name": "stdout"
        }
      ]
    },
    {
      "cell_type": "code",
      "metadata": {
        "colab": {
          "base_uri": "https://localhost:8080/"
        },
        "id": "dAdGHyMc4A2X",
        "outputId": "7b3444fd-ecc5-40b5-ef57-452e84dad99c"
      },
      "source": [
        "filepath='/content/sample_data'\n",
        "autoenCoder.save(filepath=filepath)"
      ],
      "execution_count": null,
      "outputs": [
        {
          "output_type": "stream",
          "text": [
            "INFO:tensorflow:Assets written to: /content/sample_data/assets\n"
          ],
          "name": "stdout"
        }
      ]
    },
    {
      "cell_type": "code",
      "metadata": {
        "id": "MXhuAvTH5mHy"
      },
      "source": [
        "#download data set\n",
        "(x_train, y_train), (x_test, y_test) = datasets.mnist.load_data()\n",
        "\n",
        "# convert data in range 0 to 1\n",
        "x_train = x_train / 255.0\n",
        "x_test = x_test / 255.0\n",
        "\n",
        "#reshape data for mlp input\n",
        "x_train = x_train.reshape(60000,784)\n",
        "\n",
        "train_X,val_X,train_y,val_y = train_test_split(x_train,y_train, test_size=0.3, random_state=123)\n",
        "\n",
        "train_labels = tf.keras.utils.to_categorical(train_y)\n",
        "val_labels = tf.keras.utils.to_categorical(val_y)\n",
        "test_labels = tf.keras.utils.to_categorical(y_test)"
      ],
      "execution_count": null,
      "outputs": []
    },
    {
      "cell_type": "code",
      "metadata": {
        "colab": {
          "base_uri": "https://localhost:8080/"
        },
        "id": "ZxmU0HlD7UgO",
        "outputId": "b91cda73-171b-4ba1-802b-8a142e453a8e"
      },
      "source": [
        "train_X.shape,train_y.shape,val_X.shape,val_y.shape"
      ],
      "execution_count": null,
      "outputs": [
        {
          "output_type": "execute_result",
          "data": {
            "text/plain": [
              "((42000, 784), (42000,), (18000, 784), (18000,))"
            ]
          },
          "metadata": {
            "tags": []
          },
          "execution_count": 141
        }
      ]
    },
    {
      "cell_type": "code",
      "metadata": {
        "colab": {
          "base_uri": "https://localhost:8080/"
        },
        "id": "9rBhA0_Jkc8L",
        "outputId": "aee755ce-7860-4392-85fc-31894d433d4d"
      },
      "source": [
        "model1 = models.Sequential()\n",
        "model1.add(Dense(128, activation='relu',input_dim=784))\n",
        "model1.add(Dropout(0.3))\n",
        "model1.add(Dense(128,activation='relu'))\n",
        "model1.add(Dropout(0.2))\n",
        "model1.add(Dense(10,activation='softmax'))\n",
        "\n",
        "model1.summary()"
      ],
      "execution_count": null,
      "outputs": [
        {
          "output_type": "stream",
          "text": [
            "Model: \"sequential_7\"\n",
            "_________________________________________________________________\n",
            "Layer (type)                 Output Shape              Param #   \n",
            "=================================================================\n",
            "dense_18 (Dense)             (None, 128)               100480    \n",
            "_________________________________________________________________\n",
            "dropout_32 (Dropout)         (None, 128)               0         \n",
            "_________________________________________________________________\n",
            "dense_19 (Dense)             (None, 128)               16512     \n",
            "_________________________________________________________________\n",
            "dropout_33 (Dropout)         (None, 128)               0         \n",
            "_________________________________________________________________\n",
            "dense_20 (Dense)             (None, 10)                1290      \n",
            "=================================================================\n",
            "Total params: 118,282\n",
            "Trainable params: 118,282\n",
            "Non-trainable params: 0\n",
            "_________________________________________________________________\n"
          ],
          "name": "stdout"
        }
      ]
    },
    {
      "cell_type": "code",
      "metadata": {
        "colab": {
          "base_uri": "https://localhost:8080/"
        },
        "id": "oQH1wA8K78uf",
        "outputId": "d39db183-cafb-412c-97cc-81a1b9ec5884"
      },
      "source": [
        "model1.compile(loss='categorical_crossentropy',optimizer='Adam',metrics=['accuracy'])\n",
        "model1.fit(train_X, train_labels, batch_size=128,epochs=5,validation_data=(val_X, val_labels))"
      ],
      "execution_count": null,
      "outputs": [
        {
          "output_type": "stream",
          "text": [
            "Epoch 1/5\n",
            "329/329 [==============================] - 2s 5ms/step - loss: 0.8821 - accuracy: 0.7257 - val_loss: 0.2131 - val_accuracy: 0.9323\n",
            "Epoch 2/5\n",
            "329/329 [==============================] - 2s 5ms/step - loss: 0.2460 - accuracy: 0.9276 - val_loss: 0.1435 - val_accuracy: 0.9556\n",
            "Epoch 3/5\n",
            "329/329 [==============================] - 2s 5ms/step - loss: 0.1909 - accuracy: 0.9421 - val_loss: 0.1227 - val_accuracy: 0.9622\n",
            "Epoch 4/5\n",
            "329/329 [==============================] - 2s 5ms/step - loss: 0.1483 - accuracy: 0.9549 - val_loss: 0.1068 - val_accuracy: 0.9678\n",
            "Epoch 5/5\n",
            "329/329 [==============================] - 2s 5ms/step - loss: 0.1314 - accuracy: 0.9596 - val_loss: 0.1007 - val_accuracy: 0.9690\n"
          ],
          "name": "stdout"
        },
        {
          "output_type": "execute_result",
          "data": {
            "text/plain": [
              "<tensorflow.python.keras.callbacks.History at 0x7f43b98c48d0>"
            ]
          },
          "metadata": {
            "tags": []
          },
          "execution_count": 143
        }
      ]
    },
    {
      "cell_type": "code",
      "metadata": {
        "id": "yK9QmLlC6eAG"
      },
      "source": [
        "filepath = '/content/sample_data'\n",
        "autoenCoder = models.load_model(filepath=filepath)"
      ],
      "execution_count": null,
      "outputs": []
    },
    {
      "cell_type": "code",
      "metadata": {
        "colab": {
          "base_uri": "https://localhost:8080/"
        },
        "id": "YydO06eF9I3P",
        "outputId": "7160f04c-bf96-40f4-8173-7eb789f5f4cc"
      },
      "source": [
        "pred_x = autoenCoder.predict(x_test)\n",
        "pred_x.shape"
      ],
      "execution_count": null,
      "outputs": [
        {
          "output_type": "execute_result",
          "data": {
            "text/plain": [
              "(10000, 28, 28, 1)"
            ]
          },
          "metadata": {
            "tags": []
          },
          "execution_count": 145
        }
      ]
    },
    {
      "cell_type": "code",
      "metadata": {
        "colab": {
          "base_uri": "https://localhost:8080/"
        },
        "id": "5a43kimUgKuh",
        "outputId": "d05aacb5-ca9f-4b91-ce94-07b5757e5daa"
      },
      "source": [
        "pred_x = pred_x.reshape(10000,784)\n",
        "pred_x.shape"
      ],
      "execution_count": null,
      "outputs": [
        {
          "output_type": "execute_result",
          "data": {
            "text/plain": [
              "(10000, 784)"
            ]
          },
          "metadata": {
            "tags": []
          },
          "execution_count": 146
        }
      ]
    },
    {
      "cell_type": "code",
      "metadata": {
        "colab": {
          "base_uri": "https://localhost:8080/"
        },
        "id": "mhV_Kg_u9pcV",
        "outputId": "7fd973e8-5185-4b03-ee1f-81bd94a5e106"
      },
      "source": [
        "cnn_results = model1.evaluate(pred_x,test_labels)"
      ],
      "execution_count": null,
      "outputs": [
        {
          "output_type": "stream",
          "text": [
            "313/313 [==============================] - 0s 1ms/step - loss: 0.1519 - accuracy: 0.9503\n"
          ],
          "name": "stdout"
        }
      ]
    },
    {
      "cell_type": "markdown",
      "metadata": {
        "id": "hbTEYGRL968D"
      },
      "source": [
        "Getting accuracy using autoencoder+ mlp = 95.03\n",
        "\n",
        "Getting accuracy using normal mlp = 96.90\n",
        "\n",
        "\n",
        "aprroxmately in both case ,found same accuracy because given dataset are not like noise data ,, is dataset are noisy then in this case we get better result if reconsruct feature data using autoencoder after that apply cnn or mlp"
      ]
    },
    {
      "cell_type": "code",
      "metadata": {
        "id": "wm0Kb9gi_ALE"
      },
      "source": [
        ""
      ],
      "execution_count": null,
      "outputs": []
    }
  ]
}