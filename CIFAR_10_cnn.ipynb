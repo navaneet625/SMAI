{
 "cells": [
  {
   "cell_type": "code",
   "execution_count": 1,
   "metadata": {
    "id": "bip_B2QQI9kc"
   },
   "outputs": [],
   "source": [
    "import tensorflow as tf\n",
    "from tensorflow.keras import datasets, layers, models\n",
    "from tensorflow import keras\n",
    "import matplotlib.pyplot as plt\n",
    "import numpy as np\n",
    "from keras.optimizers import Adam,SGD\n",
    "from keras.layers import Conv2D,MaxPooling2D,Input,BatchNormalization,ReLU,Flatten,Dense\n",
    "from keras.callbacks import ModelCheckpoint"
   ]
  },
  {
   "cell_type": "code",
   "execution_count": 2,
   "metadata": {
    "colab": {
     "base_uri": "https://localhost:8080/"
    },
    "id": "wo3HNJtzI9kr",
    "outputId": "6712b6d4-f2af-4b09-cdfe-771056f4d0b7"
   },
   "outputs": [
    {
     "name": "stdout",
     "output_type": "stream",
     "text": [
      "Downloading data from https://www.cs.toronto.edu/~kriz/cifar-10-python.tar.gz\n",
      "170500096/170498071 [==============================] - 3s 0us/step\n"
     ]
    }
   ],
   "source": [
    "(train_images, train_labels), (test_images, test_labels) = datasets.cifar10.load_data()"
   ]
  },
  {
   "cell_type": "code",
   "execution_count": 3,
   "metadata": {
    "colab": {
     "base_uri": "https://localhost:8080/"
    },
    "id": "-oKLYwuDI9ks",
    "outputId": "f358bc4a-417f-434b-cc3d-6c38884f9407"
   },
   "outputs": [
    {
     "data": {
      "text/plain": [
       "((50000, 32, 32, 3), (50000, 1), (10000, 32, 32, 3), (10000, 1))"
      ]
     },
     "execution_count": 3,
     "metadata": {
      "tags": []
     },
     "output_type": "execute_result"
    }
   ],
   "source": [
    "train_images = train_images.astype('float32')\n",
    "test_images = test_images.astype('float32')\n",
    "train_images.shape,train_labels.shape,test_images.shape,test_labels.shape"
   ]
  },
  {
   "cell_type": "code",
   "execution_count": 4,
   "metadata": {
    "id": "ApaYJoQKI9kx"
   },
   "outputs": [],
   "source": [
    "train_images, test_images = train_images / 255.0, test_images / 255.0"
   ]
  },
  {
   "cell_type": "code",
   "execution_count": 5,
   "metadata": {
    "colab": {
     "base_uri": "https://localhost:8080/"
    },
    "id": "gc4ORTJWLegK",
    "outputId": "0ec5e748-e264-44d8-9167-8a7ede298e64"
   },
   "outputs": [
    {
     "data": {
      "text/plain": [
       "(50000, 10)"
      ]
     },
     "execution_count": 5,
     "metadata": {
      "tags": []
     },
     "output_type": "execute_result"
    }
   ],
   "source": [
    "train_labels = tf.keras.utils.to_categorical(train_labels)\n",
    "test_labels = tf.keras.utils.to_categorical(test_labels)\n",
    "train_labels.shape"
   ]
  },
  {
   "cell_type": "markdown",
   "metadata": {
    "id": "1cGuHLIH0rFT"
   },
   "source": [
    "## No Batch Normalization"
   ]
  },
  {
   "cell_type": "code",
   "execution_count": 6,
   "metadata": {
    "id": "K34MWZhnI9ky"
   },
   "outputs": [],
   "source": [
    "model = models.Sequential()\n",
    "model.add(Conv2D(32, (3, 3), activation='relu', padding='same', input_shape=(32, 32, 3)))\n",
    "model.add(Conv2D(32, (3, 3), activation='relu', padding='same'))\n",
    "model.add(MaxPooling2D((2, 2)))\n",
    "model.add(Conv2D(64, (3, 3), activation='relu', padding='same'))\n",
    "model.add(Conv2D(64, (3, 3), activation='relu', padding='same'))\n",
    "model.add(MaxPooling2D((2, 2)))\n",
    "model.add(Conv2D(64, (3, 3), activation='relu', padding='same'))\n",
    "model.add(Conv2D(64, (3, 3), activation='relu', padding='same'))\n",
    "model.add(MaxPooling2D((2, 2)))\n",
    "model.add(Flatten())\n",
    "model.add(Dense(64, activation='relu'))\n",
    "model.add(Dense(10, activation='softmax'))"
   ]
  },
  {
   "cell_type": "code",
   "execution_count": null,
   "metadata": {
    "colab": {
     "base_uri": "https://localhost:8080/"
    },
    "id": "-bWXm9dkI9kz",
    "outputId": "82ca4679-33db-428d-d5d0-2a429f1028c9"
   },
   "outputs": [
    {
     "name": "stdout",
     "output_type": "stream",
     "text": [
      "Model: \"sequential\"\n",
      "_________________________________________________________________\n",
      "Layer (type)                 Output Shape              Param #   \n",
      "=================================================================\n",
      "conv2d (Conv2D)              (None, 32, 32, 32)        896       \n",
      "_________________________________________________________________\n",
      "conv2d_1 (Conv2D)            (None, 32, 32, 32)        9248      \n",
      "_________________________________________________________________\n",
      "max_pooling2d (MaxPooling2D) (None, 16, 16, 32)        0         \n",
      "_________________________________________________________________\n",
      "conv2d_2 (Conv2D)            (None, 16, 16, 64)        18496     \n",
      "_________________________________________________________________\n",
      "conv2d_3 (Conv2D)            (None, 16, 16, 64)        36928     \n",
      "_________________________________________________________________\n",
      "max_pooling2d_1 (MaxPooling2 (None, 8, 8, 64)          0         \n",
      "_________________________________________________________________\n",
      "conv2d_4 (Conv2D)            (None, 8, 8, 64)          36928     \n",
      "_________________________________________________________________\n",
      "conv2d_5 (Conv2D)            (None, 8, 8, 64)          36928     \n",
      "_________________________________________________________________\n",
      "max_pooling2d_2 (MaxPooling2 (None, 4, 4, 64)          0         \n",
      "_________________________________________________________________\n",
      "flatten (Flatten)            (None, 1024)              0         \n",
      "_________________________________________________________________\n",
      "dense (Dense)                (None, 64)                65600     \n",
      "_________________________________________________________________\n",
      "dense_1 (Dense)              (None, 10)                650       \n",
      "=================================================================\n",
      "Total params: 205,674\n",
      "Trainable params: 205,674\n",
      "Non-trainable params: 0\n",
      "_________________________________________________________________\n"
     ]
    }
   ],
   "source": [
    "model.summary()"
   ]
  },
  {
   "cell_type": "code",
   "execution_count": null,
   "metadata": {
    "id": "trUzpJzpI9k2"
   },
   "outputs": [],
   "source": [
    "model.compile(optimizer='SGD',loss='categorical_crossentropy',metrics=['accuracy'])"
   ]
  },
  {
   "cell_type": "code",
   "execution_count": null,
   "metadata": {
    "colab": {
     "base_uri": "https://localhost:8080/"
    },
    "id": "KsVvt964I9k3",
    "outputId": "f9f72be4-db0d-43a0-9c65-fc63972a8997"
   },
   "outputs": [
    {
     "name": "stdout",
     "output_type": "stream",
     "text": [
      "Epoch 1/10\n",
      "1563/1563 [==============================] - 278s 178ms/step - loss: 2.2240 - accuracy: 0.1642 - val_loss: 1.9267 - val_accuracy: 0.2972\n",
      "Epoch 2/10\n",
      "1563/1563 [==============================] - 279s 179ms/step - loss: 1.7688 - accuracy: 0.3652 - val_loss: 1.6698 - val_accuracy: 0.4118\n",
      "Epoch 3/10\n",
      "1563/1563 [==============================] - 277s 177ms/step - loss: 1.5287 - accuracy: 0.4503 - val_loss: 1.4822 - val_accuracy: 0.4738\n",
      "Epoch 4/10\n",
      "1563/1563 [==============================] - 276s 176ms/step - loss: 1.3854 - accuracy: 0.5055 - val_loss: 1.3102 - val_accuracy: 0.5330\n",
      "Epoch 5/10\n",
      "1563/1563 [==============================] - 275s 176ms/step - loss: 1.2776 - accuracy: 0.5416 - val_loss: 1.3068 - val_accuracy: 0.5307\n",
      "Epoch 6/10\n",
      "1563/1563 [==============================] - 276s 177ms/step - loss: 1.1735 - accuracy: 0.5875 - val_loss: 1.2596 - val_accuracy: 0.5433\n",
      "Epoch 7/10\n",
      "1563/1563 [==============================] - 277s 177ms/step - loss: 1.0723 - accuracy: 0.6208 - val_loss: 1.1170 - val_accuracy: 0.6086\n",
      "Epoch 8/10\n",
      "1563/1563 [==============================] - 278s 178ms/step - loss: 0.9824 - accuracy: 0.6516 - val_loss: 1.0958 - val_accuracy: 0.6119\n",
      "Epoch 9/10\n",
      "1563/1563 [==============================] - 278s 178ms/step - loss: 0.9024 - accuracy: 0.6810 - val_loss: 0.9988 - val_accuracy: 0.6464\n",
      "Epoch 10/10\n",
      "1563/1563 [==============================] - 279s 179ms/step - loss: 0.8429 - accuracy: 0.7065 - val_loss: 0.9628 - val_accuracy: 0.6648\n"
     ]
    }
   ],
   "source": [
    "history = model.fit(train_images, train_labels, epochs=10,validation_data=(test_images, test_labels))"
   ]
  },
  {
   "cell_type": "code",
   "execution_count": null,
   "metadata": {
    "colab": {
     "base_uri": "https://localhost:8080/",
     "height": 300
    },
    "id": "sh4m50HBI9k4",
    "outputId": "beb0d046-f298-4906-dd17-9041b9ee0d64"
   },
   "outputs": [
    {
     "name": "stdout",
     "output_type": "stream",
     "text": [
      "313/313 - 14s - loss: 0.9273 - accuracy: 0.6733\n"
     ]
    },
    {
     "data": {
      "image/png": "[encoded data removed]",
      "text/plain": [
       "<Figure size 432x288 with 1 Axes>"
      ]
     },
     "metadata": {
      "needs_background": "light",
      "tags": []
     },
     "output_type": "display_data"
    }
   ],
   "source": [
    "plt.plot(history.history['accuracy'], label='accuracy')\n",
    "plt.plot(history.history['val_accuracy'], label = 'val_accuracy')\n",
    "plt.xlabel('Epoch')\n",
    "plt.ylabel('Accuracy')\n",
    "plt.ylim([0.4, 1])\n",
    "plt.legend(loc='lower right')\n",
    "\n",
    "test_loss, test_acc = model.evaluate(test_images,  test_labels, verbose=2)"
   ]
  },
  {
   "cell_type": "markdown",
   "metadata": {
    "id": "oik8gTfuuKOS"
   },
   "source": [
    "# 2 dense layer"
   ]
  },
  {
   "cell_type": "code",
   "execution_count": 9,
   "metadata": {
    "id": "r2Ga7jJ5uHOD"
   },
   "outputs": [],
   "source": [
    "model = models.Sequential()\n",
    "model.add(Conv2D(32, (3, 3), activation='relu', padding='same', input_shape=(32, 32, 3)))\n",
    "model.add(Conv2D(32, (3, 3), activation='relu', padding='same'))\n",
    "model.add(MaxPooling2D((2, 2)))\n",
    "\n",
    "model.add(Flatten())\n",
    "model.add(Dense(32, activation='relu'))\n",
    "model.add(Dense(10, activation='softmax'))"
   ]
  },
  {
   "cell_type": "code",
   "execution_count": 10,
   "metadata": {
    "id": "1flfzVsMutSv"
   },
   "outputs": [],
   "source": [
    "model.compile(optimizer='SGD',loss='categorical_crossentropy',metrics=['accuracy'])"
   ]
  },
  {
   "cell_type": "code",
   "execution_count": 11,
   "metadata": {
    "colab": {
     "base_uri": "https://localhost:8080/"
    },
    "id": "mDEAKQV9uw9G",
    "outputId": "d4e72ad9-177c-44db-c567-43998dbf704d"
   },
   "outputs": [
    {
     "name": "stdout",
     "output_type": "stream",
     "text": [
      "Epoch 1/10\n",
      "1563/1563 [==============================] - 138s 88ms/step - loss: 2.0822 - accuracy: 0.2311 - val_loss: 1.9007 - val_accuracy: 0.3217\n",
      "Epoch 2/10\n",
      "1563/1563 [==============================] - 138s 88ms/step - loss: 1.5839 - accuracy: 0.4365 - val_loss: 1.4156 - val_accuracy: 0.4859\n",
      "Epoch 3/10\n",
      "1563/1563 [==============================] - 138s 88ms/step - loss: 1.3845 - accuracy: 0.5083 - val_loss: 1.3112 - val_accuracy: 0.5337\n",
      "Epoch 4/10\n",
      "1563/1563 [==============================] - 138s 88ms/step - loss: 1.2520 - accuracy: 0.5552 - val_loss: 1.3887 - val_accuracy: 0.5095\n",
      "Epoch 5/10\n",
      "1563/1563 [==============================] - 138s 88ms/step - loss: 1.1573 - accuracy: 0.5951 - val_loss: 1.2651 - val_accuracy: 0.5564\n",
      "Epoch 6/10\n",
      "1563/1563 [==============================] - 137s 88ms/step - loss: 1.0806 - accuracy: 0.6194 - val_loss: 1.1887 - val_accuracy: 0.5912\n",
      "Epoch 7/10\n",
      "1563/1563 [==============================] - 137s 88ms/step - loss: 1.0074 - accuracy: 0.6484 - val_loss: 1.1814 - val_accuracy: 0.5864\n",
      "Epoch 8/10\n",
      "1563/1563 [==============================] - 137s 88ms/step - loss: 0.9494 - accuracy: 0.6707 - val_loss: 1.0948 - val_accuracy: 0.6103\n",
      "Epoch 9/10\n",
      "1563/1563 [==============================] - 137s 88ms/step - loss: 0.8852 - accuracy: 0.6904 - val_loss: 1.0312 - val_accuracy: 0.6399\n",
      "Epoch 10/10\n",
      "1563/1563 [==============================] - 138s 88ms/step - loss: 0.8379 - accuracy: 0.7077 - val_loss: 1.0057 - val_accuracy: 0.6463\n"
     ]
    }
   ],
   "source": [
    "history = model.fit(train_images, train_labels, epochs=10,validation_data=(test_images, test_labels))"
   ]
  },
  {
   "cell_type": "code",
   "execution_count": 12,
   "metadata": {
    "colab": {
     "base_uri": "https://localhost:8080/",
     "height": 300
    },
    "id": "B-1NYMihv0rT",
    "outputId": "b6dac31a-6ec1-48d5-fc52-3c771516b70e"
   },
   "outputs": [
    {
     "name": "stdout",
     "output_type": "stream",
     "text": [
      "313/313 - 6s - loss: 1.0057 - accuracy: 0.6463\n"
     ]
    },
    {
     "data": {
      "image/png": "[encoded data removed]",
      "text/plain": [
       "<Figure size 432x288 with 1 Axes>"
      ]
     },
     "metadata": {
      "needs_background": "light",
      "tags": []
     },
     "output_type": "display_data"
    }
   ],
   "source": [
    "plt.plot(history.history['accuracy'], label='accuracy')\n",
    "plt.plot(history.history['val_accuracy'], label = 'val_accuracy')\n",
    "plt.xlabel('Epoch')\n",
    "plt.ylabel('Accuracy')\n",
    "plt.ylim([0.4, 1])\n",
    "plt.legend(loc='lower right')\n",
    "\n",
    "test_loss, test_acc = model.evaluate(test_images,  test_labels, verbose=2)"
   ]
  },
  {
   "cell_type": "markdown",
   "metadata": {
    "id": "d0g8MTFHtseA"
   },
   "source": [
    "## with batchnormalization\n",
    "\n",
    "## 3 blocks of Conv2D ->BatchNorm2D->MaxPooling2D"
   ]
  },
  {
   "cell_type": "code",
   "execution_count": null,
   "metadata": {
    "id": "_SoRXwDIt2Sb"
   },
   "outputs": [],
   "source": [
    "model = models.Sequential()\n",
    "model.add(Conv2D(32, (3, 3), activation='relu', padding='same', input_shape=(32, 32, 3)))\n",
    "model.add(BatchNormalization())\n",
    "model.add(MaxPooling2D((2, 2)))\n",
    "model.add(Conv2D(64, (3, 3), activation='relu', padding='same'))\n",
    "model.add(BatchNormalization())\n",
    "model.add(MaxPooling2D((2, 2)))\n",
    "model.add(Conv2D(64, (3, 3), activation='relu', padding='same'))\n",
    "model.add(BatchNormalization())\n",
    "model.add(MaxPooling2D((2, 2)))\n",
    "model.add(Flatten())\n",
    "model.add(Dense(64, activation='relu'))\n",
    "model.add(Dense(10, activation='softmax'))"
   ]
  },
  {
   "cell_type": "code",
   "execution_count": null,
   "metadata": {
    "colab": {
     "base_uri": "https://localhost:8080/"
    },
    "id": "TiYQI8qSupSd",
    "outputId": "9ade5a45-0a36-4e16-983e-149e18092743"
   },
   "outputs": [
    {
     "name": "stdout",
     "output_type": "stream",
     "text": [
      "Model: \"sequential_3\"\n",
      "_________________________________________________________________\n",
      "Layer (type)                 Output Shape              Param #   \n",
      "=================================================================\n",
      "conv2d_11 (Conv2D)           (None, 32, 32, 32)        896       \n",
      "_________________________________________________________________\n",
      "batch_normalization_5 (Batch (None, 32, 32, 32)        128       \n",
      "_________________________________________________________________\n",
      "max_pooling2d_8 (MaxPooling2 (None, 16, 16, 32)        0         \n",
      "_________________________________________________________________\n",
      "conv2d_12 (Conv2D)           (None, 16, 16, 64)        18496     \n",
      "_________________________________________________________________\n",
      "batch_normalization_6 (Batch (None, 16, 16, 64)        256       \n",
      "_________________________________________________________________\n",
      "max_pooling2d_9 (MaxPooling2 (None, 8, 8, 64)          0         \n",
      "_________________________________________________________________\n",
      "conv2d_13 (Conv2D)           (None, 8, 8, 64)          36928     \n",
      "_________________________________________________________________\n",
      "batch_normalization_7 (Batch (None, 8, 8, 64)          256       \n",
      "_________________________________________________________________\n",
      "max_pooling2d_10 (MaxPooling (None, 4, 4, 64)          0         \n",
      "_________________________________________________________________\n",
      "flatten_3 (Flatten)          (None, 1024)              0         \n",
      "_________________________________________________________________\n",
      "dense_6 (Dense)              (None, 64)                65600     \n",
      "_________________________________________________________________\n",
      "dense_7 (Dense)              (None, 10)                650       \n",
      "=================================================================\n",
      "Total params: 123,210\n",
      "Trainable params: 122,890\n",
      "Non-trainable params: 320\n",
      "_________________________________________________________________\n"
     ]
    }
   ],
   "source": [
    "model.summary()"
   ]
  },
  {
   "cell_type": "code",
   "execution_count": null,
   "metadata": {
    "colab": {
     "base_uri": "https://localhost:8080/"
    },
    "id": "YWXACTlBuu5T",
    "outputId": "31953585-fce6-48f5-a945-e24ef712a377"
   },
   "outputs": [
    {
     "name": "stdout",
     "output_type": "stream",
     "text": [
      "Epoch 1/10\n",
      "1563/1563 [==============================] - 131s 83ms/step - loss: 1.6536 - accuracy: 0.4168 - val_loss: 1.2368 - val_accuracy: 0.5494\n",
      "Epoch 2/10\n",
      "1563/1563 [==============================] - 130s 83ms/step - loss: 1.0831 - accuracy: 0.6163 - val_loss: 1.0230 - val_accuracy: 0.6352\n",
      "Epoch 3/10\n",
      "1563/1563 [==============================] - 131s 84ms/step - loss: 0.9264 - accuracy: 0.6716 - val_loss: 1.4663 - val_accuracy: 0.5126\n",
      "Epoch 4/10\n",
      "1563/1563 [==============================] - 130s 83ms/step - loss: 0.8315 - accuracy: 0.7079 - val_loss: 1.1553 - val_accuracy: 0.6100\n",
      "Epoch 5/10\n",
      "1563/1563 [==============================] - 129s 83ms/step - loss: 0.7454 - accuracy: 0.7354 - val_loss: 1.0423 - val_accuracy: 0.6422\n",
      "Epoch 6/10\n",
      "1563/1563 [==============================] - 129s 83ms/step - loss: 0.6849 - accuracy: 0.7560 - val_loss: 1.1651 - val_accuracy: 0.6296\n",
      "Epoch 7/10\n",
      "1563/1563 [==============================] - 128s 82ms/step - loss: 0.6280 - accuracy: 0.7807 - val_loss: 1.0208 - val_accuracy: 0.6652\n",
      "Epoch 8/10\n",
      "1563/1563 [==============================] - 129s 83ms/step - loss: 0.5645 - accuracy: 0.8018 - val_loss: 0.8475 - val_accuracy: 0.7201\n",
      "Epoch 9/10\n",
      "1563/1563 [==============================] - 129s 82ms/step - loss: 0.5226 - accuracy: 0.8173 - val_loss: 1.0434 - val_accuracy: 0.6703\n",
      "Epoch 10/10\n",
      "1563/1563 [==============================] - 129s 83ms/step - loss: 0.4863 - accuracy: 0.8287 - val_loss: 1.3800 - val_accuracy: 0.6078\n"
     ]
    }
   ],
   "source": [
    "model.compile(optimizer='SGD',loss='categorical_crossentropy',metrics=['accuracy'])\n",
    "history = model.fit(train_images, train_labels, epochs=10,validation_data=(test_images, test_labels))"
   ]
  },
  {
   "cell_type": "code",
   "execution_count": null,
   "metadata": {
    "colab": {
     "base_uri": "https://localhost:8080/",
     "height": 300
    },
    "id": "QBby4Keuz-sx",
    "outputId": "4dff285a-e979-4aa4-8f00-ee8c80aa2d9f"
   },
   "outputs": [
    {
     "name": "stdout",
     "output_type": "stream",
     "text": [
      "313/313 [==============================] - 7s 21ms/step - loss: 1.3800 - accuracy: 0.6078\n"
     ]
    },
    {
     "data": {
      "image/png": "[encoded data removed]",
      "text/plain": [
       "<Figure size 432x288 with 1 Axes>"
      ]
     },
     "metadata": {
      "needs_background": "light",
      "tags": []
     },
     "output_type": "display_data"
    }
   ],
   "source": [
    "plt.plot(history.history['accuracy'], label='accuracy')\n",
    "plt.plot(history.history['val_accuracy'], label = 'val_accuracy')\n",
    "plt.xlabel('Epoch')\n",
    "plt.ylabel('Accuracy')\n",
    "plt.ylim([0.4, 1])\n",
    "plt.legend(loc='lower right')\n",
    "test_loss, test_acc = model.evaluate(test_images,  test_labels)"
   ]
  },
  {
   "cell_type": "markdown",
   "metadata": {
    "id": "PTqBXp-r0NW-"
   },
   "source": [
    "## with batchnormalization\n",
    "\n",
    "## 2 blocks of Conv2D ->BatchNorm2D->MaxPooling2D"
   ]
  },
  {
   "cell_type": "code",
   "execution_count": null,
   "metadata": {
    "id": "YuQb8Xms0MVC"
   },
   "outputs": [],
   "source": [
    "model = models.Sequential()\n",
    "model.add(Conv2D(32, (3, 3), activation='relu', padding='same', input_shape=(32, 32, 3)))\n",
    "model.add(BatchNormalization())\n",
    "model.add(MaxPooling2D((2, 2)))\n",
    "model.add(Conv2D(64, (3, 3), activation='relu', padding='same'))\n",
    "model.add(BatchNormalization())\n",
    "model.add(MaxPooling2D((2, 2)))\n",
    "model.add(Flatten())\n",
    "model.add(Dense(64, activation='relu'))\n",
    "model.add(Dense(10, activation='softmax'))"
   ]
  },
  {
   "cell_type": "code",
   "execution_count": null,
   "metadata": {
    "colab": {
     "base_uri": "https://localhost:8080/"
    },
    "id": "Dr_-MJQA0e-x",
    "outputId": "4f72c9d3-8dd1-4db2-bd91-485a2ffec4d6"
   },
   "outputs": [
    {
     "name": "stdout",
     "output_type": "stream",
     "text": [
      "Epoch 1/10\n",
      "1563/1563 [==============================] - 109s 69ms/step - loss: 1.6237 - accuracy: 0.4245 - val_loss: 2.1586 - val_accuracy: 0.3588\n",
      "Epoch 2/10\n",
      "1563/1563 [==============================] - 108s 69ms/step - loss: 1.0661 - accuracy: 0.6228 - val_loss: 1.0750 - val_accuracy: 0.6257\n",
      "Epoch 3/10\n",
      "1563/1563 [==============================] - 107s 69ms/step - loss: 0.8868 - accuracy: 0.6885 - val_loss: 1.5599 - val_accuracy: 0.5288\n",
      "Epoch 4/10\n",
      "1563/1563 [==============================] - 108s 69ms/step - loss: 0.7802 - accuracy: 0.7236 - val_loss: 1.2096 - val_accuracy: 0.6087\n",
      "Epoch 5/10\n",
      "1563/1563 [==============================] - 107s 69ms/step - loss: 0.6878 - accuracy: 0.7597 - val_loss: 1.1027 - val_accuracy: 0.6351\n",
      "Epoch 6/10\n",
      "1563/1563 [==============================] - 108s 69ms/step - loss: 0.6071 - accuracy: 0.7868 - val_loss: 1.1122 - val_accuracy: 0.6472\n",
      "Epoch 7/10\n",
      "1563/1563 [==============================] - 108s 69ms/step - loss: 0.5433 - accuracy: 0.8096 - val_loss: 1.0351 - val_accuracy: 0.6582\n",
      "Epoch 8/10\n",
      "1563/1563 [==============================] - 108s 69ms/step - loss: 0.4737 - accuracy: 0.8345 - val_loss: 1.0589 - val_accuracy: 0.6728\n",
      "Epoch 9/10\n",
      "1563/1563 [==============================] - 108s 69ms/step - loss: 0.4118 - accuracy: 0.8564 - val_loss: 1.1936 - val_accuracy: 0.6441\n",
      "Epoch 10/10\n",
      "1563/1563 [==============================] - 107s 69ms/step - loss: 0.3579 - accuracy: 0.8745 - val_loss: 1.1184 - val_accuracy: 0.6698\n"
     ]
    }
   ],
   "source": [
    "model.compile(optimizer='SGD',loss='categorical_crossentropy',metrics=['accuracy'])\n",
    "history = model.fit(train_images, train_labels, epochs=10,validation_data=(test_images, test_labels))"
   ]
  },
  {
   "cell_type": "code",
   "execution_count": null,
   "metadata": {
    "colab": {
     "base_uri": "https://localhost:8080/",
     "height": 300
    },
    "id": "KOHr-YtY4XKa",
    "outputId": "d5116b03-ef1e-4ec8-e940-dbfd407ce6d5"
   },
   "outputs": [
    {
     "name": "stdout",
     "output_type": "stream",
     "text": [
      "313/313 [==============================] - 6s 18ms/step - loss: 1.1184 - accuracy: 0.6698\n"
     ]
    },
    {
     "data": {
      "image/png": "[encoded data removed]",
      "text/plain": [
       "<Figure size 432x288 with 1 Axes>"
      ]
     },
     "metadata": {
      "needs_background": "light",
      "tags": []
     },
     "output_type": "display_data"
    }
   ],
   "source": [
    "plt.plot(history.history['accuracy'], label='accuracy')\n",
    "plt.plot(history.history['val_accuracy'], label = 'val_accuracy')\n",
    "plt.xlabel('Epoch')\n",
    "plt.ylabel('Accuracy')\n",
    "plt.ylim([0.4, 1])\n",
    "plt.legend(loc='lower right')\n",
    "\n",
    "test_loss, test_acc = model.evaluate(test_images,  test_labels)"
   ]
  },
  {
   "cell_type": "markdown",
   "metadata": {
    "id": "3d5uUeftYpco"
   },
   "source": [
    "# best model from the thsese options\n",
    "1) Unormalised(without batch normalization)\n",
    "\n",
    "2) 2d block of Conv2D ->BatchNorm2D->MaxPooling2D\n",
    "\n",
    "3) 3d block of Conv2D ->BatchNorm2D->MaxPooling2D\n",
    "\n",
    "In every model useses 2 dense layer ,\"SGD\" optimizer and \"categorical_crossentropy\" as a loss function"
   ]
  },
  {
   "cell_type": "code",
   "execution_count": null,
   "metadata": {
    "id": "KbT3tK4AYoUX"
   },
   "outputs": [],
   "source": [
    "model.compile(optimizer='SGD',loss='categorical_crossentropy',metrics=['accuracy'])\n",
    "checkpoint_filepath = './content/sample_data'\n",
    "model_checkpoint_callback = ModelCheckpoint(\n",
    "    filepath=checkpoint_filepath,\n",
    "    save_weights_only=True,\n",
    "    monitor='val_accuracy',\n",
    "    mode='max',\n",
    "    save_best_only=True)"
   ]
  },
  {
   "cell_type": "code",
   "execution_count": null,
   "metadata": {
    "colab": {
     "base_uri": "https://localhost:8080/",
     "height": 886
    },
    "id": "Rp7cVxoka6C9",
    "outputId": "937c7661-9e93-4419-c212-31c3a47f335b"
   },
   "outputs": [
    {
     "name": "stdout",
     "output_type": "stream",
     "text": [
      "Epoch 1/50\n",
      "500/500 [==============================] - 264s 526ms/step - loss: 0.7245 - accuracy: 0.7477 - val_loss: 0.8920 - val_accuracy: 0.6887\n",
      "Epoch 2/50\n",
      "500/500 [==============================] - 263s 526ms/step - loss: 0.6914 - accuracy: 0.7607 - val_loss: 0.8703 - val_accuracy: 0.7016\n",
      "Epoch 3/50\n",
      "500/500 [==============================] - 263s 525ms/step - loss: 0.6673 - accuracy: 0.7691 - val_loss: 0.8747 - val_accuracy: 0.7013\n",
      "Epoch 4/50\n",
      "500/500 [==============================] - 265s 529ms/step - loss: 0.6410 - accuracy: 0.7757 - val_loss: 0.8591 - val_accuracy: 0.7059\n",
      "Epoch 5/50\n",
      "500/500 [==============================] - 265s 529ms/step - loss: 0.6177 - accuracy: 0.7856 - val_loss: 0.8560 - val_accuracy: 0.7108\n",
      "Epoch 6/50\n",
      "500/500 [==============================] - 264s 528ms/step - loss: 0.6032 - accuracy: 0.7898 - val_loss: 0.8706 - val_accuracy: 0.7067\n",
      "Epoch 7/50\n",
      "500/500 [==============================] - 264s 528ms/step - loss: 0.5808 - accuracy: 0.8005 - val_loss: 0.8615 - val_accuracy: 0.7080\n",
      "Epoch 8/50\n",
      "500/500 [==============================] - 264s 529ms/step - loss: 0.5639 - accuracy: 0.8034 - val_loss: 0.8621 - val_accuracy: 0.7127\n",
      "Epoch 9/50\n",
      "500/500 [==============================] - 264s 529ms/step - loss: 0.5440 - accuracy: 0.8098 - val_loss: 0.8855 - val_accuracy: 0.7091\n",
      "Epoch 10/50\n",
      "500/500 [==============================] - 264s 529ms/step - loss: 0.5306 - accuracy: 0.8155 - val_loss: 0.8722 - val_accuracy: 0.7140\n",
      "Epoch 11/50\n",
      "500/500 [==============================] - 264s 529ms/step - loss: 0.5048 - accuracy: 0.8274 - val_loss: 0.9017 - val_accuracy: 0.7056\n",
      "Epoch 12/50\n",
      "500/500 [==============================] - 265s 530ms/step - loss: 0.4903 - accuracy: 0.8325 - val_loss: 0.9055 - val_accuracy: 0.7105\n",
      "Epoch 13/50\n",
      "500/500 [==============================] - 265s 530ms/step - loss: 0.4718 - accuracy: 0.8364 - val_loss: 0.9291 - val_accuracy: 0.7029\n",
      "Epoch 14/50\n",
      "500/500 [==============================] - 264s 529ms/step - loss: 0.4473 - accuracy: 0.8465 - val_loss: 0.9263 - val_accuracy: 0.7089\n",
      "Epoch 15/50\n",
      "500/500 [==============================] - 264s 528ms/step - loss: 0.4358 - accuracy: 0.8491 - val_loss: 0.9013 - val_accuracy: 0.7206\n",
      "Epoch 16/50\n",
      "255/500 [==============>...............] - ETA: 2:03 - loss: 0.4080 - accuracy: 0.8589"
     ]
    },
    {
     "ename": "KeyboardInterrupt",
     "evalue": "ignored",
     "output_type": "error",
     "traceback": [
      "\u001b[0;31m---------------------------------------------------------------------------\u001b[0m",
      "\u001b[0;31mKeyboardInterrupt\u001b[0m                         Traceback (most recent call last)",
      "\u001b[0;32m<ipython-input-15-c3a7767d7f91>\u001b[0m in \u001b[0;36m<module>\u001b[0;34m()\u001b[0m\n\u001b[1;32m      1\u001b[0m model.fit(train_images, train_labels,epochs=50,batch_size=100,validation_data=(test_images, test_labels), \n\u001b[0;32m----> 2\u001b[0;31m           callbacks=[model_checkpoint_callback])\n\u001b[0m",
      "\u001b[0;32m/usr/local/lib/python3.7/dist-packages/tensorflow/python/keras/engine/training.py\u001b[0m in \u001b[0;36mfit\u001b[0;34m(self, x, y, batch_size, epochs, verbose, callbacks, validation_split, validation_data, shuffle, class_weight, sample_weight, initial_epoch, steps_per_epoch, validation_steps, validation_batch_size, validation_freq, max_queue_size, workers, use_multiprocessing)\u001b[0m\n\u001b[1;32m   1098\u001b[0m                 _r=1):\n\u001b[1;32m   1099\u001b[0m               \u001b[0mcallbacks\u001b[0m\u001b[0;34m.\u001b[0m\u001b[0mon_train_batch_begin\u001b[0m\u001b[0;34m(\u001b[0m\u001b[0mstep\u001b[0m\u001b[0;34m)\u001b[0m\u001b[0;34m\u001b[0m\u001b[0;34m\u001b[0m\u001b[0m\n\u001b[0;32m-> 1100\u001b[0;31m               \u001b[0mtmp_logs\u001b[0m \u001b[0;34m=\u001b[0m \u001b[0mself\u001b[0m\u001b[0;34m.\u001b[0m\u001b[0mtrain_function\u001b[0m\u001b[0;34m(\u001b[0m\u001b[0miterator\u001b[0m\u001b[0;34m)\u001b[0m\u001b[0;34m\u001b[0m\u001b[0;34m\u001b[0m\u001b[0m\n\u001b[0m\u001b[1;32m   1101\u001b[0m               \u001b[0;32mif\u001b[0m \u001b[0mdata_handler\u001b[0m\u001b[0;34m.\u001b[0m\u001b[0mshould_sync\u001b[0m\u001b[0;34m:\u001b[0m\u001b[0;34m\u001b[0m\u001b[0;34m\u001b[0m\u001b[0m\n\u001b[1;32m   1102\u001b[0m                 \u001b[0mcontext\u001b[0m\u001b[0;34m.\u001b[0m\u001b[0masync_wait\u001b[0m\u001b[0;34m(\u001b[0m\u001b[0;34m)\u001b[0m\u001b[0;34m\u001b[0m\u001b[0;34m\u001b[0m\u001b[0m\n",
      "\u001b[0;32m/usr/local/lib/python3.7/dist-packages/tensorflow/python/eager/def_function.py\u001b[0m in \u001b[0;36m__call__\u001b[0;34m(self, *args, **kwds)\u001b[0m\n\u001b[1;32m    826\u001b[0m     \u001b[0mtracing_count\u001b[0m \u001b[0;34m=\u001b[0m \u001b[0mself\u001b[0m\u001b[0;34m.\u001b[0m\u001b[0mexperimental_get_tracing_count\u001b[0m\u001b[0;34m(\u001b[0m\u001b[0;34m)\u001b[0m\u001b[0;34m\u001b[0m\u001b[0;34m\u001b[0m\u001b[0m\n\u001b[1;32m    827\u001b[0m     \u001b[0;32mwith\u001b[0m \u001b[0mtrace\u001b[0m\u001b[0;34m.\u001b[0m\u001b[0mTrace\u001b[0m\u001b[0;34m(\u001b[0m\u001b[0mself\u001b[0m\u001b[0;34m.\u001b[0m\u001b[0m_name\u001b[0m\u001b[0;34m)\u001b[0m \u001b[0;32mas\u001b[0m \u001b[0mtm\u001b[0m\u001b[0;34m:\u001b[0m\u001b[0;34m\u001b[0m\u001b[0;34m\u001b[0m\u001b[0m\n\u001b[0;32m--> 828\u001b[0;31m       \u001b[0mresult\u001b[0m \u001b[0;34m=\u001b[0m \u001b[0mself\u001b[0m\u001b[0;34m.\u001b[0m\u001b[0m_call\u001b[0m\u001b[0;34m(\u001b[0m\u001b[0;34m*\u001b[0m\u001b[0margs\u001b[0m\u001b[0;34m,\u001b[0m \u001b[0;34m**\u001b[0m\u001b[0mkwds\u001b[0m\u001b[0;34m)\u001b[0m\u001b[0;34m\u001b[0m\u001b[0;34m\u001b[0m\u001b[0m\n\u001b[0m\u001b[1;32m    829\u001b[0m       \u001b[0mcompiler\u001b[0m \u001b[0;34m=\u001b[0m \u001b[0;34m\"xla\"\u001b[0m \u001b[0;32mif\u001b[0m \u001b[0mself\u001b[0m\u001b[0;34m.\u001b[0m\u001b[0m_experimental_compile\u001b[0m \u001b[0;32melse\u001b[0m \u001b[0;34m\"nonXla\"\u001b[0m\u001b[0;34m\u001b[0m\u001b[0;34m\u001b[0m\u001b[0m\n\u001b[1;32m    830\u001b[0m       \u001b[0mnew_tracing_count\u001b[0m \u001b[0;34m=\u001b[0m \u001b[0mself\u001b[0m\u001b[0;34m.\u001b[0m\u001b[0mexperimental_get_tracing_count\u001b[0m\u001b[0;34m(\u001b[0m\u001b[0;34m)\u001b[0m\u001b[0;34m\u001b[0m\u001b[0;34m\u001b[0m\u001b[0m\n",
      "\u001b[0;32m/usr/local/lib/python3.7/dist-packages/tensorflow/python/eager/def_function.py\u001b[0m in \u001b[0;36m_call\u001b[0;34m(self, *args, **kwds)\u001b[0m\n\u001b[1;32m    853\u001b[0m       \u001b[0;31m# In this case we have created variables on the first call, so we run the\u001b[0m\u001b[0;34m\u001b[0m\u001b[0;34m\u001b[0m\u001b[0;34m\u001b[0m\u001b[0m\n\u001b[1;32m    854\u001b[0m       \u001b[0;31m# defunned version which is guaranteed to never create variables.\u001b[0m\u001b[0;34m\u001b[0m\u001b[0;34m\u001b[0m\u001b[0;34m\u001b[0m\u001b[0m\n\u001b[0;32m--> 855\u001b[0;31m       \u001b[0;32mreturn\u001b[0m \u001b[0mself\u001b[0m\u001b[0;34m.\u001b[0m\u001b[0m_stateless_fn\u001b[0m\u001b[0;34m(\u001b[0m\u001b[0;34m*\u001b[0m\u001b[0margs\u001b[0m\u001b[0;34m,\u001b[0m \u001b[0;34m**\u001b[0m\u001b[0mkwds\u001b[0m\u001b[0;34m)\u001b[0m  \u001b[0;31m# pylint: disable=not-callable\u001b[0m\u001b[0;34m\u001b[0m\u001b[0;34m\u001b[0m\u001b[0m\n\u001b[0m\u001b[1;32m    856\u001b[0m     \u001b[0;32melif\u001b[0m \u001b[0mself\u001b[0m\u001b[0;34m.\u001b[0m\u001b[0m_stateful_fn\u001b[0m \u001b[0;32mis\u001b[0m \u001b[0;32mnot\u001b[0m \u001b[0;32mNone\u001b[0m\u001b[0;34m:\u001b[0m\u001b[0;34m\u001b[0m\u001b[0;34m\u001b[0m\u001b[0m\n\u001b[1;32m    857\u001b[0m       \u001b[0;31m# Release the lock early so that multiple threads can perform the call\u001b[0m\u001b[0;34m\u001b[0m\u001b[0;34m\u001b[0m\u001b[0;34m\u001b[0m\u001b[0m\n",
      "\u001b[0;32m/usr/local/lib/python3.7/dist-packages/tensorflow/python/eager/function.py\u001b[0m in \u001b[0;36m__call__\u001b[0;34m(self, *args, **kwargs)\u001b[0m\n\u001b[1;32m   2941\u001b[0m        filtered_flat_args) = self._maybe_define_function(args, kwargs)\n\u001b[1;32m   2942\u001b[0m     return graph_function._call_flat(\n\u001b[0;32m-> 2943\u001b[0;31m         filtered_flat_args, captured_inputs=graph_function.captured_inputs)  # pylint: disable=protected-access\n\u001b[0m\u001b[1;32m   2944\u001b[0m \u001b[0;34m\u001b[0m\u001b[0m\n\u001b[1;32m   2945\u001b[0m   \u001b[0;34m@\u001b[0m\u001b[0mproperty\u001b[0m\u001b[0;34m\u001b[0m\u001b[0;34m\u001b[0m\u001b[0m\n",
      "\u001b[0;32m/usr/local/lib/python3.7/dist-packages/tensorflow/python/eager/function.py\u001b[0m in \u001b[0;36m_call_flat\u001b[0;34m(self, args, captured_inputs, cancellation_manager)\u001b[0m\n\u001b[1;32m   1917\u001b[0m       \u001b[0;31m# No tape is watching; skip to running the function.\u001b[0m\u001b[0;34m\u001b[0m\u001b[0;34m\u001b[0m\u001b[0;34m\u001b[0m\u001b[0m\n\u001b[1;32m   1918\u001b[0m       return self._build_call_outputs(self._inference_function.call(\n\u001b[0;32m-> 1919\u001b[0;31m           ctx, args, cancellation_manager=cancellation_manager))\n\u001b[0m\u001b[1;32m   1920\u001b[0m     forward_backward = self._select_forward_and_backward_functions(\n\u001b[1;32m   1921\u001b[0m         \u001b[0margs\u001b[0m\u001b[0;34m,\u001b[0m\u001b[0;34m\u001b[0m\u001b[0;34m\u001b[0m\u001b[0m\n",
      "\u001b[0;32m/usr/local/lib/python3.7/dist-packages/tensorflow/python/eager/function.py\u001b[0m in \u001b[0;36mcall\u001b[0;34m(self, ctx, args, cancellation_manager)\u001b[0m\n\u001b[1;32m    558\u001b[0m               \u001b[0minputs\u001b[0m\u001b[0;34m=\u001b[0m\u001b[0margs\u001b[0m\u001b[0;34m,\u001b[0m\u001b[0;34m\u001b[0m\u001b[0;34m\u001b[0m\u001b[0m\n\u001b[1;32m    559\u001b[0m               \u001b[0mattrs\u001b[0m\u001b[0;34m=\u001b[0m\u001b[0mattrs\u001b[0m\u001b[0;34m,\u001b[0m\u001b[0;34m\u001b[0m\u001b[0;34m\u001b[0m\u001b[0m\n\u001b[0;32m--> 560\u001b[0;31m               ctx=ctx)\n\u001b[0m\u001b[1;32m    561\u001b[0m         \u001b[0;32melse\u001b[0m\u001b[0;34m:\u001b[0m\u001b[0;34m\u001b[0m\u001b[0;34m\u001b[0m\u001b[0m\n\u001b[1;32m    562\u001b[0m           outputs = execute.execute_with_cancellation(\n",
      "\u001b[0;32m/usr/local/lib/python3.7/dist-packages/tensorflow/python/eager/execute.py\u001b[0m in \u001b[0;36mquick_execute\u001b[0;34m(op_name, num_outputs, inputs, attrs, ctx, name)\u001b[0m\n\u001b[1;32m     58\u001b[0m     \u001b[0mctx\u001b[0m\u001b[0;34m.\u001b[0m\u001b[0mensure_initialized\u001b[0m\u001b[0;34m(\u001b[0m\u001b[0;34m)\u001b[0m\u001b[0;34m\u001b[0m\u001b[0;34m\u001b[0m\u001b[0m\n\u001b[1;32m     59\u001b[0m     tensors = pywrap_tfe.TFE_Py_Execute(ctx._handle, device_name, op_name,\n\u001b[0;32m---> 60\u001b[0;31m                                         inputs, attrs, num_outputs)\n\u001b[0m\u001b[1;32m     61\u001b[0m   \u001b[0;32mexcept\u001b[0m \u001b[0mcore\u001b[0m\u001b[0;34m.\u001b[0m\u001b[0m_NotOkStatusException\u001b[0m \u001b[0;32mas\u001b[0m \u001b[0me\u001b[0m\u001b[0;34m:\u001b[0m\u001b[0;34m\u001b[0m\u001b[0;34m\u001b[0m\u001b[0m\n\u001b[1;32m     62\u001b[0m     \u001b[0;32mif\u001b[0m \u001b[0mname\u001b[0m \u001b[0;32mis\u001b[0m \u001b[0;32mnot\u001b[0m \u001b[0;32mNone\u001b[0m\u001b[0;34m:\u001b[0m\u001b[0;34m\u001b[0m\u001b[0;34m\u001b[0m\u001b[0m\n",
      "\u001b[0;31mKeyboardInterrupt\u001b[0m: "
     ]
    }
   ],
   "source": [
    "model.fit(train_images, train_labels,epochs=50,batch_size=100,validation_data=(test_images, test_labels), \n",
    "          callbacks=[model_checkpoint_callback])"
   ]
  },
  {
   "cell_type": "markdown",
   "metadata": {},
   "source": [
    "##### here, this is Keyboard interrupt error , because model take more time for 50 epochs so i intrupted  after 16 epochs , still ggetting quit good accuracy about 72"
   ]
  },
  {
   "cell_type": "code",
   "execution_count": null,
   "metadata": {
    "colab": {
     "base_uri": "https://localhost:8080/"
    },
    "id": "r_NCqLxaaytD",
    "outputId": "79f33a9b-9277-402c-834c-aa4bc306f1e0"
   },
   "outputs": [
    {
     "data": {
      "text/plain": [
       "<tensorflow.python.training.tracking.util.CheckpointLoadStatus at 0x7f9d71f2d490>"
      ]
     },
     "execution_count": 17,
     "metadata": {
      "tags": []
     },
     "output_type": "execute_result"
    }
   ],
   "source": [
    "model.load_weights(checkpoint_filepath)"
   ]
  },
  {
   "cell_type": "code",
   "execution_count": null,
   "metadata": {
    "id": "atKh_x9uhdF1"
   },
   "outputs": [],
   "source": [
    "model.compile(loss='binary_crossentropy', optimizer='SGD', metrics=['accuracy'])"
   ]
  },
  {
   "cell_type": "code",
   "execution_count": null,
   "metadata": {
    "colab": {
     "base_uri": "https://localhost:8080/",
     "height": 300
    },
    "id": "2MBEunLchxWC",
    "outputId": "ba7b57c4-6f52-4673-931a-3db49109d35b"
   },
   "outputs": [
    {
     "name": "stdout",
     "output_type": "stream",
     "text": [
      "313/313 [==============================] - 13s 41ms/step - loss: 1.3206 - accuracy: 0.7243\n"
     ]
    },
    {
     "data": {
      "image/png": "[encoded data removed]",
      "text/plain": [
       "<Figure size 432x288 with 1 Axes>"
      ]
     },
     "metadata": {
      "needs_background": "light",
      "tags": []
     },
     "output_type": "display_data"
    }
   ],
   "source": [
    "plt.plot(history.history['accuracy'], label='accuracy')\n",
    "plt.plot(history.history['val_accuracy'], label = 'val_accuracy')\n",
    "plt.xlabel('Epoch')\n",
    "plt.ylabel('Accuracy')\n",
    "plt.ylim([0.4, 1])\n",
    "plt.legend(loc='lower right')\n",
    "\n",
    "test_loss, test_acc = model.evaluate(test_images,  test_labels)"
   ]
  }
 ],
 "metadata": {
  "colab": {
   "collapsed_sections": [],
   "name": "Assignment3_q1.ipynb",
   "provenance": []
  },
  "kernelspec": {
   "display_name": "Python 3",
   "language": "python",
   "name": "python3"
  },
  "language_info": {
   "codemirror_mode": {
    "name": "ipython",
    "version": 3
   },
   "file_extension": ".py",
   "mimetype": "text/x-python",
   "name": "python",
   "nbconvert_exporter": "python",
   "pygments_lexer": "ipython3",
   "version": "3.8.5"
  }
 },
 "nbformat": 4,
 "nbformat_minor": 1
}
