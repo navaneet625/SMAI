{
 "cells": [
  {
   "cell_type": "markdown",
   "metadata": {
    "id": "vpWQigP0msj9"
   },
   "source": [
    "**Part 1:** \n",
    "\n",
    "Use the **Fashion-MNIST** dataset for this question.\n",
    "\n",
    "1) Load the dataset and perform splitting into training and validation sets with 70:30 ratio.\n",
    "\n",
    "> Do we need to normalise data? [If so Does it make any difference?]\n",
    "\n",
    "2) Implement the K Means algorithm. You need to find the optimal number of clusters using the\n",
    "    elbow method and silhouette method. \n",
    "\n",
    "3) Define the initial clusters’ centroids using:</br>\n",
    "> i) Forgy</br>\n",
    "\n",
    "> ii) Random Partition\n",
    "\n",
    "4) Experiment with different distance measures[Euclidean distance, Manhattan distance].\n",
    "\n",
    "5) Plot the error vs number of clusters graph while using the elbow method and silhouette \n",
    "    method. Report the optimal number of clusters found.\n",
    "\n",
    "6) Report the training and the validation accuracy and Compare your trained model with a model trained by the scikit-learn\n",
    "\n",
    "7) Visualize the dataset to depict the clusters formed. #Prefer T-SNE\n",
    "\n",
    "8) Implement K-means++, and repeat task 1 to task 7 again.</br>\n",
    "</br>\n",
    "</br>\n",
    "</br>\n",
    "</br>\n",
    "\n",
    "**Part 2:**\n",
    "</br>\n",
    "In this task, you will perform operations on `[data.csv](https://drive.google.com/file/d/15NPkfXFoTkiRBlcI4ffe_Lp_BFOyf8UY/view?usp=sharing)`, data.csv is a  latent space representation of  Fashion-MNIST, before doing this task please read about latent space representation.\n",
    "\n",
    "9) Load the data.csv file and apply Kmeans and Kmeans++, You need to find the optimal number of clusters using the elbow method and silhouette method.\n",
    "\n",
    "10) Visualize the dataset to depict the clusters formed. # Prefer T-SNE\n",
    "\n",
    "11) From these experiments(Part 1 and Part 2), compare accuracy or error, and report which one is better and why?\n",
    "</br>\n",
    "</br>\n",
    "**Note:** If the model takes a lot of time to train you can use MiniBatchKMeans.\n",
    " \n",
    "\n",
    "\n"
   ]
  },
  {
   "cell_type": "code",
   "execution_count": 10,
   "metadata": {
    "id": "WGzfB8i8lqKs"
   },
   "outputs": [],
   "source": [
    "import numpy as np\n",
    "from sklearn.model_selection import train_test_split\n",
    "import matplotlib.pyplot as plt\n",
    "import pandas as pd\n",
    "import sklearn\n",
    "import seaborn as sns\n",
    "import math,statistics\n",
    "from statistics import mean\n",
    "from sklearn.metrics import accuracy_score\n",
    "from sklearn.metrics.cluster import homogeneity_score\n",
    "from sklearn import metrics\n",
    "from sklearn.metrics import silhouette_score"
   ]
  },
  {
   "cell_type": "markdown",
   "metadata": {
    "id": "tI1rCRrHlqKx"
   },
   "source": [
    "# Part1"
   ]
  },
  {
   "cell_type": "code",
   "execution_count": 2,
   "metadata": {
    "colab": {
     "base_uri": "https://localhost:8080/"
    },
    "id": "6j7nYmipmrC6",
    "outputId": "15f91fe8-dcc9-41a6-bcf5-eb4281166ac6"
   },
   "outputs": [
    {
     "name": "stdout",
     "output_type": "stream",
     "text": [
      "Downloading data from https://storage.googleapis.com/tensorflow/tf-keras-datasets/train-labels-idx1-ubyte.gz\n",
      "32768/29515 [=================================] - 0s 0us/step\n",
      "Downloading data from https://storage.googleapis.com/tensorflow/tf-keras-datasets/train-images-idx3-ubyte.gz\n",
      "26427392/26421880 [==============================] - 0s 0us/step\n",
      "Downloading data from https://storage.googleapis.com/tensorflow/tf-keras-datasets/t10k-labels-idx1-ubyte.gz\n",
      "8192/5148 [===============================================] - 0s 0us/step\n",
      "Downloading data from https://storage.googleapis.com/tensorflow/tf-keras-datasets/t10k-images-idx3-ubyte.gz\n",
      "4423680/4422102 [==============================] - 0s 0us/step\n",
      "(60000, 28, 28) (60000,) (10000, 28, 28) (10000,)\n",
      "(70000, 28, 28) (70000,)\n",
      "(49000, 784) (21000, 784)\n"
     ]
    }
   ],
   "source": [
    "from keras.datasets import fashion_mnist\n",
    "(trainX, trainy), (testX, testy) = fashion_mnist.load_data()\n",
    "print(trainX.shape,trainy.shape,testX.shape,testy.shape)\n",
    "X = np.concatenate((trainX,testX),axis=0)\n",
    "y = np.concatenate((trainy,testy),axis=0)\n",
    "print(X.shape,y.shape)\n",
    "X = X.reshape(70000,784)\n",
    "X_train,X_test,y_train,y_test = train_test_split(X,y,test_size=0.3,shuffle = True,random_state=123)\n",
    "print(X_train.shape,X_test.shape)"
   ]
  },
  {
   "cell_type": "code",
   "execution_count": null,
   "metadata": {
    "id": "Dl1RbehclqK4",
    "outputId": "5a7dd448-feaf-49e8-d981-17ba9cc32a09"
   },
   "outputs": [
    {
     "data": {
      "image/png": "[encoded data removed]",
      "text/plain": [
       "<Figure size 1440x720 with 4 Axes>"
      ]
     },
     "metadata": {
      "needs_background": "light",
      "tags": []
     },
     "output_type": "display_data"
    }
   ],
   "source": [
    "fig = plt.figure(figsize=(20,10))\n",
    "plt.subplot(141)\n",
    "plt.imshow(X[0].reshape(28,28))\n",
    "plt.subplot(142)\n",
    "plt.imshow(X[490].reshape(28,28))\n",
    "plt.subplot(143)\n",
    "plt.imshow(X[590].reshape(28,28))\n",
    "plt.subplot(144)\n",
    "plt.imshow(X[800].reshape(28,28))\n",
    "plt.show()"
   ]
  },
  {
   "cell_type": "code",
   "execution_count": null,
   "metadata": {
    "id": "f9rUqBY1lqK7",
    "outputId": "74e43d89-a71b-4f4d-b4a2-e2eb6bf292a8"
   },
   "outputs": [
    {
     "name": "stdout",
     "output_type": "stream",
     "text": [
      "[[   0    1    2    3    4    5    6    7    8    9]\n",
      " [7000 7000 7000 7000 7000 7000 7000 7000 7000 7000]]\n"
     ]
    }
   ],
   "source": [
    "(unique, counts) = np.unique(y, return_counts=True)\n",
    "\n",
    "frequencies = np.asarray((unique, counts))\n",
    "print(frequencies)"
   ]
  },
  {
   "cell_type": "code",
   "execution_count": null,
   "metadata": {
    "id": "AW0iiyC6qDlb"
   },
   "outputs": [],
   "source": [
    "def euclidean(centroids,dataPoint):\n",
    "    dist_list = []\n",
    "    for i in centroids:\n",
    "        dst = np.linalg.norm(i-dataPoint)\n",
    "        dist_list.append(dst)\n",
    "    return dist_list\n",
    " \n",
    "def manhatten(centroids,dataPoint):\n",
    "    dist_list = []\n",
    "    for i in centroids:\n",
    "        dst = np.sum(abs(i-dataPoint))\n",
    "        dist_list.append(dst)\n",
    "    return dist_list"
   ]
  },
  {
   "cell_type": "markdown",
   "metadata": {
    "id": "r75fZXrSlqK9"
   },
   "source": [
    "#### Forgy method are used to initialized the cluster centroid , which are initialize centre by random data point assigned to a each cluster"
   ]
  },
  {
   "cell_type": "markdown",
   "metadata": {
    "id": "2TqonfMQlqK_"
   },
   "source": [
    "#### Random partition are also used to initialise the cluster ,in which data partitioned in k cluster after that we computing the of eack cluster and assigned as centroid of cluster"
   ]
  },
  {
   "cell_type": "code",
   "execution_count": null,
   "metadata": {
    "id": "wMgMc3bslqLB"
   },
   "outputs": [],
   "source": [
    "def kmeans(metric,k,itr,X,initialize_cen):\n",
    "    centroids = []\n",
    "    if initialize_cen == 'forgy':\n",
    "        X_len = len(X)\n",
    "        for i in range(0,k):\n",
    "            a = np.random.randint(0,X_len-1)\n",
    "            centroids.append(X[a])\n",
    "    if initialize_cen == 'random':\n",
    "        idx = np.random.choice(range(0, k), replace = True, size = X.shape[0])\n",
    "        mean = []\n",
    "        for i in range(k):\n",
    "            mean.append(X[idx == i].mean(axis=0))\n",
    "        centroids = np.concatenate([val[ None, :] for val in mean], axis = 0)\n",
    "    final_cluster = None    \n",
    "    for it in range(0,itr):\n",
    "        #creating number of cluster\n",
    "        clusters = []\n",
    "        for cls in range(k):\n",
    "            clusters.append([])\n",
    "        for x in X:\n",
    "            dist_ = None\n",
    "            if metric == \"euclidean\":\n",
    "                dist_ = euclidean(centroids,x)\n",
    "            if metric == \"manhatten\":\n",
    "                dist_ = manhatten(centroids,x)\n",
    "            minpos = dist_.index(min(dist_))\n",
    "            clusters[minpos].append(x)\n",
    "        for i in range(k):\n",
    "            centroids[i]= np.mean(clusters[i],axis=0)\n",
    "        final_cluster = clusters\n",
    "    return centroids,final_cluster\n",
    "# centroids = kmeans(\"euclidean\",10,10,X_train,'random')\n",
    "# print(centroids.shape)"
   ]
  },
  {
   "cell_type": "markdown",
   "metadata": {
    "id": "W-7vvxYdlqLC"
   },
   "source": [
    "#### Elbow method are used to detremine optimal value of K(number of cluster) on the basis of Distortion and Inertia"
   ]
  },
  {
   "cell_type": "code",
   "execution_count": null,
   "metadata": {
    "id": "buw6dsW5lqLF"
   },
   "outputs": [],
   "source": [
    "def elbow(X,y):\n",
    "    dist_list = []\n",
    "    for k in range(1,13):\n",
    "        centroids,clusters = kmeans(\"euclidean\",k,10,X,\"forgy\")\n",
    "        print(len(centroids),len(clusters))\n",
    "        inertia = 0\n",
    "        for j in range(0,len(clusters)):\n",
    "            inertia+=np.sum((np.array(clusters[j])-np.array(centroids[j]))**2)\n",
    "        print(inertia)\n",
    "        dist_list.append(inertia)\n",
    "    return dist_list"
   ]
  },
  {
   "cell_type": "code",
   "execution_count": null,
   "metadata": {
    "id": "GuCNQNkmlqLG",
    "outputId": "a3d72983-e7dc-43b4-995c-663be8378405"
   },
   "outputs": [
    {
     "name": "stdout",
     "output_type": "stream",
     "text": [
      "1 1\n",
      "310314631973.5135\n",
      "2 2\n",
      "245034446221.03436\n",
      "3 3\n",
      "209736065802.794\n",
      "4 4\n",
      "190012711943.0259\n",
      "5 5\n",
      "182206350430.4613\n",
      "6 6\n",
      "167066864340.44907\n",
      "7 7\n",
      "161415544431.92365\n",
      "8 8\n",
      "156806073032.32025\n",
      "9 9\n",
      "156316832033.70465\n",
      "10 10\n",
      "150086371072.70624\n",
      "11 11\n",
      "142915944031.68387\n",
      "12 12\n",
      "140024887029.03732\n"
     ]
    }
   ],
   "source": [
    "Dist_list = elbow(X,y)"
   ]
  },
  {
   "cell_type": "code",
   "execution_count": null,
   "metadata": {
    "id": "ca-d3_8tlqLH",
    "outputId": "2634a1f8-b906-4d31-98cc-e7dbb6b79633"
   },
   "outputs": [
    {
     "data": {
      "image/png": "[encoded data removed]",
      "text/plain": [
       "<Figure size 432x288 with 1 Axes>"
      ]
     },
     "metadata": {
      "needs_background": "light",
      "tags": []
     },
     "output_type": "display_data"
    }
   ],
   "source": [
    "x_data = Dist_list\n",
    "y_data = [1,2,3,4,5,6,7,8,9,10,11,12]\n",
    "plt.plot(y_data, x_data, label='Elbow graph for Max distance vs number of cluster')\n",
    "plt.xlabel('Number of cluster k')\n",
    "plt.ylabel('Inertia')\n",
    "plt.title('Elbow graph')\n",
    "plt.show()"
   ]
  },
  {
   "cell_type": "markdown",
   "metadata": {
    "id": "9trGdzwylqLJ"
   },
   "source": [
    "####  silhouette algorithm is determine the optimal number of clusters for an unsupervised learning technique"
   ]
  },
  {
   "cell_type": "code",
   "execution_count": 3,
   "metadata": {
    "colab": {
     "base_uri": "https://localhost:8080/",
     "height": 312
    },
    "id": "hUoP0cqhlqLJ",
    "outputId": "d9df8a71-b981-46ca-89d1-37ac40171322"
   },
   "outputs": [
    {
     "name": "stdout",
     "output_type": "stream",
     "text": [
      "(10000, 784) (10000,)\n"
     ]
    },
    {
     "data": {
      "image/png": "[encoded data removed]",
      "text/plain": [
       "<Figure size 432x288 with 1 Axes>"
      ]
     },
     "metadata": {
      "needs_background": "light",
      "tags": []
     },
     "output_type": "display_data"
    }
   ],
   "source": [
    "from sklearn.cluster import KMeans\n",
    "from sklearn import metrics\n",
    "def silhouette(X,y):\n",
    "  silhouette_scores = [] \n",
    "  for i in range(2,14):\n",
    "    silhouette_scores.append(silhouette_score(X, KMeans(n_clusters = i).fit_predict(X)))\n",
    "  return silhouette_scores\n",
    "X1_ = X_train[:10000]\n",
    "y1_ = y_train[:10000]\n",
    "print(X1_.shape,y1_.shape)\n",
    "silhouette_scores = silhouette(X1_,y1_)\n",
    "\n",
    "x_data = silhouette_scores\n",
    "y_data = [2,3,4,5,6,7,8,9,10,11,12,13]\n",
    "plt.plot(y_data, x_data, label='silhoutte')\n",
    "plt.xlabel('Number of cluster k')\n",
    "plt.ylabel('Silhouette Score')\n",
    "plt.title('silhoutte graph')\n",
    "plt.show()"
   ]
  },
  {
   "cell_type": "code",
   "execution_count": null,
   "metadata": {
    "id": "hi3ZKOOPlqLK"
   },
   "outputs": [],
   "source": [
    "def labelized_cend(X,y,centroids):\n",
    "    k = len(centroids)\n",
    "    centroids_label = []\n",
    "    centroid_lst=[]\n",
    "    for i in range(k):\n",
    "        centroid_lst.append([])\n",
    "    for t in range(0,len(X)):\n",
    "        min_dist=100000\n",
    "        min_pos=0\n",
    "        for j in range(k):\n",
    "            dist_c = np.linalg.norm(X[t] - centroids[j])\n",
    "            if min_dist > dist_c:\n",
    "                min_dist= dist_c\n",
    "                min_pos=j\n",
    "        centroid_lst[min_pos].append(y[t])    \n",
    "    for i in range(k):\n",
    "        if len(centroid_lst[i])!= 0:\n",
    "            var= statistics.mode(centroid_lst[i])\n",
    "            centroids_label.append(var)\n",
    "    return centroids_label\n",
    "# centroids_label = labelized_cend(X_train,y_train,centroids)\n",
    "# print(centroids_label)"
   ]
  },
  {
   "cell_type": "code",
   "execution_count": null,
   "metadata": {
    "id": "gPg_M6QLlqLL"
   },
   "outputs": [],
   "source": [
    "def predict(X,metric,centroids,centroid_label):\n",
    "    pred_lst=[]\n",
    "    for x in X:\n",
    "        dist_li=None\n",
    "        if metric == \"euclidean\":\n",
    "            dist_li = euclidean(centroids,x)\n",
    "        if metric == \"manhatten\":\n",
    "            dist_li = manhatten(centroids,x)\n",
    "        indx = dist_li.index(min(dist_li))\n",
    "        pred_lst.append(centroid_label[indx])\n",
    "    return pred_lst\n",
    "# y_pred = predict(X_test,\"euclidean\",centroids,centroids_label)\n",
    "# print(len(y_pred))"
   ]
  },
  {
   "cell_type": "code",
   "execution_count": null,
   "metadata": {
    "id": "Xpe5rwKllqLM",
    "outputId": "ab3f82b5-8fdb-4af8-a45d-00a11e85c83f"
   },
   "outputs": [
    {
     "name": "stdout",
     "output_type": "stream",
     "text": [
      "(10, 784)\n",
      "[[0.00000000e+00 0.00000000e+00 0.00000000e+00 ... 0.00000000e+00\n",
      "  0.00000000e+00 0.00000000e+00]\n",
      " [0.00000000e+00 3.46592512e-04 7.15443259e-05 ... 3.88501284e-02\n",
      "  1.79806126e-02 1.94158186e-03]\n",
      " [1.70222424e-04 4.43839209e-04 1.99894223e-04 ... 3.19350618e-02\n",
      "  1.38937100e-02 3.00926544e-03]\n",
      " ...\n",
      " [2.08906803e-04 7.42779744e-05 6.94477014e-05 ... 7.55630605e-05\n",
      "  1.54210327e-05 1.27223520e-05]\n",
      " [0.00000000e+00 0.00000000e+00 0.00000000e+00 ... 1.57234899e-04\n",
      "  2.14918708e-04 1.32579722e-04]\n",
      " [0.00000000e+00 0.00000000e+00 0.00000000e+00 ... 0.00000000e+00\n",
      "  0.00000000e+00 0.00000000e+00]]\n",
      "[7, 9, 8, 5, 0, 6, 4, 3, 9, 1]\n",
      "Homogenity score is:  0.5489921808029882\n"
     ]
    }
   ],
   "source": [
    "centroids,clusters = kmeans(\"euclidean\",10,10,X_train,'random')\n",
    "print(centroids.shape)\n",
    "print(centroids)\n",
    "centroids_label = labelized_cend(X_train,y_train,centroids)\n",
    "print(centroids_label)\n",
    "y_pred = predict(X_test,\"euclidean\",centroids,centroids_label)\n",
    "print(\"Homogenity score is: \", homogeneity_score(y_pred, y_test))"
   ]
  },
  {
   "cell_type": "code",
   "execution_count": null,
   "metadata": {
    "id": "IDIUtpAvlqLN",
    "outputId": "29815790-79a4-4e37-ebea-33aae6f128d6"
   },
   "outputs": [
    {
     "name": "stdout",
     "output_type": "stream",
     "text": [
      "cluster : 5839\n",
      "cluster : 2757\n",
      "cluster : 2203\n",
      "cluster : 3901\n",
      "cluster : 3054\n",
      "cluster : 7308\n",
      "cluster : 8579\n",
      "cluster : 5086\n",
      "cluster : 4215\n",
      "cluster : 6058\n"
     ]
    }
   ],
   "source": [
    "for i in range(len(clusters)):\n",
    "    print(\"cluster :\",len(clusters[i]))"
   ]
  },
  {
   "cell_type": "code",
   "execution_count": null,
   "metadata": {
    "id": "iisW_hjBlqLN",
    "outputId": "359c518e-3e7a-4e87-e83f-f8f4cc562be4"
   },
   "outputs": [
    {
     "name": "stdout",
     "output_type": "stream",
     "text": [
      "[1, 5, 9, 0, 2, 8, 8, 7, 6, 4]\n",
      "Homogenity score is:  0.5473288013808523\n"
     ]
    }
   ],
   "source": [
    "centroids,clusters = kmeans(\"euclidean\",10,10,X_train,\"forgy\")\n",
    "centroids_label = labelized_cend(X_train,y_train,centroids)\n",
    "print(centroids_label)\n",
    "y_pred = predict(X_test,\"euclidean\",centroids,centroids_label)\n",
    "print(\"Homogenity score is: \", homogeneity_score(y_pred, y_test))"
   ]
  },
  {
   "cell_type": "code",
   "execution_count": null,
   "metadata": {
    "id": "K3jPbj5IlqLQ",
    "outputId": "6ff9bcca-7e15-48c6-8cf5-cc536afd8870"
   },
   "outputs": [
    {
     "name": "stdout",
     "output_type": "stream",
     "text": [
      "[2, 0, 4, 7, 6, 9, 1, 8, 8, 9]\n",
      "Homogenity score is:  0.5346139047048407\n"
     ]
    }
   ],
   "source": [
    "centroids,clusters = kmeans(\"manhatten\",10,10,X_train,\"random\")\n",
    "# print(centroids)\n",
    "centroids_label = labelized_cend(X_train,y_train,centroids)\n",
    "print(centroids_label)\n",
    "y_pred = predict(X_test,\"manhatten\",centroids,centroids_label)\n",
    "print(\"Homogenity score is: \", homogeneity_score(y_pred, y_test))"
   ]
  },
  {
   "cell_type": "code",
   "execution_count": null,
   "metadata": {
    "id": "eA3fgMu7lqLR",
    "outputId": "2f2ac692-7009-4302-b6e3-6b584425a20a"
   },
   "outputs": [
    {
     "name": "stdout",
     "output_type": "stream",
     "text": [
      "[4, 0, 6, 6, 2, 9, 7, 1, 8, 5]\n",
      "Homogenity score is:  0.5184993278970372\n"
     ]
    }
   ],
   "source": [
    "centroids,clusters = kmeans(\"manhatten\",10,10,X_train,\"forgy\")\n",
    "# print(centroids)\n",
    "centroids_label = labelized_cend(X_train,y_train,centroids)\n",
    "print(centroids_label)\n",
    "y_pred = predict(X_test,\"manhatten\",centroids,centroids_label)\n",
    "print(\"Homogenity score is: \", homogeneity_score(y_pred, y_test))"
   ]
  },
  {
   "cell_type": "markdown",
   "metadata": {
    "id": "uPVvAZHwlqLS"
   },
   "source": [
    "### from normalised data"
   ]
  },
  {
   "cell_type": "code",
   "execution_count": null,
   "metadata": {
    "id": "DDt729CHlqLU",
    "outputId": "62ff5b08-500c-4346-c81a-47d3a73c365c"
   },
   "outputs": [
    {
     "name": "stdout",
     "output_type": "stream",
     "text": [
      "[9, 5, 8, 9, 2, 1, 3, 6, 0, 7]\n",
      "Homogenity score is:  0.5141335197334767\n"
     ]
    }
   ],
   "source": [
    "from sklearn.preprocessing import MinMaxScaler\n",
    "scaler = MinMaxScaler()\n",
    "X_train = scaler.fit_transform(X_train)\n",
    "X_test = scaler.fit_transform(X_test)\n",
    "centroids,clusters = kmeans(\"euclidean\",10,10,X_train,\"forgy\")\n",
    "centroids_label = labelized_cend(X_train,y_train,centroids)\n",
    "print(centroids_label)\n",
    "y_pred = predict(X_test,\"euclidean\",centroids,centroids_label)\n",
    "print(\"Homogenity score is: \", homogeneity_score(y_pred, y_test))"
   ]
  },
  {
   "cell_type": "code",
   "execution_count": null,
   "metadata": {
    "id": "w4EDput9lqLW",
    "outputId": "c50be2ed-ba31-497d-d02a-1afcdfcb7bc2"
   },
   "outputs": [
    {
     "name": "stdout",
     "output_type": "stream",
     "text": [
      "[9, 6, 3, 1, 8, 3, 7, 5, 0, 2]\n",
      "Homogenity score is:  0.53916734313987\n"
     ]
    }
   ],
   "source": [
    "centroids,clusters = kmeans(\"euclidean\",10,10,X_train,\"random\")\n",
    "centroids_label = labelized_cend(X_train,y_train,centroids)\n",
    "print(centroids_label)\n",
    "y_pred = predict(X_test,\"euclidean\",centroids,centroids_label)\n",
    "print(\"Homogenity score is: \", homogeneity_score(y_pred, y_test))"
   ]
  },
  {
   "cell_type": "markdown",
   "metadata": {
    "id": "OBr1tbWa-Bhc"
   },
   "source": [
    "from the above to result based on the euclidean and mahatten distance metric , conclude that the result found without normalized with normalized slightly differ , not much difference observed, because datapoit are not much sparsely distributed . "
   ]
  },
  {
   "cell_type": "markdown",
   "metadata": {
    "id": "xeI7UqoDlqLX"
   },
   "source": [
    "## Kmean++"
   ]
  },
  {
   "cell_type": "code",
   "execution_count": null,
   "metadata": {
    "id": "h4dn0bULqg1I"
   },
   "outputs": [],
   "source": [
    "#implement Kmeans++ from scratch\n",
    "def Kmeansplusplus(X,K):\n",
    "    centroids_ = [] \n",
    "    random_point = np.random.randint(1,X.shape[0])\n",
    "    centroids_.append(X[random_point])\n",
    "#     print(\"Initialise index of centroids 1 :\",random_point)\n",
    "    \n",
    "    for c in range(K-1):\n",
    "        dist_list = []\n",
    "        for x in X:\n",
    "            min_dst = np.inf\n",
    "            for i in range(len(centroids_)):\n",
    "                dist = np.sum((x-centroids_[i])**2)\n",
    "                if dist<min_dst:\n",
    "                    min_dst=dist\n",
    "            dist_list.append(min_dst)\n",
    "        dist_list = np.array(dist_list)\n",
    "        indx = np.argmax(dist_list)\n",
    "#         print(\"Initialise index of centroids\",c+2,\":\",indx)\n",
    "        next_centroids = X[indx]\n",
    "        centroids_.append(next_centroids)\n",
    "    return centroids_"
   ]
  },
  {
   "cell_type": "code",
   "execution_count": null,
   "metadata": {
    "id": "Gy0BXRTVlqLZ"
   },
   "outputs": [],
   "source": [
    "def kmean_pp(metric,k,itr,X):\n",
    "    centroids = Kmeansplusplus(X_train,k)\n",
    "    final_cluster = None    \n",
    "    for it in range(0,itr):\n",
    "        #creating number of cluster\n",
    "        clusters = []\n",
    "        for cls in range(k):\n",
    "            clusters.append([])\n",
    "        for x in X:\n",
    "            dist_ = None\n",
    "            if metric == \"euclidean\":\n",
    "                dist_ = euclidean(centroids,x)\n",
    "            if metric == \"manhatten\":\n",
    "                dist_ = manhatten(centroids,x)\n",
    "            minpos = dist_.index(min(dist_))\n",
    "            clusters[minpos].append(x)\n",
    "        for i in range(k):\n",
    "            centroids[i]= np.mean(clusters[i],axis=0)\n",
    "        final_cluster = clusters\n",
    "    return centroids,final_cluster"
   ]
  },
  {
   "cell_type": "code",
   "execution_count": null,
   "metadata": {
    "id": "aOubU7lIlqLa",
    "outputId": "942ae12b-1c82-44a5-fe14-b55216ceacc6"
   },
   "outputs": [
    {
     "name": "stdout",
     "output_type": "stream",
     "text": [
      "Initialise index of centroids 1 : 16756\n",
      "Initialise index of centroids 2 : 17935\n",
      "Initialise index of centroids 3 : 48344\n",
      "Initialise index of centroids 4 : 5637\n",
      "Initialise index of centroids 5 : 16290\n",
      "Initialise index of centroids 6 : 23272\n",
      "Initialise index of centroids 7 : 20884\n",
      "Initialise index of centroids 8 : 36331\n",
      "Initialise index of centroids 9 : 6670\n",
      "Initialise index of centroids 10 : 31098\n",
      "[1, 9, 7, 5, 0, 8, 4, 8, 2, 6]\n",
      "Homogenity score is:  0.5348679337828235\n"
     ]
    }
   ],
   "source": [
    "centroids,clusters = kmean_pp(\"manhatten\",10,10,X_train)\n",
    "centroids_label = labelized_cend(X_train,y_train,centroids)\n",
    "print(centroids_label)\n",
    "y_pred = predict(X_test,\"manhatten\",centroids,centroids_label)\n",
    "print(\"Homogenity score is: \", homogeneity_score(y_pred, y_test))"
   ]
  },
  {
   "cell_type": "code",
   "execution_count": null,
   "metadata": {
    "id": "w2hpf9H1lqLb",
    "outputId": "30b525e8-247b-4d99-ec8f-96448841e029"
   },
   "outputs": [
    {
     "name": "stdout",
     "output_type": "stream",
     "text": [
      "Initialise index of centroids 1 : 17928\n",
      "Initialise index of centroids 2 : 17935\n",
      "Initialise index of centroids 3 : 48917\n",
      "Initialise index of centroids 4 : 25930\n",
      "Initialise index of centroids 5 : 16290\n",
      "Initialise index of centroids 6 : 31098\n",
      "Initialise index of centroids 7 : 23272\n",
      "Initialise index of centroids 8 : 40567\n",
      "Initialise index of centroids 9 : 25136\n",
      "Initialise index of centroids 10 : 8494\n",
      "[1, 0, 9, 7, 0, 5, 8, 4, 2, 8]\n",
      "Homogenity score is:  0.5689804922377223\n"
     ]
    }
   ],
   "source": [
    "centroids,clusters = kmean_pp(\"euclidean\",10,10,X_train)\n",
    "centroids_label = labelized_cend(X_train,y_train,centroids)\n",
    "print(centroids_label)\n",
    "y_pred = predict(X_test,\"euclidean\",centroids,centroids_label)\n",
    "print(\"Homogenity score is: \", homogeneity_score(y_pred, y_test))"
   ]
  },
  {
   "cell_type": "code",
   "execution_count": null,
   "metadata": {
    "id": "5WWfp2f_KUV9"
   },
   "outputs": [],
   "source": [
    "def elbow(X,y):\n",
    "    dist_list = []\n",
    "    for k in range(2,13):\n",
    "        centroids,clusters = kmean_pp(\"euclidean\",k,10,X)\n",
    "        print(len(centroids),len(clusters))\n",
    "        inertia = 0\n",
    "        for j in range(0,len(clusters)):\n",
    "            inertia+=np.sum((np.array(clusters[j])-np.array(centroids[j]))**2)\n",
    "        print(inertia)\n",
    "        dist_list.append(inertia)\n",
    "    return dist_list"
   ]
  },
  {
   "cell_type": "code",
   "execution_count": null,
   "metadata": {
    "id": "_GbdRhf6KUV-",
    "outputId": "d2123c75-7318-44c7-d8be-6d21484962a7"
   },
   "outputs": [
    {
     "name": "stdout",
     "output_type": "stream",
     "text": [
      "2 2\n",
      "245742194987.20813\n",
      "3 3\n",
      "209945123495.15192\n",
      "4 4\n",
      "198544141924.352\n",
      "5 5\n",
      "179087907242.44974\n",
      "6 6\n",
      "172529023528.97052\n",
      "7 7\n",
      "160807429054.87482\n",
      "8 8\n",
      "154180288282.91385\n",
      "9 9\n",
      "150428983988.70633\n",
      "10 10\n",
      "149144745186.05887\n",
      "11 11\n",
      "146658446717.65564\n",
      "12 12\n",
      "138237586829.4457\n"
     ]
    }
   ],
   "source": [
    "Dist_list = elbow(X,y)"
   ]
  },
  {
   "cell_type": "code",
   "execution_count": null,
   "metadata": {
    "id": "hg_kytbwKUV_",
    "outputId": "c6fe2234-de2d-4a1f-f592-992b651ba4bf"
   },
   "outputs": [
    {
     "data": {
      "image/png": "[encoded data removed]",
      "text/plain": [
       "<Figure size 432x288 with 1 Axes>"
      ]
     },
     "metadata": {
      "needs_background": "light",
      "tags": []
     },
     "output_type": "display_data"
    }
   ],
   "source": [
    "x_data = Dist_list\n",
    "y_data = [2,3,4,5,6,7,8,9,10,11,12]\n",
    "plt.plot(y_data, x_data, label='Elbow graph for Max distance vs number of cluster')\n",
    "plt.xlabel('Number of cluster k')\n",
    "plt.ylabel('Inertia')\n",
    "plt.title('Elbow graph')\n",
    "plt.show()"
   ]
  },
  {
   "cell_type": "markdown",
   "metadata": {
    "id": "B-VGLpg0KUWA"
   },
   "source": [
    "### Error"
   ]
  },
  {
   "cell_type": "markdown",
   "metadata": {
    "id": "eAB_3bURKUWA"
   },
   "source": [
    "error: compute: (cii-xi)^2+(c2i-xi)^2+......+(cki-xi)^2 = total error\n",
    "\n",
    "for k = 10 we computed interia i.e is also equal to the error for k number of cluster which is : 150086371072.70624\n"
   ]
  },
  {
   "cell_type": "markdown",
   "metadata": {
    "id": "hrsJr7u4lqLc"
   },
   "source": [
    "#### visualise data using T-SNE "
   ]
  },
  {
   "cell_type": "code",
   "execution_count": null,
   "metadata": {
    "colab": {
     "base_uri": "https://localhost:8080/",
     "height": 300
    },
    "id": "HBWYR8ZNlqLc",
    "outputId": "eb857b7b-0b0c-47fa-a428-4c0770f37af7"
   },
   "outputs": [
    {
     "name": "stdout",
     "output_type": "stream",
     "text": [
      "(20000, 784) (20000,)\n"
     ]
    },
    {
     "data": {
      "text/plain": [
       "<matplotlib.collections.PathCollection at 0x7f44a0f39e10>"
      ]
     },
     "execution_count": 4,
     "metadata": {
      "tags": []
     },
     "output_type": "execute_result"
    },
    {
     "data": {
      "image/png": "[encoded data removed]",
      "text/plain": [
       "<Figure size 432x288 with 1 Axes>"
      ]
     },
     "metadata": {
      "needs_background": "light",
      "tags": []
     },
     "output_type": "display_data"
    }
   ],
   "source": [
    "from sklearn.manifold import TSNE\n",
    "X1 = X[:20000,:]\n",
    "y1 = y[:20000]\n",
    "print(X1.shape,y1.shape)\n",
    "perplexity = 40\n",
    "tsne = TSNE(n_components=2, perplexity=perplexity)\n",
    "X_2d = tsne.fit_transform(X1)\n",
    "plt.scatter(X_2d[:,0],X_2d[:,1], c = y1, s = 0.5)"
   ]
  },
  {
   "cell_type": "markdown",
   "metadata": {
    "id": "QRz3jj8--2A6"
   },
   "source": [
    "## with Sklearn learn model "
   ]
  },
  {
   "cell_type": "code",
   "execution_count": null,
   "metadata": {
    "colab": {
     "base_uri": "https://localhost:8080/"
    },
    "id": "eHXP8etA-_g_",
    "outputId": "f918d84a-d48a-4d66-cd76-6e0c4432ebab"
   },
   "outputs": [
    {
     "data": {
      "text/plain": [
       "array([5, 3, 6, ..., 6, 5, 9], dtype=int32)"
      ]
     },
     "execution_count": 14,
     "metadata": {
      "tags": []
     },
     "output_type": "execute_result"
    }
   ],
   "source": [
    "from sklearn.cluster import KMeans\n",
    "kmeans = KMeans(n_clusters=10, random_state=0).fit(X_train)\n",
    "kmeans.labels_"
   ]
  },
  {
   "cell_type": "code",
   "execution_count": null,
   "metadata": {
    "colab": {
     "base_uri": "https://localhost:8080/"
    },
    "id": "KYMHYn5tAcYR",
    "outputId": "f86b1527-b252-4072-ecb6-2edf8418e3c2"
   },
   "outputs": [
    {
     "name": "stdout",
     "output_type": "stream",
     "text": [
      "Homogenity score is:  0.5258971195756137\n"
     ]
    }
   ],
   "source": [
    "cluster_cen = kmeans.cluster_centers_\n",
    "y_pred = kmeans.predict(X_test)\n",
    "print(\"Homogenity score is: \", homogeneity_score(y_pred, y_test))"
   ]
  },
  {
   "cell_type": "markdown",
   "metadata": {
    "id": "w1H6NwgRCnN-"
   },
   "source": [
    "Homogenity score using custom model and sklearn model is apporxemately same which is \n",
    "\n",
    "custom model : 51-55\n",
    "\n",
    "sklearn model : 52\n",
    "\n",
    "Not much difference observed"
   ]
  },
  {
   "cell_type": "markdown",
   "metadata": {
    "id": "QE7GNbD5P9rj"
   },
   "source": [
    "### PART2"
   ]
  },
  {
   "cell_type": "code",
   "execution_count": 1,
   "metadata": {
    "colab": {
     "base_uri": "https://localhost:8080/",
     "height": 417
    },
    "id": "VsPmJN-BQBBH",
    "outputId": "e86a76df-5dae-4b49-81cd-7b1318c31dbb"
   },
   "outputs": [
    {
     "data": {
      "text/html": [
       "<div>\n",
       "<style scoped>\n",
       "    .dataframe tbody tr th:only-of-type {\n",
       "        vertical-align: middle;\n",
       "    }\n",
       "\n",
       "    .dataframe tbody tr th {\n",
       "        vertical-align: top;\n",
       "    }\n",
       "\n",
       "    .dataframe thead th {\n",
       "        text-align: right;\n",
       "    }\n",
       "</style>\n",
       "<table border=\"1\" class=\"dataframe\">\n",
       "  <thead>\n",
       "    <tr style=\"text-align: right;\">\n",
       "      <th></th>\n",
       "      <th>0</th>\n",
       "      <th>1</th>\n",
       "      <th>2</th>\n",
       "      <th>3</th>\n",
       "      <th>4</th>\n",
       "      <th>5</th>\n",
       "      <th>6</th>\n",
       "      <th>7</th>\n",
       "      <th>8</th>\n",
       "      <th>9</th>\n",
       "      <th>...</th>\n",
       "      <th>183</th>\n",
       "      <th>184</th>\n",
       "      <th>185</th>\n",
       "      <th>186</th>\n",
       "      <th>187</th>\n",
       "      <th>188</th>\n",
       "      <th>189</th>\n",
       "      <th>190</th>\n",
       "      <th>191</th>\n",
       "      <th>192</th>\n",
       "    </tr>\n",
       "  </thead>\n",
       "  <tbody>\n",
       "    <tr>\n",
       "      <th>0</th>\n",
       "      <td>[1.0866963863372803</td>\n",
       "      <td>2.371966</td>\n",
       "      <td>5.534521</td>\n",
       "      <td>3.771174</td>\n",
       "      <td>1.877307</td>\n",
       "      <td>3.599094</td>\n",
       "      <td>5.784208</td>\n",
       "      <td>3.871398</td>\n",
       "      <td>2.878446</td>\n",
       "      <td>4.109515</td>\n",
       "      <td>...</td>\n",
       "      <td>0.0</td>\n",
       "      <td>0.0</td>\n",
       "      <td>0.0</td>\n",
       "      <td>0.0</td>\n",
       "      <td>0.0</td>\n",
       "      <td>0.0</td>\n",
       "      <td>0.0</td>\n",
       "      <td>0.0</td>\n",
       "      <td>0.0]</td>\n",
       "      <td>Ankle Boot</td>\n",
       "    </tr>\n",
       "    <tr>\n",
       "      <th>1</th>\n",
       "      <td>[5.086210250854492</td>\n",
       "      <td>3.526383</td>\n",
       "      <td>3.173435</td>\n",
       "      <td>3.100720</td>\n",
       "      <td>4.561333</td>\n",
       "      <td>4.389340</td>\n",
       "      <td>3.113444</td>\n",
       "      <td>2.403284</td>\n",
       "      <td>4.039598</td>\n",
       "      <td>5.388708</td>\n",
       "      <td>...</td>\n",
       "      <td>0.0</td>\n",
       "      <td>0.0</td>\n",
       "      <td>0.0</td>\n",
       "      <td>0.0</td>\n",
       "      <td>0.0</td>\n",
       "      <td>0.0</td>\n",
       "      <td>0.0</td>\n",
       "      <td>0.0</td>\n",
       "      <td>0.0]</td>\n",
       "      <td>T-Shirt</td>\n",
       "    </tr>\n",
       "    <tr>\n",
       "      <th>2</th>\n",
       "      <td>[1.211804747581482</td>\n",
       "      <td>2.946491</td>\n",
       "      <td>2.014766</td>\n",
       "      <td>0.606742</td>\n",
       "      <td>1.302111</td>\n",
       "      <td>2.517385</td>\n",
       "      <td>1.538354</td>\n",
       "      <td>0.719057</td>\n",
       "      <td>1.375769</td>\n",
       "      <td>2.441072</td>\n",
       "      <td>...</td>\n",
       "      <td>0.0</td>\n",
       "      <td>0.0</td>\n",
       "      <td>0.0</td>\n",
       "      <td>0.0</td>\n",
       "      <td>0.0</td>\n",
       "      <td>0.0</td>\n",
       "      <td>0.0</td>\n",
       "      <td>0.0</td>\n",
       "      <td>0.0]</td>\n",
       "      <td>T-Shirt</td>\n",
       "    </tr>\n",
       "    <tr>\n",
       "      <th>3</th>\n",
       "      <td>[3.1817357540130615</td>\n",
       "      <td>3.386448</td>\n",
       "      <td>1.852063</td>\n",
       "      <td>1.134460</td>\n",
       "      <td>2.596234</td>\n",
       "      <td>3.389648</td>\n",
       "      <td>1.662953</td>\n",
       "      <td>1.038565</td>\n",
       "      <td>2.676021</td>\n",
       "      <td>3.362122</td>\n",
       "      <td>...</td>\n",
       "      <td>0.0</td>\n",
       "      <td>0.0</td>\n",
       "      <td>0.0</td>\n",
       "      <td>0.0</td>\n",
       "      <td>0.0</td>\n",
       "      <td>0.0</td>\n",
       "      <td>0.0</td>\n",
       "      <td>0.0</td>\n",
       "      <td>0.0]</td>\n",
       "      <td>Dress</td>\n",
       "    </tr>\n",
       "    <tr>\n",
       "      <th>4</th>\n",
       "      <td>[3.5364575386047363</td>\n",
       "      <td>5.801409</td>\n",
       "      <td>3.549685</td>\n",
       "      <td>1.483723</td>\n",
       "      <td>3.400284</td>\n",
       "      <td>6.017810</td>\n",
       "      <td>3.560772</td>\n",
       "      <td>0.938271</td>\n",
       "      <td>3.958203</td>\n",
       "      <td>6.236764</td>\n",
       "      <td>...</td>\n",
       "      <td>0.0</td>\n",
       "      <td>0.0</td>\n",
       "      <td>0.0</td>\n",
       "      <td>0.0</td>\n",
       "      <td>0.0</td>\n",
       "      <td>0.0</td>\n",
       "      <td>0.0</td>\n",
       "      <td>0.0</td>\n",
       "      <td>0.0]</td>\n",
       "      <td>T-Shirt</td>\n",
       "    </tr>\n",
       "    <tr>\n",
       "      <th>...</th>\n",
       "      <td>...</td>\n",
       "      <td>...</td>\n",
       "      <td>...</td>\n",
       "      <td>...</td>\n",
       "      <td>...</td>\n",
       "      <td>...</td>\n",
       "      <td>...</td>\n",
       "      <td>...</td>\n",
       "      <td>...</td>\n",
       "      <td>...</td>\n",
       "      <td>...</td>\n",
       "      <td>...</td>\n",
       "      <td>...</td>\n",
       "      <td>...</td>\n",
       "      <td>...</td>\n",
       "      <td>...</td>\n",
       "      <td>...</td>\n",
       "      <td>...</td>\n",
       "      <td>...</td>\n",
       "      <td>...</td>\n",
       "      <td>...</td>\n",
       "    </tr>\n",
       "    <tr>\n",
       "      <th>59995</th>\n",
       "      <td>[0.011476174928247929</td>\n",
       "      <td>0.059515</td>\n",
       "      <td>0.469514</td>\n",
       "      <td>1.194045</td>\n",
       "      <td>0.512581</td>\n",
       "      <td>0.107612</td>\n",
       "      <td>0.759934</td>\n",
       "      <td>1.375888</td>\n",
       "      <td>2.015975</td>\n",
       "      <td>0.665791</td>\n",
       "      <td>...</td>\n",
       "      <td>0.0</td>\n",
       "      <td>0.0</td>\n",
       "      <td>0.0</td>\n",
       "      <td>0.0</td>\n",
       "      <td>0.0</td>\n",
       "      <td>0.0</td>\n",
       "      <td>0.0</td>\n",
       "      <td>0.0</td>\n",
       "      <td>0.0]</td>\n",
       "      <td>Sandal</td>\n",
       "    </tr>\n",
       "    <tr>\n",
       "      <th>59996</th>\n",
       "      <td>[2.134517192840576</td>\n",
       "      <td>6.054185</td>\n",
       "      <td>4.831404</td>\n",
       "      <td>1.715127</td>\n",
       "      <td>2.063895</td>\n",
       "      <td>5.509420</td>\n",
       "      <td>4.753547</td>\n",
       "      <td>1.759201</td>\n",
       "      <td>1.910486</td>\n",
       "      <td>5.196002</td>\n",
       "      <td>...</td>\n",
       "      <td>0.0</td>\n",
       "      <td>0.0</td>\n",
       "      <td>0.0</td>\n",
       "      <td>0.0</td>\n",
       "      <td>0.0</td>\n",
       "      <td>0.0</td>\n",
       "      <td>0.0</td>\n",
       "      <td>0.0</td>\n",
       "      <td>0.0]</td>\n",
       "      <td>Trouser</td>\n",
       "    </tr>\n",
       "    <tr>\n",
       "      <th>59997</th>\n",
       "      <td>[5.573720455169678</td>\n",
       "      <td>6.370377</td>\n",
       "      <td>4.076251</td>\n",
       "      <td>1.958915</td>\n",
       "      <td>5.387075</td>\n",
       "      <td>6.138871</td>\n",
       "      <td>4.519176</td>\n",
       "      <td>1.817328</td>\n",
       "      <td>4.937860</td>\n",
       "      <td>6.034277</td>\n",
       "      <td>...</td>\n",
       "      <td>0.0</td>\n",
       "      <td>0.0</td>\n",
       "      <td>0.0</td>\n",
       "      <td>0.0</td>\n",
       "      <td>0.0</td>\n",
       "      <td>0.0</td>\n",
       "      <td>0.0</td>\n",
       "      <td>0.0</td>\n",
       "      <td>0.0]</td>\n",
       "      <td>Dress</td>\n",
       "    </tr>\n",
       "    <tr>\n",
       "      <th>59998</th>\n",
       "      <td>[2.1300206184387207</td>\n",
       "      <td>1.250919</td>\n",
       "      <td>1.189124</td>\n",
       "      <td>1.248351</td>\n",
       "      <td>2.066808</td>\n",
       "      <td>1.304677</td>\n",
       "      <td>1.205101</td>\n",
       "      <td>1.238864</td>\n",
       "      <td>1.706910</td>\n",
       "      <td>1.652737</td>\n",
       "      <td>...</td>\n",
       "      <td>0.0</td>\n",
       "      <td>0.0</td>\n",
       "      <td>0.0</td>\n",
       "      <td>0.0</td>\n",
       "      <td>0.0</td>\n",
       "      <td>0.0</td>\n",
       "      <td>0.0</td>\n",
       "      <td>0.0</td>\n",
       "      <td>0.0]</td>\n",
       "      <td>T-Shirt</td>\n",
       "    </tr>\n",
       "    <tr>\n",
       "      <th>59999</th>\n",
       "      <td>[0.4793839752674103</td>\n",
       "      <td>0.421658</td>\n",
       "      <td>0.847808</td>\n",
       "      <td>0.844082</td>\n",
       "      <td>1.221371</td>\n",
       "      <td>0.915300</td>\n",
       "      <td>1.520726</td>\n",
       "      <td>1.518105</td>\n",
       "      <td>1.941754</td>\n",
       "      <td>1.488738</td>\n",
       "      <td>...</td>\n",
       "      <td>0.0</td>\n",
       "      <td>0.0</td>\n",
       "      <td>0.0</td>\n",
       "      <td>0.0</td>\n",
       "      <td>0.0</td>\n",
       "      <td>0.0</td>\n",
       "      <td>0.0</td>\n",
       "      <td>0.0</td>\n",
       "      <td>0.0]</td>\n",
       "      <td>Sandal</td>\n",
       "    </tr>\n",
       "  </tbody>\n",
       "</table>\n",
       "<p>60000 rows × 193 columns</p>\n",
       "</div>"
      ],
      "text/plain": [
       "                         0         1         2         3         4    \\\n",
       "0        [1.0866963863372803  2.371966  5.534521  3.771174  1.877307   \n",
       "1         [5.086210250854492  3.526383  3.173435  3.100720  4.561333   \n",
       "2         [1.211804747581482  2.946491  2.014766  0.606742  1.302111   \n",
       "3        [3.1817357540130615  3.386448  1.852063  1.134460  2.596234   \n",
       "4        [3.5364575386047363  5.801409  3.549685  1.483723  3.400284   \n",
       "...                      ...       ...       ...       ...       ...   \n",
       "59995  [0.011476174928247929  0.059515  0.469514  1.194045  0.512581   \n",
       "59996     [2.134517192840576  6.054185  4.831404  1.715127  2.063895   \n",
       "59997     [5.573720455169678  6.370377  4.076251  1.958915  5.387075   \n",
       "59998    [2.1300206184387207  1.250919  1.189124  1.248351  2.066808   \n",
       "59999    [0.4793839752674103  0.421658  0.847808  0.844082  1.221371   \n",
       "\n",
       "            5         6         7         8         9    ...  183  184  185  \\\n",
       "0      3.599094  5.784208  3.871398  2.878446  4.109515  ...  0.0  0.0  0.0   \n",
       "1      4.389340  3.113444  2.403284  4.039598  5.388708  ...  0.0  0.0  0.0   \n",
       "2      2.517385  1.538354  0.719057  1.375769  2.441072  ...  0.0  0.0  0.0   \n",
       "3      3.389648  1.662953  1.038565  2.676021  3.362122  ...  0.0  0.0  0.0   \n",
       "4      6.017810  3.560772  0.938271  3.958203  6.236764  ...  0.0  0.0  0.0   \n",
       "...         ...       ...       ...       ...       ...  ...  ...  ...  ...   \n",
       "59995  0.107612  0.759934  1.375888  2.015975  0.665791  ...  0.0  0.0  0.0   \n",
       "59996  5.509420  4.753547  1.759201  1.910486  5.196002  ...  0.0  0.0  0.0   \n",
       "59997  6.138871  4.519176  1.817328  4.937860  6.034277  ...  0.0  0.0  0.0   \n",
       "59998  1.304677  1.205101  1.238864  1.706910  1.652737  ...  0.0  0.0  0.0   \n",
       "59999  0.915300  1.520726  1.518105  1.941754  1.488738  ...  0.0  0.0  0.0   \n",
       "\n",
       "       186  187  188  189  190    191          192  \n",
       "0      0.0  0.0  0.0  0.0  0.0   0.0]   Ankle Boot  \n",
       "1      0.0  0.0  0.0  0.0  0.0   0.0]      T-Shirt  \n",
       "2      0.0  0.0  0.0  0.0  0.0   0.0]      T-Shirt  \n",
       "3      0.0  0.0  0.0  0.0  0.0   0.0]        Dress  \n",
       "4      0.0  0.0  0.0  0.0  0.0   0.0]      T-Shirt  \n",
       "...    ...  ...  ...  ...  ...    ...          ...  \n",
       "59995  0.0  0.0  0.0  0.0  0.0   0.0]       Sandal  \n",
       "59996  0.0  0.0  0.0  0.0  0.0   0.0]      Trouser  \n",
       "59997  0.0  0.0  0.0  0.0  0.0   0.0]        Dress  \n",
       "59998  0.0  0.0  0.0  0.0  0.0   0.0]      T-Shirt  \n",
       "59999  0.0  0.0  0.0  0.0  0.0   0.0]       Sandal  \n",
       "\n",
       "[60000 rows x 193 columns]"
      ]
     },
     "execution_count": 1,
     "metadata": {},
     "output_type": "execute_result"
    }
   ],
   "source": [
    "import pandas as pd\n",
    "data = pd.read_csv(\"data.csv\",header=None)\n",
    "data"
   ]
  },
  {
   "cell_type": "markdown",
   "metadata": {
    "id": "m5sS0QT0KUWF"
   },
   "source": [
    "Here we see that column 0 contain square open braces so ,extract from braces from column and in 191 column contain close open braces so extract this also from column"
   ]
  },
  {
   "cell_type": "code",
   "execution_count": 2,
   "metadata": {
    "id": "4Wv22qbAKUWG",
    "outputId": "8febfefe-c169-4047-a78e-10ec344434f6"
   },
   "outputs": [
    {
     "name": "stderr",
     "output_type": "stream",
     "text": [
      "<ipython-input-2-a8ffd1e3ffef>:1: FutureWarning: The default value of regex will change from True to False in a future version. In addition, single character regular expressions will*not* be treated as literal strings when regex=True.\n",
      "  data.iloc[:,0] = data.iloc[:,0].str.replace(\"[\",\"\")\n"
     ]
    },
    {
     "data": {
      "text/plain": [
       "0          1.0866963863372803\n",
       "1           5.086210250854492\n",
       "2           1.211804747581482\n",
       "3          3.1817357540130615\n",
       "4          3.5364575386047363\n",
       "                 ...         \n",
       "59995    0.011476174928247929\n",
       "59996       2.134517192840576\n",
       "59997       5.573720455169678\n",
       "59998      2.1300206184387207\n",
       "59999      0.4793839752674103\n",
       "Name: 0, Length: 60000, dtype: object"
      ]
     },
     "execution_count": 2,
     "metadata": {},
     "output_type": "execute_result"
    }
   ],
   "source": [
    "data.iloc[:,0] = data.iloc[:,0].str.replace(\"[\",\"\")\n",
    "data.iloc[:,0]"
   ]
  },
  {
   "cell_type": "code",
   "execution_count": 3,
   "metadata": {
    "id": "9RMAEjhNKUWH",
    "outputId": "501a2a57-70f2-4ae6-9437-64f32968cab0"
   },
   "outputs": [
    {
     "name": "stderr",
     "output_type": "stream",
     "text": [
      "<ipython-input-3-f2e30a74991a>:1: FutureWarning: The default value of regex will change from True to False in a future version. In addition, single character regular expressions will*not* be treated as literal strings when regex=True.\n",
      "  data.iloc[:,191] = data.iloc[:,191].str.replace(\"]\",\"\")\n"
     ]
    },
    {
     "data": {
      "text/plain": [
       "0         0.0\n",
       "1         0.0\n",
       "2         0.0\n",
       "3         0.0\n",
       "4         0.0\n",
       "         ... \n",
       "59995     0.0\n",
       "59996     0.0\n",
       "59997     0.0\n",
       "59998     0.0\n",
       "59999     0.0\n",
       "Name: 191, Length: 60000, dtype: object"
      ]
     },
     "execution_count": 3,
     "metadata": {},
     "output_type": "execute_result"
    }
   ],
   "source": [
    "data.iloc[:,191] = data.iloc[:,191].str.replace(\"]\",\"\")\n",
    "data.iloc[:,191]"
   ]
  },
  {
   "cell_type": "code",
   "execution_count": 4,
   "metadata": {
    "id": "m5LYhjmZKUWH",
    "outputId": "4bf732f2-4f14-4c5e-dbeb-dbb3365a8841"
   },
   "outputs": [
    {
     "data": {
      "text/html": [
       "<div>\n",
       "<style scoped>\n",
       "    .dataframe tbody tr th:only-of-type {\n",
       "        vertical-align: middle;\n",
       "    }\n",
       "\n",
       "    .dataframe tbody tr th {\n",
       "        vertical-align: top;\n",
       "    }\n",
       "\n",
       "    .dataframe thead th {\n",
       "        text-align: right;\n",
       "    }\n",
       "</style>\n",
       "<table border=\"1\" class=\"dataframe\">\n",
       "  <thead>\n",
       "    <tr style=\"text-align: right;\">\n",
       "      <th></th>\n",
       "      <th>0</th>\n",
       "      <th>1</th>\n",
       "      <th>2</th>\n",
       "      <th>3</th>\n",
       "      <th>4</th>\n",
       "      <th>5</th>\n",
       "      <th>6</th>\n",
       "      <th>7</th>\n",
       "      <th>8</th>\n",
       "      <th>9</th>\n",
       "      <th>...</th>\n",
       "      <th>183</th>\n",
       "      <th>184</th>\n",
       "      <th>185</th>\n",
       "      <th>186</th>\n",
       "      <th>187</th>\n",
       "      <th>188</th>\n",
       "      <th>189</th>\n",
       "      <th>190</th>\n",
       "      <th>191</th>\n",
       "      <th>192</th>\n",
       "    </tr>\n",
       "  </thead>\n",
       "  <tbody>\n",
       "    <tr>\n",
       "      <th>0</th>\n",
       "      <td>1.0866963863372803</td>\n",
       "      <td>2.371966</td>\n",
       "      <td>5.534521</td>\n",
       "      <td>3.771174</td>\n",
       "      <td>1.877307</td>\n",
       "      <td>3.599094</td>\n",
       "      <td>5.784208</td>\n",
       "      <td>3.871398</td>\n",
       "      <td>2.878446</td>\n",
       "      <td>4.109515</td>\n",
       "      <td>...</td>\n",
       "      <td>0.0</td>\n",
       "      <td>0.0</td>\n",
       "      <td>0.0</td>\n",
       "      <td>0.0</td>\n",
       "      <td>0.0</td>\n",
       "      <td>0.0</td>\n",
       "      <td>0.0</td>\n",
       "      <td>0.0</td>\n",
       "      <td>0.0</td>\n",
       "      <td>Ankle Boot</td>\n",
       "    </tr>\n",
       "    <tr>\n",
       "      <th>1</th>\n",
       "      <td>5.086210250854492</td>\n",
       "      <td>3.526383</td>\n",
       "      <td>3.173435</td>\n",
       "      <td>3.100720</td>\n",
       "      <td>4.561333</td>\n",
       "      <td>4.389340</td>\n",
       "      <td>3.113444</td>\n",
       "      <td>2.403284</td>\n",
       "      <td>4.039598</td>\n",
       "      <td>5.388708</td>\n",
       "      <td>...</td>\n",
       "      <td>0.0</td>\n",
       "      <td>0.0</td>\n",
       "      <td>0.0</td>\n",
       "      <td>0.0</td>\n",
       "      <td>0.0</td>\n",
       "      <td>0.0</td>\n",
       "      <td>0.0</td>\n",
       "      <td>0.0</td>\n",
       "      <td>0.0</td>\n",
       "      <td>T-Shirt</td>\n",
       "    </tr>\n",
       "    <tr>\n",
       "      <th>2</th>\n",
       "      <td>1.211804747581482</td>\n",
       "      <td>2.946491</td>\n",
       "      <td>2.014766</td>\n",
       "      <td>0.606742</td>\n",
       "      <td>1.302111</td>\n",
       "      <td>2.517385</td>\n",
       "      <td>1.538354</td>\n",
       "      <td>0.719057</td>\n",
       "      <td>1.375769</td>\n",
       "      <td>2.441072</td>\n",
       "      <td>...</td>\n",
       "      <td>0.0</td>\n",
       "      <td>0.0</td>\n",
       "      <td>0.0</td>\n",
       "      <td>0.0</td>\n",
       "      <td>0.0</td>\n",
       "      <td>0.0</td>\n",
       "      <td>0.0</td>\n",
       "      <td>0.0</td>\n",
       "      <td>0.0</td>\n",
       "      <td>T-Shirt</td>\n",
       "    </tr>\n",
       "    <tr>\n",
       "      <th>3</th>\n",
       "      <td>3.1817357540130615</td>\n",
       "      <td>3.386448</td>\n",
       "      <td>1.852063</td>\n",
       "      <td>1.134460</td>\n",
       "      <td>2.596234</td>\n",
       "      <td>3.389648</td>\n",
       "      <td>1.662953</td>\n",
       "      <td>1.038565</td>\n",
       "      <td>2.676021</td>\n",
       "      <td>3.362122</td>\n",
       "      <td>...</td>\n",
       "      <td>0.0</td>\n",
       "      <td>0.0</td>\n",
       "      <td>0.0</td>\n",
       "      <td>0.0</td>\n",
       "      <td>0.0</td>\n",
       "      <td>0.0</td>\n",
       "      <td>0.0</td>\n",
       "      <td>0.0</td>\n",
       "      <td>0.0</td>\n",
       "      <td>Dress</td>\n",
       "    </tr>\n",
       "    <tr>\n",
       "      <th>4</th>\n",
       "      <td>3.5364575386047363</td>\n",
       "      <td>5.801409</td>\n",
       "      <td>3.549685</td>\n",
       "      <td>1.483723</td>\n",
       "      <td>3.400284</td>\n",
       "      <td>6.017810</td>\n",
       "      <td>3.560772</td>\n",
       "      <td>0.938271</td>\n",
       "      <td>3.958203</td>\n",
       "      <td>6.236764</td>\n",
       "      <td>...</td>\n",
       "      <td>0.0</td>\n",
       "      <td>0.0</td>\n",
       "      <td>0.0</td>\n",
       "      <td>0.0</td>\n",
       "      <td>0.0</td>\n",
       "      <td>0.0</td>\n",
       "      <td>0.0</td>\n",
       "      <td>0.0</td>\n",
       "      <td>0.0</td>\n",
       "      <td>T-Shirt</td>\n",
       "    </tr>\n",
       "  </tbody>\n",
       "</table>\n",
       "<p>5 rows × 193 columns</p>\n",
       "</div>"
      ],
      "text/plain": [
       "                  0         1         2         3         4         5    \\\n",
       "0  1.0866963863372803  2.371966  5.534521  3.771174  1.877307  3.599094   \n",
       "1   5.086210250854492  3.526383  3.173435  3.100720  4.561333  4.389340   \n",
       "2   1.211804747581482  2.946491  2.014766  0.606742  1.302111  2.517385   \n",
       "3  3.1817357540130615  3.386448  1.852063  1.134460  2.596234  3.389648   \n",
       "4  3.5364575386047363  5.801409  3.549685  1.483723  3.400284  6.017810   \n",
       "\n",
       "        6         7         8         9    ...  183  184  185  186  187  188  \\\n",
       "0  5.784208  3.871398  2.878446  4.109515  ...  0.0  0.0  0.0  0.0  0.0  0.0   \n",
       "1  3.113444  2.403284  4.039598  5.388708  ...  0.0  0.0  0.0  0.0  0.0  0.0   \n",
       "2  1.538354  0.719057  1.375769  2.441072  ...  0.0  0.0  0.0  0.0  0.0  0.0   \n",
       "3  1.662953  1.038565  2.676021  3.362122  ...  0.0  0.0  0.0  0.0  0.0  0.0   \n",
       "4  3.560772  0.938271  3.958203  6.236764  ...  0.0  0.0  0.0  0.0  0.0  0.0   \n",
       "\n",
       "   189  190   191          192  \n",
       "0  0.0  0.0   0.0   Ankle Boot  \n",
       "1  0.0  0.0   0.0      T-Shirt  \n",
       "2  0.0  0.0   0.0      T-Shirt  \n",
       "3  0.0  0.0   0.0        Dress  \n",
       "4  0.0  0.0   0.0      T-Shirt  \n",
       "\n",
       "[5 rows x 193 columns]"
      ]
     },
     "execution_count": 4,
     "metadata": {},
     "output_type": "execute_result"
    }
   ],
   "source": [
    "data.head(5)"
   ]
  },
  {
   "cell_type": "code",
   "execution_count": 5,
   "metadata": {
    "id": "mcsA2qxkKUWK",
    "outputId": "0abcb99b-1de7-41ea-f268-1e9e602aeedf"
   },
   "outputs": [
    {
     "name": "stdout",
     "output_type": "stream",
     "text": [
      "[' Ankle Boot' ' T-Shirt' ' Dress' ' Pullover' ' Sneaker' ' Sandal'\n",
      " ' Trouser' ' Shirt' ' Coat' ' Bag']\n"
     ]
    }
   ],
   "source": [
    "print(data.iloc[0:,192].unique())"
   ]
  },
  {
   "cell_type": "code",
   "execution_count": 6,
   "metadata": {
    "id": "5lxTuFpLKUWK"
   },
   "outputs": [],
   "source": [
    "dict_y = {' Ankle Boot':1, ' T-Shirt':2, ' Dress':3, ' Pullover':4, ' Sneaker':5, ' Sandal':6,\n",
    " ' Trouser':7, ' Shirt':8, ' Coat':9, ' Bag':10}"
   ]
  },
  {
   "cell_type": "code",
   "execution_count": 7,
   "metadata": {
    "colab": {
     "base_uri": "https://localhost:8080/",
     "height": 185
    },
    "id": "GrJ1KFeoKUWK",
    "outputId": "1330b407-b16e-4ed6-a5f0-c57e6f817031"
   },
   "outputs": [
    {
     "data": {
      "text/plain": [
       "(60000, 192)"
      ]
     },
     "execution_count": 7,
     "metadata": {},
     "output_type": "execute_result"
    }
   ],
   "source": [
    "X = data.drop(data.columns[192],axis=1).values.astype(float)\n",
    "X.shape"
   ]
  },
  {
   "cell_type": "code",
   "execution_count": 8,
   "metadata": {
    "id": "YnYZ6vspKUWM",
    "outputId": "7ded1f26-231a-45c5-d642-b580b8ef4735"
   },
   "outputs": [
    {
     "data": {
      "text/plain": [
       "(array([1., 2., 2., ..., 3., 2., 6.]), (60000,))"
      ]
     },
     "execution_count": 8,
     "metadata": {},
     "output_type": "execute_result"
    }
   ],
   "source": [
    "y = data[data.columns[192]].map(dict_y).values.astype(float)\n",
    "y,y.shape"
   ]
  },
  {
   "cell_type": "code",
   "execution_count": 11,
   "metadata": {
    "id": "YK7Su68TKUWM"
   },
   "outputs": [
    {
     "name": "stdout",
     "output_type": "stream",
     "text": [
      "(42000, 192) (18000, 192) (42000,) (18000,)\n"
     ]
    }
   ],
   "source": [
    "X_train, X_test, y_train, y_test = train_test_split(X, y, test_size=0.3,shuffle =True,random_state=123)\n",
    "print(X_train.shape,X_test.shape,y_train.shape,y_test.shape)"
   ]
  },
  {
   "cell_type": "code",
   "execution_count": null,
   "metadata": {
    "id": "aMiNDArTKUWN",
    "outputId": "225b1ed7-0bff-47e2-9826-8875fbaca93a"
   },
   "outputs": [
    {
     "name": "stdout",
     "output_type": "stream",
     "text": [
      "Homogenity score is:  0.4931259262609381\n"
     ]
    }
   ],
   "source": [
    "centroids,clusters = kmeans(\"euclidean\",10,10,X_train,\"forgy\")\n",
    "centroids_label = labelized_cend(X_train,y_train,centroids)\n",
    "y_pred = predict(X_test,\"euclidean\",centroids,centroids_label)\n",
    "print(\"Homogenity score is: \", homogeneity_score(y_pred, y_test))"
   ]
  },
  {
   "cell_type": "code",
   "execution_count": null,
   "metadata": {
    "id": "VAE1sME4KUWO",
    "outputId": "f4bd81c6-9df4-433d-a5dd-58d8361d603a"
   },
   "outputs": [
    {
     "name": "stdout",
     "output_type": "stream",
     "text": [
      "Homogenity score is:  0.49516132587495393\n"
     ]
    }
   ],
   "source": [
    "centroids,clusters = kmeans(\"euclidean\",10,10,X_train,\"random\")\n",
    "centroids_label = labelized_cend(X_train,y_train,centroids)\n",
    "y_pred = predict(X_test,\"euclidean\",centroids,centroids_label)\n",
    "print(\"Homogenity score is: \", homogeneity_score(y_pred, y_test))"
   ]
  },
  {
   "cell_type": "code",
   "execution_count": null,
   "metadata": {
    "id": "t1AASW9tKUWP",
    "outputId": "e40cd77e-45b0-45d2-a006-d8373671e01a"
   },
   "outputs": [
    {
     "name": "stdout",
     "output_type": "stream",
     "text": [
      "Homogenity score is:  0.5081719192907506\n"
     ]
    }
   ],
   "source": [
    "centroids,clusters = kmeans(\"manhatten\",10,10,X_train,\"forgy\")\n",
    "centroids_label = labelized_cend(X_train,y_train,centroids)\n",
    "y_pred = predict(X_test,\"manhatten\",centroids,centroids_label)\n",
    "print(\"Homogenity score is: \", homogeneity_score(y_pred, y_test))"
   ]
  },
  {
   "cell_type": "code",
   "execution_count": null,
   "metadata": {
    "id": "gV2yMuE7KUWP",
    "outputId": "460e2660-fced-4351-9e89-9cfd5b8d1336"
   },
   "outputs": [
    {
     "name": "stdout",
     "output_type": "stream",
     "text": [
      "Homogenity score is:  0.47146015284792725\n"
     ]
    }
   ],
   "source": [
    "centroids,clusters = kmeans(\"manhatten\",10,10,X_train,\"random\")\n",
    "centroids_label = labelized_cend(X_train,y_train,centroids)\n",
    "y_pred = predict(X_test,\"manhatten\",centroids,centroids_label)\n",
    "print(\"Homogenity score is: \", homogeneity_score(y_pred, y_test))"
   ]
  },
  {
   "cell_type": "markdown",
   "metadata": {
    "id": "H9TffNaIKUWQ"
   },
   "source": [
    "## ERROR"
   ]
  },
  {
   "cell_type": "markdown",
   "metadata": {
    "id": "_KwFZzYgKUWQ"
   },
   "source": [
    "error: compute: (cii-xi)^2+(c2i-xi)^2+......+(cki-xi)^2 = total error\n",
    "\n",
    "for k = 10  we computed interia i.e is also equal to the error for k number of cluster which is :  3315860.6824358497\n",
    "\n"
   ]
  },
  {
   "cell_type": "markdown",
   "metadata": {
    "id": "wScurLsIKUWR"
   },
   "source": [
    "## kmeanpp"
   ]
  },
  {
   "cell_type": "code",
   "execution_count": null,
   "metadata": {
    "id": "FJzVELG5KUWR",
    "outputId": "6277b0ac-dcf3-4f78-d444-92a0a02afd9e"
   },
   "outputs": [
    {
     "name": "stdout",
     "output_type": "stream",
     "text": [
      "Initialise index of centroids 1 : 5320\n",
      "Initialise index of centroids 2 : 12773\n",
      "Initialise index of centroids 3 : 29156\n",
      "Initialise index of centroids 4 : 31727\n",
      "Initialise index of centroids 5 : 10055\n",
      "Initialise index of centroids 6 : 26433\n",
      "Initialise index of centroids 7 : 13543\n",
      "Initialise index of centroids 8 : 20949\n",
      "Initialise index of centroids 9 : 39276\n",
      "Initialise index of centroids 10 : 13154\n",
      "Homogenity score is:  0.5193989753406191\n"
     ]
    }
   ],
   "source": [
    "centroids,clusters = kmean_pp(\"manhatten\",10,10,X_train)\n",
    "centroids_label = labelized_cend(X_train,y_train,centroids)\n",
    "y_pred = predict(X_test,\"manhatten\",centroids,centroids_label)\n",
    "print(\"Homogenity score is: \", homogeneity_score(y_pred, y_test))"
   ]
  },
  {
   "cell_type": "code",
   "execution_count": null,
   "metadata": {
    "id": "A-pihwrJKUWS",
    "outputId": "954860ba-4d42-4134-8936-2182555fa227"
   },
   "outputs": [
    {
     "name": "stdout",
     "output_type": "stream",
     "text": [
      "Initialise index of centroids 1 : 32576\n",
      "Initialise index of centroids 2 : 12773\n",
      "Initialise index of centroids 3 : 29156\n",
      "Initialise index of centroids 4 : 27372\n",
      "Initialise index of centroids 5 : 13154\n",
      "Initialise index of centroids 6 : 13543\n",
      "Initialise index of centroids 7 : 11893\n",
      "Initialise index of centroids 8 : 1258\n",
      "Initialise index of centroids 9 : 6054\n",
      "Initialise index of centroids 10 : 1851\n",
      "Homogenity score is:  0.49546643524388595\n"
     ]
    }
   ],
   "source": [
    "centroids,clusters = kmean_pp(\"euclidean\",10,10,X_train)\n",
    "centroids_label = labelized_cend(X_train,y_train,centroids)\n",
    "y_pred = predict(X_test,\"euclidean\",centroids,centroids_label)\n",
    "print(\"Homogenity score is: \", homogeneity_score(y_pred, y_test))"
   ]
  },
  {
   "cell_type": "markdown",
   "metadata": {
    "id": "gFG3t5VIKUWT"
   },
   "source": [
    "## kmean applied on normalised data"
   ]
  },
  {
   "cell_type": "code",
   "execution_count": null,
   "metadata": {
    "id": "6nedUYAXKUWT",
    "outputId": "a47fd83c-8501-4305-fbb2-cd5fadc09b6c"
   },
   "outputs": [
    {
     "name": "stdout",
     "output_type": "stream",
     "text": [
      "[6.0, 6.0, 9.0, 2.0, 10.0, 5.0, 5.0, 1.0, 1.0, 7.0]\n",
      "Homogenity score is:  0.5501339983779963\n"
     ]
    }
   ],
   "source": [
    "from sklearn.preprocessing import MinMaxScaler\n",
    "scaler = MinMaxScaler()\n",
    "X_train = scaler.fit_transform(X_train)\n",
    "X_test = scaler.fit_transform(X_test)\n",
    "centroids,clusters = kmeans(\"euclidean\",10,10,X_train,\"forgy\")\n",
    "centroids_label = labelized_cend(X_train,y_train,centroids)\n",
    "print(centroids_label)\n",
    "y_pred = predict(X_test,\"euclidean\",centroids,centroids_label)\n",
    "print(\"Homogenity score is: \", homogeneity_score(y_pred, y_test))"
   ]
  },
  {
   "cell_type": "markdown",
   "metadata": {
    "id": "IzeDjBlaKUWT"
   },
   "source": [
    "## Kmean using sklearn model"
   ]
  },
  {
   "cell_type": "code",
   "execution_count": null,
   "metadata": {
    "id": "w3Vv_0mhKUWT",
    "outputId": "4084482f-79e3-4eae-d511-e03365ade6e3"
   },
   "outputs": [
    {
     "data": {
      "text/plain": [
       "array([4, 6, 9, ..., 3, 2, 6], dtype=int32)"
      ]
     },
     "execution_count": 53,
     "metadata": {
      "tags": []
     },
     "output_type": "execute_result"
    }
   ],
   "source": [
    "from sklearn.cluster import KMeans\n",
    "kmeans = KMeans(n_clusters=10, random_state=0).fit(X_train)\n",
    "kmeans.labels_"
   ]
  },
  {
   "cell_type": "code",
   "execution_count": null,
   "metadata": {
    "id": "2GZN2Z4XKUWU",
    "outputId": "28ea9f7f-4d42-4a57-c692-c84347d270db"
   },
   "outputs": [
    {
     "name": "stdout",
     "output_type": "stream",
     "text": [
      "Homogenity score is:  0.5290957739201664\n"
     ]
    }
   ],
   "source": [
    "cluster_cen = kmeans.cluster_centers_\n",
    "y_pred = kmeans.predict(X_test)\n",
    "print(\"Homogenity score is: \", homogeneity_score(y_pred, y_test))"
   ]
  },
  {
   "cell_type": "markdown",
   "metadata": {
    "id": "wjnfj8gsKUWV"
   },
   "source": [
    "## elbow ..."
   ]
  },
  {
   "cell_type": "code",
   "execution_count": null,
   "metadata": {
    "id": "Qej1G8lYKUWW",
    "outputId": "3d741504-0588-49eb-ec1d-a6631d5e750b"
   },
   "outputs": [
    {
     "name": "stdout",
     "output_type": "stream",
     "text": [
      "1 1\n",
      "12977361.84880909\n",
      "2 2\n",
      "8465405.264416598\n",
      "3 3\n",
      "6779115.919915718\n",
      "4 4\n",
      "5338188.191346815\n",
      "5 5\n",
      "4815686.498806672\n",
      "6 6\n",
      "4299018.189567269\n",
      "7 7\n",
      "4044944.0283103664\n",
      "8 8\n",
      "3740825.560437019\n",
      "9 9\n",
      "3402322.2262481377\n",
      "10 10\n",
      "3315860.6824358497\n",
      "11 11\n",
      "3143128.0694780266\n",
      "12 12\n",
      "3242974.650658776\n"
     ]
    }
   ],
   "source": [
    "Dist_list = elbow(X,y)"
   ]
  },
  {
   "cell_type": "code",
   "execution_count": null,
   "metadata": {
    "id": "OrNtwfUOKUWX",
    "outputId": "05e649d0-1d6f-48d1-c0c4-0435cd33c818"
   },
   "outputs": [
    {
     "data": {
      "image/png": "[encoded data removed]",
      "text/plain": [
       "<Figure size 432x288 with 1 Axes>"
      ]
     },
     "metadata": {
      "needs_background": "light",
      "tags": []
     },
     "output_type": "display_data"
    }
   ],
   "source": [
    "x_data = Dist_list\n",
    "y_data = [1,2,3,4,5,6,7,8,9,10,11,12]\n",
    "plt.plot(y_data, x_data, label='Elbow graph for Max distance vs number of cluster')\n",
    "plt.xlabel('Number of cluster k')\n",
    "plt.ylabel('Inertia')\n",
    "plt.title('Elbow graph')\n",
    "plt.show()"
   ]
  },
  {
   "cell_type": "markdown",
   "metadata": {
    "id": "QUzFXILQMC_9"
   },
   "source": [
    "#### silhoutte.."
   ]
  },
  {
   "cell_type": "code",
   "execution_count": 12,
   "metadata": {
    "id": "hmNjKjU3MBbm"
   },
   "outputs": [
    {
     "name": "stdout",
     "output_type": "stream",
     "text": [
      "(10000, 192) (10000,)\n"
     ]
    },
    {
     "data": {
      "image/png": "[encoded data removed]",
      "text/plain": [
       "<Figure size 432x288 with 1 Axes>"
      ]
     },
     "metadata": {
      "needs_background": "light"
     },
     "output_type": "display_data"
    }
   ],
   "source": [
    "from sklearn.cluster import KMeans\n",
    "from sklearn import metrics\n",
    "def silhouette(X,y):\n",
    "    silhouette_scores = [] \n",
    "    for i in range(2,14):\n",
    "        silhouette_scores.append(silhouette_score(X, KMeans(n_clusters = i).fit_predict(X)))\n",
    "    return silhouette_scores\n",
    "X1_ = X_train[:10000]\n",
    "y1_ = y_train[:10000]\n",
    "print(X1_.shape,y1_.shape)\n",
    "silhouette_scores = silhouette(X1_,y1_)\n",
    "\n",
    "x_data = silhouette_scores\n",
    "y_data = [2,3,4,5,6,7,8,9,10,11,12,13]\n",
    "plt.plot(y_data, x_data, label='silhoutte')\n",
    "plt.xlabel('Number of cluster k')\n",
    "plt.ylabel('Silhouette Score')\n",
    "plt.title('silhoutte graph')\n",
    "plt.show()"
   ]
  },
  {
   "cell_type": "code",
   "execution_count": null,
   "metadata": {
    "id": "UoTpCqZxKUWX",
    "outputId": "3b2079f8-10b7-4a1c-e6dc-af2d2cd74774"
   },
   "outputs": [
    {
     "name": "stdout",
     "output_type": "stream",
     "text": [
      "(10000, 192) (10000,)\n"
     ]
    },
    {
     "data": {
      "text/plain": [
       "<matplotlib.collections.PathCollection at 0x7f30e4d50460>"
      ]
     },
     "execution_count": 17,
     "metadata": {
      "tags": []
     },
     "output_type": "execute_result"
    },
    {
     "data": {
      "image/png": "[encoded data removed]",
      "text/plain": [
       "<Figure size 432x288 with 1 Axes>"
      ]
     },
     "metadata": {
      "needs_background": "light",
      "tags": []
     },
     "output_type": "display_data"
    }
   ],
   "source": [
    "from sklearn.manifold import TSNE\n",
    "X1 = X[:10000,:]\n",
    "y1 = y[:10000]\n",
    "print(X1.shape,y1.shape)\n",
    "perplexity = 40\n",
    "tsne = TSNE(n_components=2, perplexity=perplexity)\n",
    "X_2d = tsne.fit_transform(X1)\n",
    "plt.scatter(X_2d[:,0],X_2d[:,1], c = y1, s = 0.5)"
   ]
  },
  {
   "cell_type": "code",
   "execution_count": null,
   "metadata": {
    "id": "amt7lVMHKUWZ"
   },
   "outputs": [],
   "source": []
  }
 ],
 "metadata": {
  "colab": {
   "collapsed_sections": [],
   "name": "question1.ipynb",
   "provenance": []
  },
  "kernelspec": {
   "display_name": "Python 3",
   "language": "python",
   "name": "python3"
  },
  "language_info": {
   "codemirror_mode": {
    "name": "ipython",
    "version": 3
   },
   "file_extension": ".py",
   "mimetype": "text/x-python",
   "name": "python",
   "nbconvert_exporter": "python",
   "pygments_lexer": "ipython3",
   "version": "3.8.5"
  }
 },
 "nbformat": 4,
 "nbformat_minor": 1
}
