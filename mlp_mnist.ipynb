{
  "nbformat": 4,
  "nbformat_minor": 0,
  "metadata": {
    "colab": {
      "name": "Assignment3_q3_1.ipynb",
      "provenance": [],
      "collapsed_sections": []
    },
    "kernelspec": {
      "name": "python3",
      "display_name": "Python 3"
    },
    "language_info": {
      "name": "python"
    }
  },
  "cells": [
    {
      "cell_type": "code",
      "metadata": {
        "id": "E4aMS9QSjzd4"
      },
      "source": [
        "import tensorflow as tf\n",
        "from tensorflow.keras import datasets, layers, models\n",
        "from tensorflow import keras\n",
        "import matplotlib.pyplot as plt\n",
        "import numpy as np\n",
        "from keras.optimizers import Adam,SGD,RMSprop\n",
        "from keras.layers import Conv2D,MaxPooling2D,Input,BatchNormalization,ReLU,Flatten,Dense,UpSampling2D,Dropout\n",
        "from keras.models import Model\n",
        "from sklearn.model_selection import train_test_split\n",
        "from keras import backend as K "
      ],
      "execution_count": 1,
      "outputs": []
    },
    {
      "cell_type": "markdown",
      "metadata": {
        "id": "Uv_4eK1Ogx1h"
      },
      "source": [
        "# loading the mnist dataset"
      ]
    },
    {
      "cell_type": "code",
      "metadata": {
        "id": "BDGG5fezj3aU",
        "colab": {
          "base_uri": "https://localhost:8080/"
        },
        "outputId": "33329520-2ebe-4210-af20-ae5ce2ee31be"
      },
      "source": [
        "(x_train, y_train), (x_test, y_test) = datasets.mnist.load_data()"
      ],
      "execution_count": 2,
      "outputs": [
        {
          "output_type": "stream",
          "text": [
            "Downloading data from https://storage.googleapis.com/tensorflow/tf-keras-datasets/mnist.npz\n",
            "11493376/11490434 [==============================] - 0s 0us/step\n"
          ],
          "name": "stdout"
        }
      ]
    },
    {
      "cell_type": "code",
      "metadata": {
        "id": "IYppKV7Dj8Jb",
        "colab": {
          "base_uri": "https://localhost:8080/"
        },
        "outputId": "c68dca3d-9cd1-4694-b76c-52dfcc4e6a3e"
      },
      "source": [
        "x_train.shape,y_train.shape,x_test.shape,y_test.shape"
      ],
      "execution_count": 3,
      "outputs": [
        {
          "output_type": "execute_result",
          "data": {
            "text/plain": [
              "((60000, 28, 28), (60000,), (10000, 28, 28), (10000,))"
            ]
          },
          "metadata": {
            "tags": []
          },
          "execution_count": 3
        }
      ]
    },
    {
      "cell_type": "markdown",
      "metadata": {
        "id": "XZ6muFBQg6E1"
      },
      "source": [
        "# scaling data in range from [0,1]"
      ]
    },
    {
      "cell_type": "code",
      "metadata": {
        "id": "u1X7Jgkuj_uJ",
        "colab": {
          "base_uri": "https://localhost:8080/"
        },
        "outputId": "baf2340e-3cf7-471e-d960-f26ae044317e"
      },
      "source": [
        "x_train = x_train / 255.0\n",
        "x_test = x_test / 255.0\n",
        "np.max(x_train),np.max(x_test)"
      ],
      "execution_count": 4,
      "outputs": [
        {
          "output_type": "execute_result",
          "data": {
            "text/plain": [
              "(1.0, 1.0)"
            ]
          },
          "metadata": {
            "tags": []
          },
          "execution_count": 4
        }
      ]
    },
    {
      "cell_type": "code",
      "metadata": {
        "id": "kc8SpWzHkAnZ"
      },
      "source": [
        "x_train = x_train.reshape(60000,784)\n",
        "x_test = x_test.reshape(10000,784)"
      ],
      "execution_count": 5,
      "outputs": []
    },
    {
      "cell_type": "markdown",
      "metadata": {
        "id": "O11JmX9lhEmM"
      },
      "source": [
        "# Spliting data set in 70:30 ratio "
      ]
    },
    {
      "cell_type": "code",
      "metadata": {
        "id": "TnH4tlhzkJnL",
        "colab": {
          "base_uri": "https://localhost:8080/"
        },
        "outputId": "5db297e6-5b09-4dd5-d36f-c457fc047748"
      },
      "source": [
        "train_X,val_X,train_y,val_y = train_test_split(x_train,y_train, test_size=0.3, random_state=123)\n",
        "train_X.shape,train_y.shape,val_X.shape,val_y.shape"
      ],
      "execution_count": 6,
      "outputs": [
        {
          "output_type": "execute_result",
          "data": {
            "text/plain": [
              "((42000, 784), (42000,), (18000, 784), (18000,))"
            ]
          },
          "metadata": {
            "tags": []
          },
          "execution_count": 6
        }
      ]
    },
    {
      "cell_type": "markdown",
      "metadata": {
        "id": "uhFpP_buhOaR"
      },
      "source": [
        "# converting labels in onehot format e.g [8]=[0,0,0,0,0,0,0,0,1,0]  labels index from 0 to 9"
      ]
    },
    {
      "cell_type": "code",
      "metadata": {
        "id": "NfK6xxIBk_ru"
      },
      "source": [
        "train_labels = tf.keras.utils.to_categorical(train_y)\n",
        "val_labels = tf.keras.utils.to_categorical(val_y)\n",
        "test_labels = tf.keras.utils.to_categorical(y_test)"
      ],
      "execution_count": 7,
      "outputs": []
    },
    {
      "cell_type": "markdown",
      "metadata": {
        "id": "IlcJ6mWQw7F6"
      },
      "source": [
        "# MLP model "
      ]
    },
    {
      "cell_type": "code",
      "metadata": {
        "id": "fmuYvaZCk3zI"
      },
      "source": [
        "model = models.Sequential()\n",
        "model.add(Dense(128, activation='relu',input_shape=(28,28,1)))\n",
        "model.add(Dropout(0.5))\n",
        "model.add(Dense(128,activation='relu'))\n",
        "model.add(Dropout(0.5))\n",
        "model.add(Dense(10,activation='softmax'))"
      ],
      "execution_count": 12,
      "outputs": []
    },
    {
      "cell_type": "code",
      "metadata": {
        "colab": {
          "base_uri": "https://localhost:8080/"
        },
        "id": "8TZhA2VFstbf",
        "outputId": "4d0e57d3-215f-4927-9468-d3e08fa7251d"
      },
      "source": [
        "model.summary()"
      ],
      "execution_count": 13,
      "outputs": [
        {
          "output_type": "stream",
          "text": [
            "Model: \"sequential_2\"\n",
            "_________________________________________________________________\n",
            "Layer (type)                 Output Shape              Param #   \n",
            "=================================================================\n",
            "dense_6 (Dense)              (None, 28, 28, 128)       256       \n",
            "_________________________________________________________________\n",
            "dropout_4 (Dropout)          (None, 28, 28, 128)       0         \n",
            "_________________________________________________________________\n",
            "dense_7 (Dense)              (None, 28, 28, 128)       16512     \n",
            "_________________________________________________________________\n",
            "dropout_5 (Dropout)          (None, 28, 28, 128)       0         \n",
            "_________________________________________________________________\n",
            "dense_8 (Dense)              (None, 28, 28, 10)        1290      \n",
            "=================================================================\n",
            "Total params: 18,058\n",
            "Trainable params: 18,058\n",
            "Non-trainable params: 0\n",
            "_________________________________________________________________\n"
          ],
          "name": "stdout"
        }
      ]
    },
    {
      "cell_type": "markdown",
      "metadata": {
        "id": "A9fNUXMwsqe9"
      },
      "source": [
        "Adam optimizer"
      ]
    },
    {
      "cell_type": "code",
      "metadata": {
        "id": "cTpkBSDhp9ch"
      },
      "source": [
        "model.compile(loss='categorical_crossentropy',optimizer='Adam',metrics=['accuracy'])\n"
      ],
      "execution_count": 10,
      "outputs": []
    },
    {
      "cell_type": "code",
      "metadata": {
        "id": "Eogq081An7Ed",
        "colab": {
          "base_uri": "https://localhost:8080/"
        },
        "outputId": "2e255674-ae66-4713-8b49-bb901e104824"
      },
      "source": [
        "model.fit(train_X,train_labels,batch_size=128,epochs=10,verbose=1,validation_data=(val_X, val_labels))"
      ],
      "execution_count": null,
      "outputs": [
        {
          "output_type": "stream",
          "text": [
            "Epoch 1/10\n",
            "329/329 [==============================] - 111s 335ms/step - loss: 0.5813 - accuracy: 0.8166 - val_loss: 0.0759 - val_accuracy: 0.9767\n",
            "Epoch 2/10\n",
            "329/329 [==============================] - 107s 325ms/step - loss: 0.1068 - accuracy: 0.9681 - val_loss: 0.0519 - val_accuracy: 0.9840\n",
            "Epoch 3/10\n",
            "329/329 [==============================] - 106s 321ms/step - loss: 0.0762 - accuracy: 0.9773 - val_loss: 0.0440 - val_accuracy: 0.9868\n",
            "Epoch 4/10\n",
            "329/329 [==============================] - 105s 320ms/step - loss: 0.0604 - accuracy: 0.9825 - val_loss: 0.0426 - val_accuracy: 0.9875\n",
            "Epoch 5/10\n",
            "329/329 [==============================] - 107s 324ms/step - loss: 0.0458 - accuracy: 0.9856 - val_loss: 0.0387 - val_accuracy: 0.9892\n",
            "Epoch 6/10\n",
            "329/329 [==============================] - 106s 321ms/step - loss: 0.0400 - accuracy: 0.9870 - val_loss: 0.0386 - val_accuracy: 0.9894\n",
            "Epoch 7/10\n",
            "329/329 [==============================] - 106s 321ms/step - loss: 0.0367 - accuracy: 0.9884 - val_loss: 0.0386 - val_accuracy: 0.9896\n",
            "Epoch 8/10\n",
            "329/329 [==============================] - 105s 320ms/step - loss: 0.0323 - accuracy: 0.9893 - val_loss: 0.0427 - val_accuracy: 0.9894\n",
            "Epoch 9/10\n",
            "329/329 [==============================] - 105s 320ms/step - loss: 0.0274 - accuracy: 0.9916 - val_loss: 0.0418 - val_accuracy: 0.9901\n",
            "Epoch 10/10\n",
            "329/329 [==============================] - 106s 323ms/step - loss: 0.0281 - accuracy: 0.9908 - val_loss: 0.0386 - val_accuracy: 0.9903\n"
          ],
          "name": "stdout"
        },
        {
          "output_type": "execute_result",
          "data": {
            "text/plain": [
              "<tensorflow.python.keras.callbacks.History at 0x7f68a09d7f10>"
            ]
          },
          "metadata": {
            "tags": []
          },
          "execution_count": 9
        }
      ]
    },
    {
      "cell_type": "code",
      "metadata": {
        "colab": {
          "base_uri": "https://localhost:8080/"
        },
        "id": "2G98ROmVmdcZ",
        "outputId": "e65fedde-2046-4fbf-805a-c4d0389232d8"
      },
      "source": [
        "loss1_=np.array([0.0759,0.0519,0.0440,0.0426,0.0387,0.0386,0.0386,0.0427,0.0418,0.0386])\n",
        "avg_crossentropy_loss = np.sum(loss1_)/10\n",
        "print(\"avg_crossentropy_loss :\",avg_crossentropy_loss)"
      ],
      "execution_count": null,
      "outputs": [
        {
          "output_type": "stream",
          "text": [
            "avg_crossentropy_loss : 0.045340000000000005\n"
          ],
          "name": "stdout"
        }
      ]
    },
    {
      "cell_type": "code",
      "metadata": {
        "colab": {
          "base_uri": "https://localhost:8080/",
          "height": 296
        },
        "id": "jhJldtTR5B4X",
        "outputId": "08155af7-0a64-4105-b9f6-7966d9dfb508"
      },
      "source": [
        "loss11_=np.array([0.5813,0.1068,0.0762,0.0604,0.0458,0.0400,0.0367,0.0323,0.0274,0.0281])\n",
        "plt.plot(loss11_, label='loss')\n",
        "plt.xlabel('Epoch')\n",
        "plt.ylabel('loss')\n",
        "plt.ylim([0.0281,0.5813])\n",
        "plt.legend(loc='lower right')"
      ],
      "execution_count": null,
      "outputs": [
        {
          "output_type": "execute_result",
          "data": {
            "text/plain": [
              "<matplotlib.legend.Legend at 0x7f0a63337990>"
            ]
          },
          "metadata": {
            "tags": []
          },
          "execution_count": 23
        },
        {
          "output_type": "display_data",
          "data": {
            "image/png": "[encoded data removed]",
            "text/plain": [
              "<Figure size 432x288 with 1 Axes>"
            ]
          },
          "metadata": {
            "tags": [],
            "needs_background": "light"
          }
        }
      ]
    },
    {
      "cell_type": "code",
      "metadata": {
        "colab": {
          "base_uri": "https://localhost:8080/"
        },
        "id": "KkNMB9ubZ7zv",
        "outputId": "ae1b6b1c-de19-4037-fa0c-1950754fe596"
      },
      "source": [
        "cnn_results = model.evaluate(x_test,test_labels)"
      ],
      "execution_count": null,
      "outputs": [
        {
          "output_type": "stream",
          "text": [
            "313/313 [==============================] - 7s 21ms/step - loss: 0.0282 - accuracy: 0.9903\n"
          ],
          "name": "stdout"
        }
      ]
    },
    {
      "cell_type": "code",
      "metadata": {
        "colab": {
          "base_uri": "https://localhost:8080/"
        },
        "id": "ShPsXqrrnwbX",
        "outputId": "b7218eca-02d0-46ec-bdbb-1bdf527ff61e"
      },
      "source": [
        "filepath = '/content/sample_data'\n",
        "model.save(filepath=filepath)"
      ],
      "execution_count": null,
      "outputs": [
        {
          "output_type": "stream",
          "text": [
            "INFO:tensorflow:Assets written to: /content/sample_data/assets\n"
          ],
          "name": "stdout"
        }
      ]
    },
    {
      "cell_type": "markdown",
      "metadata": {
        "id": "J2rJiyNLghUy"
      },
      "source": [
        "# learning_rate schedule\n",
        "\n",
        "SGD with momentum"
      ]
    },
    {
      "cell_type": "code",
      "metadata": {
        "id": "XsRPpl7_grXu"
      },
      "source": [
        "epochs = 10\n",
        "learning_rate = 0.1\n",
        "decay_rate = learning_rate / epochs\n",
        "momentum = 0.8\n",
        "sgd = SGD(lr=learning_rate, momentum=momentum, decay=decay_rate)\n",
        "model.compile(loss='categorical_crossentropy',optimizer=sgd,metrics=['accuracy'])"
      ],
      "execution_count": null,
      "outputs": []
    },
    {
      "cell_type": "code",
      "metadata": {
        "colab": {
          "base_uri": "https://localhost:8080/"
        },
        "id": "MaQRUsGUiXHy",
        "outputId": "0c11ee93-f8ed-42c3-8a25-1a142577c54e"
      },
      "source": [
        "history = model.fit(train_X,train_labels,batch_size=64,epochs=10,verbose=1,validation_data=(val_X, val_labels))"
      ],
      "execution_count": null,
      "outputs": [
        {
          "output_type": "stream",
          "text": [
            "Epoch 1/10\n",
            "657/657 [==============================] - 96s 144ms/step - loss: 0.5352 - accuracy: 0.8299 - val_loss: 0.0802 - val_accuracy: 0.9749\n",
            "Epoch 2/10\n",
            "657/657 [==============================] - 94s 144ms/step - loss: 0.1259 - accuracy: 0.9642 - val_loss: 0.0638 - val_accuracy: 0.9795\n",
            "Epoch 3/10\n",
            "657/657 [==============================] - 95s 144ms/step - loss: 0.0951 - accuracy: 0.9720 - val_loss: 0.0594 - val_accuracy: 0.9803\n",
            "Epoch 4/10\n",
            "657/657 [==============================] - 95s 144ms/step - loss: 0.0875 - accuracy: 0.9748 - val_loss: 0.0568 - val_accuracy: 0.9817\n",
            "Epoch 5/10\n",
            "657/657 [==============================] - 94s 144ms/step - loss: 0.0798 - accuracy: 0.9760 - val_loss: 0.0548 - val_accuracy: 0.9835\n",
            "Epoch 6/10\n",
            "657/657 [==============================] - 95s 144ms/step - loss: 0.0742 - accuracy: 0.9786 - val_loss: 0.0521 - val_accuracy: 0.9838\n",
            "Epoch 7/10\n",
            "657/657 [==============================] - 94s 143ms/step - loss: 0.0729 - accuracy: 0.9777 - val_loss: 0.0515 - val_accuracy: 0.9845\n",
            "Epoch 8/10\n",
            "657/657 [==============================] - 94s 143ms/step - loss: 0.0695 - accuracy: 0.9788 - val_loss: 0.0506 - val_accuracy: 0.9853\n",
            "Epoch 9/10\n",
            "657/657 [==============================] - 94s 143ms/step - loss: 0.0646 - accuracy: 0.9805 - val_loss: 0.0499 - val_accuracy: 0.9852\n",
            "Epoch 10/10\n",
            "657/657 [==============================] - 94s 143ms/step - loss: 0.0643 - accuracy: 0.9800 - val_loss: 0.0493 - val_accuracy: 0.9849\n"
          ],
          "name": "stdout"
        }
      ]
    },
    {
      "cell_type": "code",
      "metadata": {
        "colab": {
          "base_uri": "https://localhost:8080/"
        },
        "id": "aBlJuRfZmhtP",
        "outputId": "a34a4f94-602f-4ed6-a6d2-aa6043ec68a5"
      },
      "source": [
        "loss_ = history.history['val_loss']\n",
        "avg_crossentropy_loss = np.sum(loss_)/10\n",
        "print(\"avg_crossentropy_loss :\",avg_crossentropy_loss)"
      ],
      "execution_count": null,
      "outputs": [
        {
          "output_type": "stream",
          "text": [
            "avg_crossentropy_loss : 0.05684415549039841\n"
          ],
          "name": "stdout"
        }
      ]
    },
    {
      "cell_type": "code",
      "metadata": {
        "colab": {
          "base_uri": "https://localhost:8080/",
          "height": 296
        },
        "id": "dFA5OFRL7SaJ",
        "outputId": "e580b685-480f-46d2-ecc6-1286f9d33a82"
      },
      "source": [
        "loss11_=np.array([0.5352,0.1259,0.0951,0.0875,0.0798,0.0742,0.0729,0.0695,0.0646,0.0643])\n",
        "plt.plot(loss11_, label='loss')\n",
        "plt.xlabel('Epoch')\n",
        "plt.ylabel('loss')\n",
        "plt.ylim([0.0281,0.5813])\n",
        "plt.legend(loc='lower right')"
      ],
      "execution_count": null,
      "outputs": [
        {
          "output_type": "execute_result",
          "data": {
            "text/plain": [
              "<matplotlib.legend.Legend at 0x7f0a6329bb50>"
            ]
          },
          "metadata": {
            "tags": []
          },
          "execution_count": 24
        },
        {
          "output_type": "display_data",
          "data": {
            "image/png": "[encoded data removed]",
            "text/plain": [
              "<Figure size 432x288 with 1 Axes>"
            ]
          },
          "metadata": {
            "tags": [],
            "needs_background": "light"
          }
        }
      ]
    },
    {
      "cell_type": "code",
      "metadata": {
        "colab": {
          "base_uri": "https://localhost:8080/"
        },
        "id": "UDhypsEwmUIn",
        "outputId": "260b232f-2240-4ef2-f5bb-b75e4bc219ac"
      },
      "source": [
        "cnn_results = model.evaluate(x_test,test_labels)"
      ],
      "execution_count": null,
      "outputs": [
        {
          "output_type": "stream",
          "text": [
            "313/313 [==============================] - 5s 17ms/step - loss: 0.0411 - accuracy: 0.9860\n"
          ],
          "name": "stdout"
        }
      ]
    },
    {
      "cell_type": "markdown",
      "metadata": {
        "id": "L3JZ0xumqkgi"
      },
      "source": [
        "SGD without momentum"
      ]
    },
    {
      "cell_type": "code",
      "metadata": {
        "id": "gvnZsjRfqeKY"
      },
      "source": [
        "epochs = 5\n",
        "learning_rate = 0.1\n",
        "decay_rate = learning_rate / epochs\n",
        "sgd = SGD(lr=learning_rate, decay=decay_rate)\n",
        "model.compile(loss='categorical_crossentropy',optimizer=sgd,metrics=['accuracy'])"
      ],
      "execution_count": null,
      "outputs": []
    },
    {
      "cell_type": "code",
      "metadata": {
        "colab": {
          "base_uri": "https://localhost:8080/"
        },
        "id": "W2W4WdtprOO5",
        "outputId": "6dbdbd2a-9a5e-43ba-cd5f-9f883d974f77"
      },
      "source": [
        "history = model.fit(train_X,train_labels,batch_size=64,epochs=5,verbose=1,validation_data=(val_X, val_labels))"
      ],
      "execution_count": null,
      "outputs": [
        {
          "output_type": "stream",
          "text": [
            "Epoch 1/5\n",
            "657/657 [==============================] - 109s 165ms/step - loss: 0.3279 - accuracy: 0.9033 - val_loss: 0.1552 - val_accuracy: 0.9531\n",
            "Epoch 2/5\n",
            "657/657 [==============================] - 108s 165ms/step - loss: 0.2438 - accuracy: 0.9292 - val_loss: 0.1441 - val_accuracy: 0.9562\n",
            "Epoch 3/5\n",
            "657/657 [==============================] - 108s 165ms/step - loss: 0.2273 - accuracy: 0.9346 - val_loss: 0.1388 - val_accuracy: 0.9576\n",
            "Epoch 4/5\n",
            "657/657 [==============================] - 108s 165ms/step - loss: 0.2260 - accuracy: 0.9339 - val_loss: 0.1334 - val_accuracy: 0.9584\n",
            "Epoch 5/5\n",
            "657/657 [==============================] - 109s 166ms/step - loss: 0.2122 - accuracy: 0.9390 - val_loss: 0.1310 - val_accuracy: 0.9594\n"
          ],
          "name": "stdout"
        }
      ]
    },
    {
      "cell_type": "code",
      "metadata": {
        "colab": {
          "base_uri": "https://localhost:8080/"
        },
        "id": "qDRXHndWrarj",
        "outputId": "9a6a00bb-e0ef-431f-f2f6-677ad6c7ad7c"
      },
      "source": [
        "loss_ = history.history['val_loss']\n",
        "avg_crossentropy_loss = np.sum(loss_)/10\n",
        "print(\"avg_crossentropy_loss :\",avg_crossentropy_loss)"
      ],
      "execution_count": null,
      "outputs": [
        {
          "output_type": "stream",
          "text": [
            "avg_crossentropy_loss : 0.07025593668222427\n"
          ],
          "name": "stdout"
        }
      ]
    },
    {
      "cell_type": "code",
      "metadata": {
        "colab": {
          "base_uri": "https://localhost:8080/",
          "height": 300
        },
        "id": "fbx-UXgt7v_O",
        "outputId": "f5d9fa02-53d7-4d65-8403-55bf120201cf"
      },
      "source": [
        "loss11_=np.array([0.3279,0.2438,0.2273,0.2260,0.2122])\n",
        "plt.plot(loss11_, label='loss')\n",
        "plt.xlabel('Epoch')\n",
        "plt.ylabel('loss')\n",
        "plt.ylim([0.2,0.4])\n",
        "plt.legend(loc='lower right')"
      ],
      "execution_count": null,
      "outputs": [
        {
          "output_type": "execute_result",
          "data": {
            "text/plain": [
              "<matplotlib.legend.Legend at 0x7f0a6a5f3d50>"
            ]
          },
          "metadata": {
            "tags": []
          },
          "execution_count": 26
        },
        {
          "output_type": "display_data",
          "data": {
            "image/png": "[encoded data removed]",
            "text/plain": [
              "<Figure size 432x288 with 1 Axes>"
            ]
          },
          "metadata": {
            "tags": [],
            "needs_background": "light"
          }
        }
      ]
    },
    {
      "cell_type": "code",
      "metadata": {
        "colab": {
          "base_uri": "https://localhost:8080/"
        },
        "id": "W2KnN1imrfNk",
        "outputId": "0ff85dfc-b7ab-41b2-a34a-1118f8168531"
      },
      "source": [
        "cnn_results = model.evaluate(x_test,test_labels)"
      ],
      "execution_count": null,
      "outputs": [
        {
          "output_type": "stream",
          "text": [
            "313/313 [==============================] - 7s 21ms/step - loss: 0.1237 - accuracy: 0.9636\n"
          ],
          "name": "stdout"
        }
      ]
    },
    {
      "cell_type": "markdown",
      "metadata": {
        "id": "AkhFoBltsixu"
      },
      "source": [
        "RMSprop optimizer"
      ]
    },
    {
      "cell_type": "code",
      "metadata": {
        "id": "QSjr42qIr038"
      },
      "source": [
        "# K.clear_session()\n",
        "epochs = 5\n",
        "learning_rate = 0.1\n",
        "decay_rate = learning_rate / epochs\n",
        "rms = RMSprop(lr=learning_rate, decay=decay_rate)\n",
        "model.compile(loss='categorical_crossentropy',optimizer=\"RMSprop\",metrics=['accuracy'])"
      ],
      "execution_count": null,
      "outputs": []
    },
    {
      "cell_type": "code",
      "metadata": {
        "colab": {
          "base_uri": "https://localhost:8080/"
        },
        "id": "xRFKKRo6sL5Y",
        "outputId": "65ab4e78-ce07-4349-896f-f2d27c2d8404"
      },
      "source": [
        "history = model.fit(train_X,train_labels,batch_size=64,epochs=5,verbose=1,validation_data=(val_X, val_labels))"
      ],
      "execution_count": null,
      "outputs": [
        {
          "output_type": "stream",
          "text": [
            "Epoch 1/5\n",
            "657/657 [==============================] - 109s 164ms/step - loss: 0.4861 - accuracy: 0.8434 - val_loss: 0.0888 - val_accuracy: 0.9742\n",
            "Epoch 2/5\n",
            "657/657 [==============================] - 107s 163ms/step - loss: 0.1011 - accuracy: 0.9714 - val_loss: 0.0549 - val_accuracy: 0.9836\n",
            "Epoch 3/5\n",
            "657/657 [==============================] - 107s 163ms/step - loss: 0.0779 - accuracy: 0.9773 - val_loss: 0.0489 - val_accuracy: 0.9852\n",
            "Epoch 4/5\n",
            "657/657 [==============================] - 107s 163ms/step - loss: 0.0640 - accuracy: 0.9806 - val_loss: 0.0449 - val_accuracy: 0.9857\n",
            "Epoch 5/5\n",
            "657/657 [==============================] - 107s 162ms/step - loss: 0.0618 - accuracy: 0.9827 - val_loss: 0.0701 - val_accuracy: 0.9786\n"
          ],
          "name": "stdout"
        }
      ]
    },
    {
      "cell_type": "code",
      "metadata": {
        "colab": {
          "base_uri": "https://localhost:8080/"
        },
        "id": "IMp6sEbXsZqr",
        "outputId": "9f520a93-53ac-4ab5-c320-00521081f48a"
      },
      "source": [
        "loss_ = history.history['val_loss']\n",
        "avg_crossentropy_loss = np.sum(loss_)/10\n",
        "print(\"avg_crossentropy_loss :\",avg_crossentropy_loss)"
      ],
      "execution_count": null,
      "outputs": [
        {
          "output_type": "stream",
          "text": [
            "avg_crossentropy_loss : 0.030753626301884652\n"
          ],
          "name": "stdout"
        }
      ]
    },
    {
      "cell_type": "code",
      "metadata": {
        "colab": {
          "base_uri": "https://localhost:8080/",
          "height": 300
        },
        "id": "3FP1cXYA8LAl",
        "outputId": "67f7819e-2bef-4e33-abd8-e6c63ffb73d2"
      },
      "source": [
        "loss11_=np.array([0.4861,0.1011,0.0779,0.0640,0.0618])\n",
        "plt.plot(loss11_, label='loss')\n",
        "plt.xlabel('Epoch')\n",
        "plt.ylabel('loss')\n",
        "plt.ylim([0.06,0.5])\n",
        "plt.legend(loc='lower right')"
      ],
      "execution_count": null,
      "outputs": [
        {
          "output_type": "execute_result",
          "data": {
            "text/plain": [
              "<matplotlib.legend.Legend at 0x7f0a631fc290>"
            ]
          },
          "metadata": {
            "tags": []
          },
          "execution_count": 27
        },
        {
          "output_type": "display_data",
          "data": {
            "image/png": "[encoded data removed]",
            "text/plain": [
              "<Figure size 432x288 with 1 Axes>"
            ]
          },
          "metadata": {
            "tags": [],
            "needs_background": "light"
          }
        }
      ]
    },
    {
      "cell_type": "code",
      "metadata": {
        "colab": {
          "base_uri": "https://localhost:8080/"
        },
        "id": "0-fK5tQ0scot",
        "outputId": "25cc49d3-4fb0-42f3-a9a1-5cf09bae8b2d"
      },
      "source": [
        "cnn_results = model.evaluate(x_test,test_labels)"
      ],
      "execution_count": null,
      "outputs": [
        {
          "output_type": "stream",
          "text": [
            "313/313 [==============================] - 6s 20ms/step - loss: 0.0661 - accuracy: 0.9804\n"
          ],
          "name": "stdout"
        }
      ]
    },
    {
      "cell_type": "markdown",
      "metadata": {
        "id": "oxhaR3Bk4VRe"
      },
      "source": [
        "# Xavier Uniform and Normal Weight Initialization"
      ]
    },
    {
      "cell_type": "code",
      "metadata": {
        "id": "X2ygK4KR1CVK"
      },
      "source": [
        "initializer1 = tf.keras.initializers.GlorotUniform()"
      ],
      "execution_count": 77,
      "outputs": []
    },
    {
      "cell_type": "code",
      "metadata": {
        "id": "ocFCA6k2tbQ9"
      },
      "source": [
        "model1 = models.Sequential()\n",
        "model1.add(Dense(128, activation='relu',kernel_initializer=initializer1,input_dim=784))\n",
        "model1.add(Dropout(0.3))\n",
        "model1.add(Dense(128,activation='relu',kernel_initializer=initializer1))\n",
        "model1.add(Dropout(0.3))\n",
        "model1.add(Dense(128,activation='relu',kernel_initializer=initializer1))\n",
        "model1.add(Dropout(0.2))\n",
        "model1.add(Dense(10,activation='softmax'))"
      ],
      "execution_count": 78,
      "outputs": []
    },
    {
      "cell_type": "code",
      "metadata": {
        "id": "g1WcuMNftglM"
      },
      "source": [
        "opt1 = SGD(learning_rate=0.01 , momentum = 0.8)\n",
        "model1.compile(loss='categorical_crossentropy', optimizer=opt1, metrics=['accuracy'])"
      ],
      "execution_count": 81,
      "outputs": []
    },
    {
      "cell_type": "code",
      "metadata": {
        "colab": {
          "base_uri": "https://localhost:8080/"
        },
        "id": "lULcLqQJuUhJ",
        "outputId": "913c7949-7da5-42e3-81c1-3a1a3a535ddf"
      },
      "source": [
        "history = model1.fit(train_X,train_labels,batch_size=128,epochs=10,verbose=1,validation_data=(val_X, val_labels))"
      ],
      "execution_count": 82,
      "outputs": [
        {
          "output_type": "stream",
          "text": [
            "Epoch 1/10\n",
            "329/329 [==============================] - 2s 6ms/step - loss: 0.2915 - accuracy: 0.9334 - val_loss: 0.1998 - val_accuracy: 0.9523\n",
            "Epoch 2/10\n",
            "329/329 [==============================] - 2s 5ms/step - loss: 0.2269 - accuracy: 0.9413 - val_loss: 0.1939 - val_accuracy: 0.9556\n",
            "Epoch 3/10\n",
            "329/329 [==============================] - 2s 5ms/step - loss: 0.2171 - accuracy: 0.9422 - val_loss: 0.1870 - val_accuracy: 0.9567\n",
            "Epoch 4/10\n",
            "329/329 [==============================] - 2s 5ms/step - loss: 0.2170 - accuracy: 0.9425 - val_loss: 0.1788 - val_accuracy: 0.9568\n",
            "Epoch 5/10\n",
            "329/329 [==============================] - 2s 5ms/step - loss: 0.2006 - accuracy: 0.9464 - val_loss: 0.1753 - val_accuracy: 0.9578\n",
            "Epoch 6/10\n",
            "329/329 [==============================] - 2s 5ms/step - loss: 0.2029 - accuracy: 0.9462 - val_loss: 0.1714 - val_accuracy: 0.9595\n",
            "Epoch 7/10\n",
            "329/329 [==============================] - 2s 5ms/step - loss: 0.1951 - accuracy: 0.9490 - val_loss: 0.1716 - val_accuracy: 0.9598\n",
            "Epoch 8/10\n",
            "329/329 [==============================] - 2s 5ms/step - loss: 0.1855 - accuracy: 0.9501 - val_loss: 0.1693 - val_accuracy: 0.9601\n",
            "Epoch 9/10\n",
            "329/329 [==============================] - 2s 5ms/step - loss: 0.1902 - accuracy: 0.9484 - val_loss: 0.1691 - val_accuracy: 0.9603\n",
            "Epoch 10/10\n",
            "329/329 [==============================] - 2s 6ms/step - loss: 0.1908 - accuracy: 0.9485 - val_loss: 0.1682 - val_accuracy: 0.9607\n"
          ],
          "name": "stdout"
        }
      ]
    },
    {
      "cell_type": "code",
      "metadata": {
        "colab": {
          "base_uri": "https://localhost:8080/"
        },
        "id": "hl5m9Inzwet8",
        "outputId": "7ddbe533-50d2-4b3f-e853-0ba55cab11db"
      },
      "source": [
        "cnn_results = model1.evaluate(x_test,test_labels)"
      ],
      "execution_count": 83,
      "outputs": [
        {
          "output_type": "stream",
          "text": [
            "313/313 [==============================] - 0s 1ms/step - loss: 0.1627 - accuracy: 0.9635\n"
          ],
          "name": "stdout"
        }
      ]
    },
    {
      "cell_type": "code",
      "metadata": {
        "id": "XeBqC1lPw3LF"
      },
      "source": [
        "initializer1 = tf.keras.initializers.GlorotNormal()\n",
        "\n",
        "model1 = models.Sequential()\n",
        "model1.add(Dense(512, activation='relu',kernel_initializer=initializer1,input_dim=784))\n",
        "model1.add(Dropout(0.2))\n",
        "model1.add(Dense(512,activation='relu',kernel_initializer=initializer1))\n",
        "model1.add(Dropout(0.2))\n",
        "model1.add(Dense(10,activation='softmax'))\n",
        "\n",
        "opt1 = SGD(learning_rate=0.01 , momentum = 0.8)\n",
        "model1.compile(loss='categorical_crossentropy', optimizer=opt1, metrics=['accuracy'])"
      ],
      "execution_count": 68,
      "outputs": []
    },
    {
      "cell_type": "code",
      "metadata": {
        "colab": {
          "base_uri": "https://localhost:8080/"
        },
        "id": "fZuQ5Yv7xU5f",
        "outputId": "9e8a3323-f137-40ce-ac1a-37b79647c3da"
      },
      "source": [
        "history = model1.fit(train_X,train_labels,batch_size=128,epochs=10,verbose=1,validation_data=(val_X, val_labels))"
      ],
      "execution_count": 69,
      "outputs": [
        {
          "output_type": "stream",
          "text": [
            "Epoch 1/10\n",
            "329/329 [==============================] - 6s 17ms/step - loss: 1.1715 - accuracy: 0.6646 - val_loss: 0.3354 - val_accuracy: 0.9008\n",
            "Epoch 2/10\n",
            "329/329 [==============================] - 5s 16ms/step - loss: 0.3615 - accuracy: 0.8953 - val_loss: 0.2603 - val_accuracy: 0.9237\n",
            "Epoch 3/10\n",
            "329/329 [==============================] - 5s 16ms/step - loss: 0.2792 - accuracy: 0.9206 - val_loss: 0.2165 - val_accuracy: 0.9358\n",
            "Epoch 4/10\n",
            "329/329 [==============================] - 5s 16ms/step - loss: 0.2308 - accuracy: 0.9347 - val_loss: 0.1909 - val_accuracy: 0.9424\n",
            "Epoch 5/10\n",
            "329/329 [==============================] - 5s 16ms/step - loss: 0.2039 - accuracy: 0.9414 - val_loss: 0.1686 - val_accuracy: 0.9499\n",
            "Epoch 6/10\n",
            "329/329 [==============================] - 5s 16ms/step - loss: 0.1800 - accuracy: 0.9471 - val_loss: 0.1523 - val_accuracy: 0.9541\n",
            "Epoch 7/10\n",
            "329/329 [==============================] - 5s 16ms/step - loss: 0.1632 - accuracy: 0.9529 - val_loss: 0.1419 - val_accuracy: 0.9562\n",
            "Epoch 8/10\n",
            "329/329 [==============================] - 5s 16ms/step - loss: 0.1498 - accuracy: 0.9574 - val_loss: 0.1298 - val_accuracy: 0.9606\n",
            "Epoch 9/10\n",
            "329/329 [==============================] - 5s 16ms/step - loss: 0.1326 - accuracy: 0.9607 - val_loss: 0.1215 - val_accuracy: 0.9642\n",
            "Epoch 10/10\n",
            "329/329 [==============================] - 5s 16ms/step - loss: 0.1199 - accuracy: 0.9648 - val_loss: 0.1156 - val_accuracy: 0.9651\n"
          ],
          "name": "stdout"
        }
      ]
    },
    {
      "cell_type": "code",
      "metadata": {
        "colab": {
          "base_uri": "https://localhost:8080/"
        },
        "id": "E1_jRYsFx3_F",
        "outputId": "64cafb79-41d4-4a62-8c4d-1705f72a6248"
      },
      "source": [
        "cnn_results = model1.evaluate(x_test,test_labels)"
      ],
      "execution_count": 70,
      "outputs": [
        {
          "output_type": "stream",
          "text": [
            "313/313 [==============================] - 1s 3ms/step - loss: 0.1090 - accuracy: 0.9664\n"
          ],
          "name": "stdout"
        }
      ]
    },
    {
      "cell_type": "markdown",
      "metadata": {
        "id": "Cjh0dnHG-wUc"
      },
      "source": [
        "# Different Learning Rate and exponential annealing on the learning rate."
      ]
    },
    {
      "cell_type": "markdown",
      "metadata": {
        "id": "-_7KE22sAlXs"
      },
      "source": [
        "## learning rates   0.1,0.01,0.001,0.0001"
      ]
    },
    {
      "cell_type": "code",
      "metadata": {
        "colab": {
          "base_uri": "https://localhost:8080/"
        },
        "id": "3SPCJ0Mi-udo",
        "outputId": "0d922c7f-ecff-4159-f5b1-dc3f7d6d07d4"
      },
      "source": [
        "learning_rate = 0.01\n",
        "adm = Adam(lr=learning_rate)\n",
        "model.compile(loss='categorical_crossentropy',optimizer=adm,metrics=['accuracy'])\n",
        "model.fit(train_X,train_labels,batch_size=64,epochs=2,verbose=1,validation_data=(val_X, val_labels))\n",
        "model.evaluate(x_test,test_labels)"
      ],
      "execution_count": null,
      "outputs": [
        {
          "output_type": "stream",
          "text": [
            "Epoch 1/2\n",
            "657/657 [==============================] - 112s 169ms/step - loss: 0.4852 - accuracy: 0.8438 - val_loss: 0.0605 - val_accuracy: 0.9817\n",
            "Epoch 2/2\n",
            "657/657 [==============================] - 110s 167ms/step - loss: 0.1043 - accuracy: 0.9700 - val_loss: 0.0538 - val_accuracy: 0.9843\n",
            "313/313 [==============================] - 7s 21ms/step - loss: 0.0424 - accuracy: 0.9867\n"
          ],
          "name": "stdout"
        },
        {
          "output_type": "execute_result",
          "data": {
            "text/plain": [
              "[0.04236380010843277, 0.9866999983787537]"
            ]
          },
          "metadata": {
            "tags": []
          },
          "execution_count": 9
        }
      ]
    },
    {
      "cell_type": "code",
      "metadata": {
        "id": "50pjpzVu_jii",
        "colab": {
          "base_uri": "https://localhost:8080/"
        },
        "outputId": "9bf22fc4-369c-4c08-9562-766c3e1dd022"
      },
      "source": [
        "learning_rate = 0.001\n",
        "adm = Adam(lr=learning_rate)\n",
        "model.compile(loss='categorical_crossentropy',optimizer=adm,metrics=['accuracy'])\n",
        "model.fit(train_X,train_labels,batch_size=64,epochs=2,verbose=1,validation_data=(val_X, val_labels))\n",
        "model.evaluate(x_test,test_labels)"
      ],
      "execution_count": null,
      "outputs": [
        {
          "output_type": "stream",
          "text": [
            "Epoch 1/2\n",
            "657/657 [==============================] - 112s 170ms/step - loss: 0.0904 - accuracy: 0.9744 - val_loss: 0.0424 - val_accuracy: 0.9875\n",
            "Epoch 2/2\n",
            "657/657 [==============================] - 111s 169ms/step - loss: 0.0522 - accuracy: 0.9848 - val_loss: 0.0387 - val_accuracy: 0.9893\n",
            "313/313 [==============================] - 7s 21ms/step - loss: 0.0339 - accuracy: 0.9888\n"
          ],
          "name": "stdout"
        },
        {
          "output_type": "execute_result",
          "data": {
            "text/plain": [
              "[0.033931002020835876, 0.9887999892234802]"
            ]
          },
          "metadata": {
            "tags": []
          },
          "execution_count": 11
        }
      ]
    },
    {
      "cell_type": "code",
      "metadata": {
        "id": "ghQao6SN_lSg",
        "colab": {
          "base_uri": "https://localhost:8080/"
        },
        "outputId": "a36f723c-ea34-4de4-8f1f-92209dceca49"
      },
      "source": [
        "learning_rate = 0.0001\n",
        "adm = Adam(lr=learning_rate)\n",
        "model.compile(loss='categorical_crossentropy',optimizer=adm,metrics=['accuracy'])\n",
        "model.fit(train_X,train_labels,batch_size=64,epochs=2,verbose=1,validation_data=(val_X, val_labels))\n",
        "model.evaluate(x_test,test_labels)"
      ],
      "execution_count": null,
      "outputs": [
        {
          "output_type": "stream",
          "text": [
            "Epoch 1/2\n",
            "657/657 [==============================] - 113s 171ms/step - loss: 0.0395 - accuracy: 0.9879 - val_loss: 0.0383 - val_accuracy: 0.9891\n",
            "Epoch 2/2\n",
            "657/657 [==============================] - 111s 168ms/step - loss: 0.0403 - accuracy: 0.9886 - val_loss: 0.0383 - val_accuracy: 0.9892\n",
            "313/313 [==============================] - 7s 22ms/step - loss: 0.0328 - accuracy: 0.9891\n"
          ],
          "name": "stdout"
        },
        {
          "output_type": "execute_result",
          "data": {
            "text/plain": [
              "[0.03281218558549881, 0.9890999794006348]"
            ]
          },
          "metadata": {
            "tags": []
          },
          "execution_count": 12
        }
      ]
    },
    {
      "cell_type": "markdown",
      "metadata": {
        "id": "067SfGKMz4_4"
      },
      "source": [
        "The amount that the weights are updated during training of a Neural Network is referred to as the step size or the “learning rate.”\n",
        "\n",
        "Specifically, the learning rate is a configurable hyperparameter used in the training of neural networks that has a small positive value, often in the range between 0.0 and 1.0"
      ]
    },
    {
      "cell_type": "code",
      "metadata": {
        "id": "gv_mahPcz6q-"
      },
      "source": [
        "def mlp(l_rate) :\n",
        "  model1 = models.Sequential()\n",
        "  model1.add(Dense(512, activation='relu',input_dim=784))\n",
        "  model1.add(Dropout(0.2))\n",
        "  model1.add(Dense(512,activation='relu'))\n",
        "  model1.add(Dropout(0.2))\n",
        "  model1.add(Dense(10,activation='softmax'))\n",
        "\n",
        "  opt = tf.keras.optimizers.SGD(learning_rate=l_rate , momentum = 0.8)\n",
        "\n",
        "  model1.compile(loss='categorical_crossentropy', optimizer=opt, metrics=['accuracy'])\n",
        "\n",
        "  history = model1.fit(train_X,train_labels,batch_size=128,epochs=10,verbose=1,validation_data=(val_X, val_labels))\n",
        "\n",
        "  result = model1.evaluate(x_test,test_labels)\n",
        "\n",
        "  plt.plot(history.history['loss'], label='train data')\n",
        "  plt.plot(history.history['val_loss'], label='test data')\n",
        "  plt.xlabel('Epoch')\n",
        "  plt.ylabel('Loss')\n",
        "  plt.legend(loc='upper right')\n",
        "  plt.title('\\nlearning rate = '+str(l_rate)+\"\\nLoss : \"+str(result[0])+\"\\nAccuracy : \"+str(result[1]) ,pad = -10)\n",
        "\n",
        "  return model1"
      ],
      "execution_count": 16,
      "outputs": []
    },
    {
      "cell_type": "code",
      "metadata": {
        "colab": {
          "base_uri": "https://localhost:8080/",
          "height": 1000
        },
        "id": "hkm2ofvx02jI",
        "outputId": "d6b4b4be-3f08-471e-b31b-222fc5a3f15c"
      },
      "source": [
        "learning_rates = [0.1,0.01,0.001,0.0001]\n",
        "models_ = []\n",
        "histories = []\n",
        "plt.figure(figsize=(10,10))\n",
        "for i in range(len(learning_rates)) :\n",
        "  plot_no = 420 + (i+1)\n",
        "  plt.subplot(plot_no)\n",
        "  model = mlp(learning_rates[i])\n",
        "  models_.append(model)\n",
        "  plt.subplots_adjust(wspace=0.5)\n",
        "  plt.subplots_adjust(left=0.1,bottom=0.1, right=0.9, top=0.9, hspace=0.5)\n",
        "plt.show()"
      ],
      "execution_count": 17,
      "outputs": [
        {
          "output_type": "stream",
          "text": [
            "Epoch 1/10\n",
            "329/329 [==============================] - 6s 18ms/step - loss: 0.5895 - accuracy: 0.8144 - val_loss: 0.1767 - val_accuracy: 0.9433\n",
            "Epoch 2/10\n",
            "329/329 [==============================] - 6s 17ms/step - loss: 0.1529 - accuracy: 0.9540 - val_loss: 0.1319 - val_accuracy: 0.9591\n",
            "Epoch 3/10\n",
            "329/329 [==============================] - 6s 17ms/step - loss: 0.1093 - accuracy: 0.9662 - val_loss: 0.0864 - val_accuracy: 0.9732\n",
            "Epoch 4/10\n",
            "329/329 [==============================] - 6s 17ms/step - loss: 0.0763 - accuracy: 0.9757 - val_loss: 0.0878 - val_accuracy: 0.9729\n",
            "Epoch 5/10\n",
            "329/329 [==============================] - 6s 17ms/step - loss: 0.0642 - accuracy: 0.9790 - val_loss: 0.0745 - val_accuracy: 0.9774\n",
            "Epoch 6/10\n",
            "329/329 [==============================] - 6s 17ms/step - loss: 0.0469 - accuracy: 0.9843 - val_loss: 0.0749 - val_accuracy: 0.9782\n",
            "Epoch 7/10\n",
            "329/329 [==============================] - 6s 17ms/step - loss: 0.0429 - accuracy: 0.9857 - val_loss: 0.0738 - val_accuracy: 0.9784\n",
            "Epoch 8/10\n",
            "329/329 [==============================] - 6s 17ms/step - loss: 0.0325 - accuracy: 0.9895 - val_loss: 0.0752 - val_accuracy: 0.9783\n",
            "Epoch 9/10\n",
            "329/329 [==============================] - 6s 17ms/step - loss: 0.0279 - accuracy: 0.9910 - val_loss: 0.0800 - val_accuracy: 0.9782\n",
            "Epoch 10/10\n",
            "329/329 [==============================] - 6s 17ms/step - loss: 0.0251 - accuracy: 0.9916 - val_loss: 0.0719 - val_accuracy: 0.9802\n",
            "313/313 [==============================] - 1s 3ms/step - loss: 0.0658 - accuracy: 0.9808\n",
            "Epoch 1/10\n",
            "329/329 [==============================] - 6s 18ms/step - loss: 1.1810 - accuracy: 0.6569 - val_loss: 0.3363 - val_accuracy: 0.8994\n",
            "Epoch 2/10\n",
            "329/329 [==============================] - 6s 17ms/step - loss: 0.3672 - accuracy: 0.8949 - val_loss: 0.2611 - val_accuracy: 0.9223\n",
            "Epoch 3/10\n",
            "329/329 [==============================] - 6s 17ms/step - loss: 0.2775 - accuracy: 0.9195 - val_loss: 0.2224 - val_accuracy: 0.9334\n",
            "Epoch 4/10\n",
            "329/329 [==============================] - 6s 17ms/step - loss: 0.2347 - accuracy: 0.9330 - val_loss: 0.1932 - val_accuracy: 0.9427\n",
            "Epoch 5/10\n",
            "329/329 [==============================] - 6s 17ms/step - loss: 0.2068 - accuracy: 0.9397 - val_loss: 0.1743 - val_accuracy: 0.9478\n",
            "Epoch 6/10\n",
            "329/329 [==============================] - 6s 17ms/step - loss: 0.1871 - accuracy: 0.9480 - val_loss: 0.1589 - val_accuracy: 0.9519\n",
            "Epoch 7/10\n",
            "329/329 [==============================] - 6s 17ms/step - loss: 0.1651 - accuracy: 0.9521 - val_loss: 0.1463 - val_accuracy: 0.9559\n",
            "Epoch 8/10\n",
            "329/329 [==============================] - 6s 17ms/step - loss: 0.1524 - accuracy: 0.9560 - val_loss: 0.1373 - val_accuracy: 0.9572\n",
            "Epoch 9/10\n",
            "329/329 [==============================] - 6s 17ms/step - loss: 0.1407 - accuracy: 0.9588 - val_loss: 0.1275 - val_accuracy: 0.9608\n",
            "Epoch 10/10\n",
            "329/329 [==============================] - 6s 17ms/step - loss: 0.1285 - accuracy: 0.9626 - val_loss: 0.1178 - val_accuracy: 0.9637\n",
            "313/313 [==============================] - 1s 3ms/step - loss: 0.1128 - accuracy: 0.9647\n",
            "Epoch 1/10\n",
            "329/329 [==============================] - 6s 18ms/step - loss: 2.0666 - accuracy: 0.3469 - val_loss: 1.2524 - val_accuracy: 0.7886\n",
            "Epoch 2/10\n",
            "329/329 [==============================] - 6s 17ms/step - loss: 1.1523 - accuracy: 0.7496 - val_loss: 0.7172 - val_accuracy: 0.8406\n",
            "Epoch 3/10\n",
            "329/329 [==============================] - 6s 17ms/step - loss: 0.7402 - accuracy: 0.8112 - val_loss: 0.5434 - val_accuracy: 0.8658\n",
            "Epoch 4/10\n",
            "329/329 [==============================] - 6s 17ms/step - loss: 0.5992 - accuracy: 0.8365 - val_loss: 0.4634 - val_accuracy: 0.8775\n",
            "Epoch 5/10\n",
            "329/329 [==============================] - 6s 17ms/step - loss: 0.5240 - accuracy: 0.8514 - val_loss: 0.4186 - val_accuracy: 0.8853\n",
            "Epoch 6/10\n",
            "329/329 [==============================] - 6s 17ms/step - loss: 0.4756 - accuracy: 0.8640 - val_loss: 0.3870 - val_accuracy: 0.8917\n",
            "Epoch 7/10\n",
            "329/329 [==============================] - 6s 18ms/step - loss: 0.4354 - accuracy: 0.8743 - val_loss: 0.3651 - val_accuracy: 0.8975\n",
            "Epoch 8/10\n",
            "329/329 [==============================] - 6s 17ms/step - loss: 0.4110 - accuracy: 0.8807 - val_loss: 0.3483 - val_accuracy: 0.9015\n",
            "Epoch 9/10\n",
            "329/329 [==============================] - 6s 17ms/step - loss: 0.3926 - accuracy: 0.8876 - val_loss: 0.3353 - val_accuracy: 0.9041\n",
            "Epoch 10/10\n",
            "329/329 [==============================] - 6s 18ms/step - loss: 0.3835 - accuracy: 0.8902 - val_loss: 0.3227 - val_accuracy: 0.9079\n",
            "313/313 [==============================] - 1s 3ms/step - loss: 0.3070 - accuracy: 0.9150\n",
            "Epoch 1/10\n",
            "329/329 [==============================] - 6s 18ms/step - loss: 2.3234 - accuracy: 0.1146 - val_loss: 2.2056 - val_accuracy: 0.2629\n",
            "Epoch 2/10\n",
            "329/329 [==============================] - 6s 17ms/step - loss: 2.2038 - accuracy: 0.2171 - val_loss: 2.0925 - val_accuracy: 0.4581\n",
            "Epoch 3/10\n",
            "329/329 [==============================] - 6s 17ms/step - loss: 2.0961 - accuracy: 0.3444 - val_loss: 1.9841 - val_accuracy: 0.5732\n",
            "Epoch 4/10\n",
            "329/329 [==============================] - 6s 17ms/step - loss: 1.9951 - accuracy: 0.4504 - val_loss: 1.8758 - val_accuracy: 0.6487\n",
            "Epoch 5/10\n",
            "329/329 [==============================] - 6s 17ms/step - loss: 1.8933 - accuracy: 0.5292 - val_loss: 1.7668 - val_accuracy: 0.6884\n",
            "Epoch 6/10\n",
            "329/329 [==============================] - 6s 17ms/step - loss: 1.7897 - accuracy: 0.5887 - val_loss: 1.6573 - val_accuracy: 0.7130\n",
            "Epoch 7/10\n",
            "329/329 [==============================] - 6s 17ms/step - loss: 1.6837 - accuracy: 0.6335 - val_loss: 1.5492 - val_accuracy: 0.7311\n",
            "Epoch 8/10\n",
            "329/329 [==============================] - 6s 17ms/step - loss: 1.5829 - accuracy: 0.6590 - val_loss: 1.4442 - val_accuracy: 0.7467\n",
            "Epoch 9/10\n",
            "329/329 [==============================] - 6s 18ms/step - loss: 1.4834 - accuracy: 0.6831 - val_loss: 1.3446 - val_accuracy: 0.7610\n",
            "Epoch 10/10\n",
            "329/329 [==============================] - 6s 17ms/step - loss: 1.3897 - accuracy: 0.7000 - val_loss: 1.2519 - val_accuracy: 0.7711\n",
            "313/313 [==============================] - 1s 3ms/step - loss: 1.2279 - accuracy: 0.7826\n"
          ],
          "name": "stdout"
        },
        {
          "output_type": "display_data",
          "data": {
            "image/png": "[encoded data removed]",
            "text/plain": [
              "<Figure size 720x720 with 4 Axes>"
            ]
          },
          "metadata": {
            "tags": [],
            "needs_background": "light"
          }
        }
      ]
    },
    {
      "cell_type": "markdown",
      "metadata": {
        "id": "iqSFtYb_9LwT"
      },
      "source": [
        "as we see that large learning rate give higher accuracy as compared to the lower learning rate"
      ]
    },
    {
      "cell_type": "markdown",
      "metadata": {
        "id": "Qd3NVOjB7mPQ"
      },
      "source": [
        "## saving best model and load model"
      ]
    },
    {
      "cell_type": "code",
      "metadata": {
        "colab": {
          "base_uri": "https://localhost:8080/"
        },
        "id": "flRpC0i57pIE",
        "outputId": "0e32f7a0-683e-414e-a3fa-2055fba4e9bd"
      },
      "source": [
        "filepath=\"/content/sample_data\"\n",
        "models_[0].save(filepath=filepath)"
      ],
      "execution_count": 22,
      "outputs": [
        {
          "output_type": "stream",
          "text": [
            "INFO:tensorflow:Assets written to: /content/sample_data/assets\n"
          ],
          "name": "stdout"
        }
      ]
    },
    {
      "cell_type": "code",
      "metadata": {
        "colab": {
          "base_uri": "https://localhost:8080/"
        },
        "id": "36YIfC1o8DKC",
        "outputId": "4d6c82a2-7167-437f-d363-ef10460a4b87"
      },
      "source": [
        "best_model = models.load_model(filepath=filepath)\n",
        "best_model.summary()"
      ],
      "execution_count": 24,
      "outputs": [
        {
          "output_type": "stream",
          "text": [
            "Model: \"sequential_4\"\n",
            "_________________________________________________________________\n",
            "Layer (type)                 Output Shape              Param #   \n",
            "=================================================================\n",
            "dense_12 (Dense)             (None, 512)               401920    \n",
            "_________________________________________________________________\n",
            "dropout_8 (Dropout)          (None, 512)               0         \n",
            "_________________________________________________________________\n",
            "dense_13 (Dense)             (None, 512)               262656    \n",
            "_________________________________________________________________\n",
            "dropout_9 (Dropout)          (None, 512)               0         \n",
            "_________________________________________________________________\n",
            "dense_14 (Dense)             (None, 10)                5130      \n",
            "=================================================================\n",
            "Total params: 669,706\n",
            "Trainable params: 669,706\n",
            "Non-trainable params: 0\n",
            "_________________________________________________________________\n"
          ],
          "name": "stdout"
        }
      ]
    }
  ]
}